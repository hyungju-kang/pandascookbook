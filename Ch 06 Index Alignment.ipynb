{
 "cells": [
  {
   "cell_type": "markdown",
   "metadata": {},
   "source": [
    "# Chapter 6 : Index Alignment"
   ]
  },
  {
   "cell_type": "markdown",
   "metadata": {},
   "source": [
    "## Recipes\n",
    "* [6.1 Examining the Index object](#6.1-Examining-the-Index-object)\n",
    "* [6.2 Producing Cartesian product](#6.2-Producing-Cartesian-product)\n",
    "* [6.3 Exploding Indexes](#6.3-Exploding-Indexes)\n",
    "* [6.4 Filling values with unequal indexes](#6.4-Filling-values-with-unequal-indexes)\n",
    "* [6.5 Appending columns from different DataFrames](#6.5-Appending-columns-from-different-DataFrames)\n",
    "* [6.6 Highlighting maximum value from each column](#6.6-Highlighting-maximum-value-from-each-column)\n",
    "* [6.7 Replicating idxmax with method chaining](#6.7-Replicating-idxmax-with-method-chaining)\n",
    "* [6.8 Finding the most common maximum](#6.8-Finding-the-most-common-maximum)"
   ]
  },
  {
   "cell_type": "code",
   "execution_count": 1,
   "metadata": {},
   "outputs": [],
   "source": [
    "import pandas as pd\n",
    "import numpy as np"
   ]
  },
  {
   "cell_type": "markdown",
   "metadata": {},
   "source": [
    "# 6.1 Examining the Index object"
   ]
  },
  {
   "cell_type": "code",
   "execution_count": 2,
   "metadata": {},
   "outputs": [],
   "source": [
    "### [Tech] Index object의  values 는 NumPy ndarray로 구성되어 동일한 기능 수행이 가능하다.\n",
    "###     인덱싱, 슬라이싱, 팬시 인덱싱, 산술 메소드, 산술 연산 및 비교 연산이 가능하다. \n",
    "###     단 , Index 는 불변 객체이므로 값의 변경은 불가능하다. \n",
    "### [Goal] college 의 column Index를 통해 Index object의 특성 파악"
   ]
  },
  {
   "cell_type": "markdown",
   "metadata": {},
   "source": [
    "## >> How it works..."
   ]
  },
  {
   "cell_type": "code",
   "execution_count": 3,
   "metadata": {},
   "outputs": [
    {
     "data": {
      "text/plain": [
       "Index(['INSTNM', 'CITY', 'STABBR', 'HBCU', 'MENONLY', 'WOMENONLY', 'RELAFFIL',\n",
       "       'SATVRMID', 'SATMTMID', 'DISTANCEONLY', 'UGDS', 'UGDS_WHITE',\n",
       "       'UGDS_BLACK', 'UGDS_HISP', 'UGDS_ASIAN', 'UGDS_AIAN', 'UGDS_NHPI',\n",
       "       'UGDS_2MOR', 'UGDS_NRA', 'UGDS_UNKN', 'PPTUG_EF', 'CURROPER', 'PCTPELL',\n",
       "       'PCTFLOAN', 'UG25ABV', 'MD_EARN_WNE_P10', 'GRAD_DEBT_MDN_SUPP'],\n",
       "      dtype='object')"
      ]
     },
     "execution_count": 3,
     "metadata": {},
     "output_type": "execute_result"
    }
   ],
   "source": [
    "# 6.1.1  college.csv로 부터 college를 load 하고, columns index를 변수 columns에 할당한다. \n",
    "college = pd.read_csv('data/college.csv')\n",
    "columns = college.columns\n",
    "columns  # columns 객체는 Index 이다. "
   ]
  },
  {
   "cell_type": "code",
   "execution_count": 4,
   "metadata": {},
   "outputs": [
    {
     "data": {
      "text/plain": [
       "array(['INSTNM', 'CITY', 'STABBR', 'HBCU', 'MENONLY', 'WOMENONLY',\n",
       "       'RELAFFIL', 'SATVRMID', 'SATMTMID', 'DISTANCEONLY', 'UGDS',\n",
       "       'UGDS_WHITE', 'UGDS_BLACK', 'UGDS_HISP', 'UGDS_ASIAN', 'UGDS_AIAN',\n",
       "       'UGDS_NHPI', 'UGDS_2MOR', 'UGDS_NRA', 'UGDS_UNKN', 'PPTUG_EF',\n",
       "       'CURROPER', 'PCTPELL', 'PCTFLOAN', 'UG25ABV', 'MD_EARN_WNE_P10',\n",
       "       'GRAD_DEBT_MDN_SUPP'], dtype=object)"
      ]
     },
     "execution_count": 4,
     "metadata": {},
     "output_type": "execute_result"
    }
   ],
   "source": [
    "# 6.1.2  column Index의 values 는  ndarray 형태로 컬럼명을 갖고 있다. \n",
    "columns.values"
   ]
  },
  {
   "cell_type": "code",
   "execution_count": 5,
   "metadata": {},
   "outputs": [
    {
     "data": {
      "text/plain": [
       "'WOMENONLY'"
      ]
     },
     "execution_count": 5,
     "metadata": {},
     "output_type": "execute_result"
    }
   ],
   "source": [
    "# 6.1.3 Index 객체에서 인덱싱,  팬시 인덱싱 ,  슬라이싱이 잘 작동한다. \n",
    "columns[5]"
   ]
  },
  {
   "cell_type": "code",
   "execution_count": 6,
   "metadata": {},
   "outputs": [
    {
     "data": {
      "text/plain": [
       "Index(['CITY', 'WOMENONLY', 'SATMTMID', 'UGDS'], dtype='object')"
      ]
     },
     "execution_count": 6,
     "metadata": {},
     "output_type": "execute_result"
    }
   ],
   "source": [
    "columns[[1,5, 8,10]]"
   ]
  },
  {
   "cell_type": "code",
   "execution_count": 7,
   "metadata": {},
   "outputs": [
    {
     "data": {
      "text/plain": [
       "Index(['PPTUG_EF', 'CURROPER', 'PCTPELL'], dtype='object')"
      ]
     },
     "execution_count": 7,
     "metadata": {},
     "output_type": "execute_result"
    }
   ],
   "source": [
    "columns[-7:-4]"
   ]
  },
  {
   "cell_type": "code",
   "execution_count": 8,
   "metadata": {},
   "outputs": [
    {
     "data": {
      "text/plain": [
       "('CITY', 'WOMENONLY', 0)"
      ]
     },
     "execution_count": 8,
     "metadata": {},
     "output_type": "execute_result"
    }
   ],
   "source": [
    "# 6.1.4 Index 객체에서 최소, 최대, 및 누락값 확인  메소드 등이 잘 작송한다.  \n",
    "columns.min(), columns.max(), columns.isnull().sum()"
   ]
  },
  {
   "cell_type": "code",
   "execution_count": 9,
   "metadata": {},
   "outputs": [
    {
     "data": {
      "text/plain": [
       "Index(['INSTNM_A', 'CITY_A', 'STABBR_A', 'HBCU_A', 'MENONLY_A', 'WOMENONLY_A',\n",
       "       'RELAFFIL_A', 'SATVRMID_A', 'SATMTMID_A', 'DISTANCEONLY_A', 'UGDS_A',\n",
       "       'UGDS_WHITE_A', 'UGDS_BLACK_A', 'UGDS_HISP_A', 'UGDS_ASIAN_A',\n",
       "       'UGDS_AIAN_A', 'UGDS_NHPI_A', 'UGDS_2MOR_A', 'UGDS_NRA_A',\n",
       "       'UGDS_UNKN_A', 'PPTUG_EF_A', 'CURROPER_A', 'PCTPELL_A', 'PCTFLOAN_A',\n",
       "       'UG25ABV_A', 'MD_EARN_WNE_P10_A', 'GRAD_DEBT_MDN_SUPP_A'],\n",
       "      dtype='object')"
      ]
     },
     "execution_count": 9,
     "metadata": {},
     "output_type": "execute_result"
    }
   ],
   "source": [
    "# 6.1.5 Index 객체에서  산술연산,  비교연산이 잘 작동한다. \n",
    "columns + '_A'"
   ]
  },
  {
   "cell_type": "code",
   "execution_count": 10,
   "metadata": {},
   "outputs": [
    {
     "data": {
      "text/plain": [
       "array([ True, False,  True,  True,  True,  True,  True,  True,  True,\n",
       "       False,  True,  True,  True,  True,  True,  True,  True,  True,\n",
       "        True,  True,  True, False,  True,  True,  True,  True,  True])"
      ]
     },
     "execution_count": 10,
     "metadata": {},
     "output_type": "execute_result"
    }
   ],
   "source": [
    "columns > 'G'"
   ]
  },
  {
   "cell_type": "code",
   "execution_count": 11,
   "metadata": {
    "scrolled": true
   },
   "outputs": [
    {
     "ename": "TypeError",
     "evalue": "Index does not support mutable operations",
     "output_type": "error",
     "traceback": [
      "\u001b[1;31m---------------------------------------------------------------------------\u001b[0m",
      "\u001b[1;31mTypeError\u001b[0m                                 Traceback (most recent call last)",
      "\u001b[1;32m<ipython-input-11-ffd96bb011ab>\u001b[0m in \u001b[0;36m<module>\u001b[1;34m\u001b[0m\n\u001b[0;32m      1\u001b[0m \u001b[1;31m# 6.1.6 단, 인덱스 객체는 불변 immutable 이라서 값의 변경은 불가능하다.\u001b[0m\u001b[1;33m\u001b[0m\u001b[1;33m\u001b[0m\u001b[1;33m\u001b[0m\u001b[0m\n\u001b[1;32m----> 2\u001b[1;33m \u001b[0mcolumns\u001b[0m\u001b[1;33m[\u001b[0m\u001b[1;36m1\u001b[0m\u001b[1;33m]\u001b[0m \u001b[1;33m=\u001b[0m \u001b[1;34m'city'\u001b[0m\u001b[1;33m\u001b[0m\u001b[1;33m\u001b[0m\u001b[0m\n\u001b[0m",
      "\u001b[1;32mC:\\ProgramData\\Anaconda3\\lib\\site-packages\\pandas\\core\\indexes\\base.py\u001b[0m in \u001b[0;36m__setitem__\u001b[1;34m(self, key, value)\u001b[0m\n\u001b[0;32m   4258\u001b[0m \u001b[1;33m\u001b[0m\u001b[0m\n\u001b[0;32m   4259\u001b[0m     \u001b[1;32mdef\u001b[0m \u001b[0m__setitem__\u001b[0m\u001b[1;33m(\u001b[0m\u001b[0mself\u001b[0m\u001b[1;33m,\u001b[0m \u001b[0mkey\u001b[0m\u001b[1;33m,\u001b[0m \u001b[0mvalue\u001b[0m\u001b[1;33m)\u001b[0m\u001b[1;33m:\u001b[0m\u001b[1;33m\u001b[0m\u001b[1;33m\u001b[0m\u001b[0m\n\u001b[1;32m-> 4260\u001b[1;33m         \u001b[1;32mraise\u001b[0m \u001b[0mTypeError\u001b[0m\u001b[1;33m(\u001b[0m\u001b[1;34m\"Index does not support mutable operations\"\u001b[0m\u001b[1;33m)\u001b[0m\u001b[1;33m\u001b[0m\u001b[1;33m\u001b[0m\u001b[0m\n\u001b[0m\u001b[0;32m   4261\u001b[0m \u001b[1;33m\u001b[0m\u001b[0m\n\u001b[0;32m   4262\u001b[0m     \u001b[1;32mdef\u001b[0m \u001b[0m__getitem__\u001b[0m\u001b[1;33m(\u001b[0m\u001b[0mself\u001b[0m\u001b[1;33m,\u001b[0m \u001b[0mkey\u001b[0m\u001b[1;33m)\u001b[0m\u001b[1;33m:\u001b[0m\u001b[1;33m\u001b[0m\u001b[1;33m\u001b[0m\u001b[0m\n",
      "\u001b[1;31mTypeError\u001b[0m: Index does not support mutable operations"
     ]
    }
   ],
   "source": [
    "# 6.1.6 단, 인덱스 객체는 불변 immutable 이라서 값의 변경은 불가능하다. \n",
    "columns[1] = 'city'"
   ]
  },
  {
   "cell_type": "markdown",
   "metadata": {},
   "source": [
    "## >> There's more 6.1"
   ]
  },
  {
   "cell_type": "code",
   "execution_count": 12,
   "metadata": {},
   "outputs": [],
   "source": [
    "# 인덱스는 중복 된 값을 갖지 않을 경우, 해시 hash 테이블로 구현하여 행과 열의 선택이 빠르다. \n",
    "# 해시로 구현하기 위해서는 딕셔너리의 키 처럼 불변 데이터 immutable data (문자열 , 정수, 튜플)만\n",
    "# 가능하다. "
   ]
  },
  {
   "cell_type": "code",
   "execution_count": 13,
   "metadata": {},
   "outputs": [
    {
     "data": {
      "text/plain": [
       "Index(['INSTNM', 'CITY', 'STABBR', 'HBCU'], dtype='object')"
      ]
     },
     "execution_count": 13,
     "metadata": {},
     "output_type": "execute_result"
    }
   ],
   "source": [
    "# 인덱스는 unique 한 값으로 구성 된 경우,  집합 연산을 지원한다. \n",
    "c1 = columns[:4]\n",
    "c1"
   ]
  },
  {
   "cell_type": "code",
   "execution_count": 14,
   "metadata": {},
   "outputs": [
    {
     "data": {
      "text/plain": [
       "Index(['STABBR', 'HBCU', 'MENONLY'], dtype='object')"
      ]
     },
     "execution_count": 14,
     "metadata": {},
     "output_type": "execute_result"
    }
   ],
   "source": [
    "c2 = columns[2:5]\n",
    "c2"
   ]
  },
  {
   "cell_type": "code",
   "execution_count": 15,
   "metadata": {},
   "outputs": [
    {
     "data": {
      "text/plain": [
       "Index(['CITY', 'HBCU', 'INSTNM', 'MENONLY', 'STABBR'], dtype='object')"
      ]
     },
     "execution_count": 15,
     "metadata": {},
     "output_type": "execute_result"
    }
   ],
   "source": [
    "c1.union(c2)   # c1 | c2"
   ]
  },
  {
   "cell_type": "code",
   "execution_count": 16,
   "metadata": {},
   "outputs": [
    {
     "data": {
      "text/plain": [
       "Index(['CITY', 'INSTNM', 'MENONLY'], dtype='object')"
      ]
     },
     "execution_count": 16,
     "metadata": {},
     "output_type": "execute_result"
    }
   ],
   "source": [
    "c1.symmetric_difference(c2)"
   ]
  },
  {
   "cell_type": "markdown",
   "metadata": {},
   "source": [
    "# 6.2  Producing Cartesian product"
   ]
  },
  {
   "cell_type": "code",
   "execution_count": 17,
   "metadata": {},
   "outputs": [],
   "source": [
    "### [Tech] Index의 개수와 순서가 일치 하지 않는 경우, DF과 DF, Series와 DF, Series와 Series\n",
    "###       연산에서 같은 Index 값 내에서 cartesian product 연산이 일어난다. \n",
    "### [Goal] 인덱스의 일부가 서로 다른 series 연산의 작동 방식 확인"
   ]
  },
  {
   "cell_type": "markdown",
   "metadata": {},
   "source": [
    "## >> How it works..."
   ]
  },
  {
   "cell_type": "code",
   "execution_count": 18,
   "metadata": {
    "scrolled": true
   },
   "outputs": [
    {
     "data": {
      "text/plain": [
       "a    10\n",
       "a    20\n",
       "a    30\n",
       "b    40\n",
       "c    50\n",
       "d    60\n",
       "d    70\n",
       "e    80\n",
       "dtype: int32"
      ]
     },
     "execution_count": 18,
     "metadata": {},
     "output_type": "execute_result"
    }
   ],
   "source": [
    "# 6.2.1 (이해도를 위해서 교재와 값을 달리함)\n",
    "s1 = pd.Series(index=list('aaabcdde'), data=np.arange(10,90,10))\n",
    "s1"
   ]
  },
  {
   "cell_type": "code",
   "execution_count": 19,
   "metadata": {},
   "outputs": [
    {
     "data": {
      "text/plain": [
       "a    1\n",
       "a    2\n",
       "b    3\n",
       "b    4\n",
       "c    5\n",
       "d    6\n",
       "d    7\n",
       "dtype: int32"
      ]
     },
     "execution_count": 19,
     "metadata": {},
     "output_type": "execute_result"
    }
   ],
   "source": [
    "s2 = pd.Series(index=list('aabbcdd'), data=np.arange(1,8))\n",
    "s2"
   ]
  },
  {
   "cell_type": "code",
   "execution_count": 20,
   "metadata": {
    "scrolled": true
   },
   "outputs": [
    {
     "data": {
      "text/plain": [
       "a    11.0\n",
       "a    12.0\n",
       "a    21.0\n",
       "a    22.0\n",
       "a    31.0\n",
       "a    32.0\n",
       "b    43.0\n",
       "b    44.0\n",
       "c    55.0\n",
       "d    66.0\n",
       "d    67.0\n",
       "d    76.0\n",
       "d    77.0\n",
       "e     NaN\n",
       "dtype: float64"
      ]
     },
     "execution_count": 20,
     "metadata": {},
     "output_type": "execute_result"
    }
   ],
   "source": [
    "# 6.2.2 서로 다른 인덱스를 갖는 두 객체간의 연산에서 \n",
    "#        동일한 인덱스 간에  각각 카테시안 곱이 발생한다. \n",
    "# a : s1에서 3개, s2에서 2개  3x2  6개의 연산 발생\n",
    "# b : s1에서 1개, s2에서 2개  1x2  2개의 연산 발생\n",
    "# c : s1에서 1개, s2에서 1개  1x1  1개의 연산 발생\n",
    "# d : s1에서 2개, s2에서 2개  2x2  4개의 연산 발생 \n",
    "# e : s1에서 1개, s2에서 0개   연산이 불가해서 NaN 값을 갖는다. \n",
    "s1+s2"
   ]
  },
  {
   "cell_type": "markdown",
   "metadata": {},
   "source": [
    "## >> There's more 6.2"
   ]
  },
  {
   "cell_type": "code",
   "execution_count": 21,
   "metadata": {},
   "outputs": [
    {
     "data": {
      "text/plain": [
       "a    10\n",
       "a    21\n",
       "a    32\n",
       "b    43\n",
       "b    54\n",
       "dtype: int32"
      ]
     },
     "execution_count": 21,
     "metadata": {},
     "output_type": "execute_result"
    }
   ],
   "source": [
    "# 동일한 인덱스 구조를 갖는 경우, 1대1로 매칭하여 연산한다. \n",
    "s1 = pd.Series(index=list('aaabb'), data=np.arange(10,60,10))\n",
    "s2 = pd.Series(index=list('aaabb'), data=np.arange(5))\n",
    "s1 + s2"
   ]
  },
  {
   "cell_type": "code",
   "execution_count": 22,
   "metadata": {},
   "outputs": [
    {
     "data": {
      "text/plain": [
       "a    12\n",
       "a    13\n",
       "a    14\n",
       "a    22\n",
       "a    23\n",
       "a    24\n",
       "a    32\n",
       "a    33\n",
       "a    34\n",
       "b    40\n",
       "b    41\n",
       "b    50\n",
       "b    51\n",
       "dtype: int32"
      ]
     },
     "execution_count": 22,
     "metadata": {},
     "output_type": "execute_result"
    }
   ],
   "source": [
    "#  동일한 개수 만큼 인덱스가 나타나더라도 순서가 다르면, 같은 인덱스 끼리 카테시안 곱을 수행한다. \n",
    "s1 = pd.Series(index=list('aaabb'), data=np.arange(10,60,10))\n",
    "s2 = pd.Series(index=list('bbaaa'), data=np.arange(5))\n",
    "s1 + s2"
   ]
  },
  {
   "cell_type": "markdown",
   "metadata": {},
   "source": [
    "# 6.3 Exploding Indexes"
   ]
  },
  {
   "cell_type": "code",
   "execution_count": 23,
   "metadata": {},
   "outputs": [],
   "source": [
    "### [Tech] 중복된 값을 갖는 ( unique 하지 않은) 인덱스를 갖는 객체간 연산시,, \n",
    "###        카테시안 곱의 발생으로 인덱스 개수가 팽창 할 수 있다.\n",
    "### [Goal] employee의 RACE를 인덱스 (인덱스가 중복되는 값을 가짐)로 하는 연산에서 \n",
    "### 발생할 수 있는 오류 사항을 검토 한다. "
   ]
  },
  {
   "cell_type": "markdown",
   "metadata": {},
   "source": [
    "## >> How it works..."
   ]
  },
  {
   "cell_type": "code",
   "execution_count": 24,
   "metadata": {
    "scrolled": true
   },
   "outputs": [
    {
     "data": {
      "text/html": [
       "<div>\n",
       "<style scoped>\n",
       "    .dataframe tbody tr th:only-of-type {\n",
       "        vertical-align: middle;\n",
       "    }\n",
       "\n",
       "    .dataframe tbody tr th {\n",
       "        vertical-align: top;\n",
       "    }\n",
       "\n",
       "    .dataframe thead th {\n",
       "        text-align: right;\n",
       "    }\n",
       "</style>\n",
       "<table border=\"1\" class=\"dataframe\">\n",
       "  <thead>\n",
       "    <tr style=\"text-align: right;\">\n",
       "      <th></th>\n",
       "      <th>UNIQUE_ID</th>\n",
       "      <th>POSITION_TITLE</th>\n",
       "      <th>DEPARTMENT</th>\n",
       "      <th>BASE_SALARY</th>\n",
       "      <th>EMPLOYMENT_TYPE</th>\n",
       "      <th>GENDER</th>\n",
       "      <th>EMPLOYMENT_STATUS</th>\n",
       "      <th>HIRE_DATE</th>\n",
       "      <th>JOB_DATE</th>\n",
       "    </tr>\n",
       "    <tr>\n",
       "      <th>RACE</th>\n",
       "      <th></th>\n",
       "      <th></th>\n",
       "      <th></th>\n",
       "      <th></th>\n",
       "      <th></th>\n",
       "      <th></th>\n",
       "      <th></th>\n",
       "      <th></th>\n",
       "      <th></th>\n",
       "    </tr>\n",
       "  </thead>\n",
       "  <tbody>\n",
       "    <tr>\n",
       "      <td>Hispanic/Latino</td>\n",
       "      <td>0</td>\n",
       "      <td>ASSISTANT DIRECTOR (EX LVL)</td>\n",
       "      <td>Municipal Courts Department</td>\n",
       "      <td>121862.0</td>\n",
       "      <td>Full Time</td>\n",
       "      <td>Female</td>\n",
       "      <td>Active</td>\n",
       "      <td>2006-06-12</td>\n",
       "      <td>2012-10-13</td>\n",
       "    </tr>\n",
       "    <tr>\n",
       "      <td>Hispanic/Latino</td>\n",
       "      <td>1</td>\n",
       "      <td>LIBRARY ASSISTANT</td>\n",
       "      <td>Library</td>\n",
       "      <td>26125.0</td>\n",
       "      <td>Full Time</td>\n",
       "      <td>Female</td>\n",
       "      <td>Active</td>\n",
       "      <td>2000-07-19</td>\n",
       "      <td>2010-09-18</td>\n",
       "    </tr>\n",
       "    <tr>\n",
       "      <td>White</td>\n",
       "      <td>2</td>\n",
       "      <td>POLICE OFFICER</td>\n",
       "      <td>Houston Police Department-HPD</td>\n",
       "      <td>45279.0</td>\n",
       "      <td>Full Time</td>\n",
       "      <td>Male</td>\n",
       "      <td>Active</td>\n",
       "      <td>2015-02-03</td>\n",
       "      <td>2015-02-03</td>\n",
       "    </tr>\n",
       "    <tr>\n",
       "      <td>White</td>\n",
       "      <td>3</td>\n",
       "      <td>ENGINEER/OPERATOR</td>\n",
       "      <td>Houston Fire Department (HFD)</td>\n",
       "      <td>63166.0</td>\n",
       "      <td>Full Time</td>\n",
       "      <td>Male</td>\n",
       "      <td>Active</td>\n",
       "      <td>1982-02-08</td>\n",
       "      <td>1991-05-25</td>\n",
       "    </tr>\n",
       "    <tr>\n",
       "      <td>White</td>\n",
       "      <td>4</td>\n",
       "      <td>ELECTRICIAN</td>\n",
       "      <td>General Services Department</td>\n",
       "      <td>56347.0</td>\n",
       "      <td>Full Time</td>\n",
       "      <td>Male</td>\n",
       "      <td>Active</td>\n",
       "      <td>1989-06-19</td>\n",
       "      <td>1994-10-22</td>\n",
       "    </tr>\n",
       "  </tbody>\n",
       "</table>\n",
       "</div>"
      ],
      "text/plain": [
       "                 UNIQUE_ID               POSITION_TITLE  \\\n",
       "RACE                                                      \n",
       "Hispanic/Latino          0  ASSISTANT DIRECTOR (EX LVL)   \n",
       "Hispanic/Latino          1            LIBRARY ASSISTANT   \n",
       "White                    2               POLICE OFFICER   \n",
       "White                    3            ENGINEER/OPERATOR   \n",
       "White                    4                  ELECTRICIAN   \n",
       "\n",
       "                                    DEPARTMENT  BASE_SALARY EMPLOYMENT_TYPE  \\\n",
       "RACE                                                                          \n",
       "Hispanic/Latino    Municipal Courts Department     121862.0       Full Time   \n",
       "Hispanic/Latino                        Library      26125.0       Full Time   \n",
       "White            Houston Police Department-HPD      45279.0       Full Time   \n",
       "White            Houston Fire Department (HFD)      63166.0       Full Time   \n",
       "White              General Services Department      56347.0       Full Time   \n",
       "\n",
       "                 GENDER EMPLOYMENT_STATUS   HIRE_DATE    JOB_DATE  \n",
       "RACE                                                               \n",
       "Hispanic/Latino  Female            Active  2006-06-12  2012-10-13  \n",
       "Hispanic/Latino  Female            Active  2000-07-19  2010-09-18  \n",
       "White              Male            Active  2015-02-03  2015-02-03  \n",
       "White              Male            Active  1982-02-08  1991-05-25  \n",
       "White              Male            Active  1989-06-19  1994-10-22  "
      ]
     },
     "execution_count": 24,
     "metadata": {},
     "output_type": "execute_result"
    }
   ],
   "source": [
    "# 6.3.1 employee.csv로 부터 RACE를 인덱스로 하는 employee를 읽어 들인다. \n",
    "employee = pd.read_csv('data/employee.csv', index_col='RACE')\n",
    "employee.head()"
   ]
  },
  {
   "cell_type": "code",
   "execution_count": 25,
   "metadata": {},
   "outputs": [
    {
     "data": {
      "text/plain": [
       "True"
      ]
     },
     "execution_count": 25,
     "metadata": {},
     "output_type": "execute_result"
    }
   ],
   "source": [
    "# 6.3.2 기본급에 대한 Series 2개를 생성한다.이 때, 단순히 employee['BASE_SALARY']를 할당하면, \n",
    "#       해당 Series의 view에 대한 reference를 갖게 되므로 주의 한다. \n",
    "salary1 = employee['BASE_SALARY']\n",
    "salary2 = employee['BASE_SALARY']\n",
    "salary1 is salary2     # 2 개의 변수가 같은 객체임"
   ]
  },
  {
   "cell_type": "code",
   "execution_count": 26,
   "metadata": {},
   "outputs": [
    {
     "data": {
      "text/plain": [
       "False"
      ]
     },
     "execution_count": 26,
     "metadata": {},
     "output_type": "execute_result"
    }
   ],
   "source": [
    "# 6.3.3 .copy() 메소드를 활용해서 복사본으로 2개의 급여 Series를 생성한다. \n",
    "salary1 = employee['BASE_SALARY'].copy()\n",
    "salary2 = employee['BASE_SALARY'].copy()\n",
    "salary1 is salary2    # 서로 다른 객체임"
   ]
  },
  {
   "cell_type": "code",
   "execution_count": 27,
   "metadata": {},
   "outputs": [
    {
     "data": {
      "text/plain": [
       "RACE\n",
       "American Indian or Alaskan Native    78355.0\n",
       "American Indian or Alaskan Native    26125.0\n",
       "American Indian or Alaskan Native    98536.0\n",
       "American Indian or Alaskan Native        NaN\n",
       "American Indian or Alaskan Native    55461.0\n",
       "Name: BASE_SALARY, dtype: float64"
      ]
     },
     "execution_count": 27,
     "metadata": {},
     "output_type": "execute_result"
    }
   ],
   "source": [
    "# 6.3.4   salary1 만 sorting을 해서 salary2와 다른 순서의 Index를 갖도록 함\n",
    "salary1 = salary1.sort_index()\n",
    "salary1.head()"
   ]
  },
  {
   "cell_type": "code",
   "execution_count": 28,
   "metadata": {
    "scrolled": false
   },
   "outputs": [
    {
     "data": {
      "text/plain": [
       "RACE\n",
       "Hispanic/Latino    121862.0\n",
       "Hispanic/Latino     26125.0\n",
       "White               45279.0\n",
       "White               63166.0\n",
       "White               56347.0\n",
       "Name: BASE_SALARY, dtype: float64"
      ]
     },
     "execution_count": 28,
     "metadata": {},
     "output_type": "execute_result"
    }
   ],
   "source": [
    "salary2.head()"
   ]
  },
  {
   "cell_type": "code",
   "execution_count": 29,
   "metadata": {},
   "outputs": [
    {
     "data": {
      "text/plain": [
       "RACE\n",
       "American Indian or Alaskan Native    138702.0\n",
       "American Indian or Alaskan Native    156710.0\n",
       "American Indian or Alaskan Native    176891.0\n",
       "American Indian or Alaskan Native    159594.0\n",
       "American Indian or Alaskan Native    127734.0\n",
       "Name: BASE_SALARY, dtype: float64"
      ]
     },
     "execution_count": 29,
     "metadata": {},
     "output_type": "execute_result"
    }
   ],
   "source": [
    "# 6.3.5 salary1 + salary2를 통해  중복값을 포함하고 서로 다른 Index를 갖는 연산을 수행한\n",
    "#      salary_add1를 생성하였다. \n",
    "salary_add1 = salary1 + salary2\n",
    "salary_add1.head()"
   ]
  },
  {
   "cell_type": "code",
   "execution_count": 30,
   "metadata": {},
   "outputs": [
    {
     "data": {
      "text/plain": [
       "(2000, 2000, 1175424, 2000)"
      ]
     },
     "execution_count": 30,
     "metadata": {},
     "output_type": "execute_result"
    }
   ],
   "source": [
    "# 6.3.6  동일한 Index 간의 연산 수행결과와 비교하기 위해 \n",
    "#         salary_add2 는 salary_add1에 자기자신을 더하여 생성한다. \n",
    "salary_add2 = salary1 + salary1\n",
    "# salary1, salary2, salary_add1, salary_add2의 개수를 구한다. \n",
    "# salary_add1은 100만개가 넘는 인덱스를 갖는 DataFrame이 되어 버렸다. \n",
    "len(salary1), len(salary2), len(salary_add1), len(salary_add2)"
   ]
  },
  {
   "cell_type": "markdown",
   "metadata": {},
   "source": [
    "## >> There's more 6.3"
   ]
  },
  {
   "cell_type": "code",
   "execution_count": 31,
   "metadata": {},
   "outputs": [
    {
     "data": {
      "text/plain": [
       "Black or African American            700\n",
       "White                                665\n",
       "Hispanic/Latino                      480\n",
       "Asian/Pacific Islander               107\n",
       "NaN                                   35\n",
       "American Indian or Alaskan Native     11\n",
       "Others                                 2\n",
       "Name: RACE, dtype: int64"
      ]
     },
     "execution_count": 31,
     "metadata": {},
     "output_type": "execute_result"
    }
   ],
   "source": [
    "# salary_add1의 인덱스 개수를 산출해보자 \n",
    "# 각각의 인덱스 값은 자기 자신과 동일한 값 만큼의 카테시안이 발생하므로 \n",
    "# 각 인덱스의 중복개수의 제곱의 합이 된다.\n",
    "\n",
    "# 아래 예시에서 salary1의 인덱스는 각각 인종별로 , 700, 665, 480... 개의 중복값을 갖게 되며\n",
    "#  700*700 + 665*665 +...+2*2 = 1,175,424 가 된다. \n",
    "\n",
    "index_vc = salary1.index.value_counts(dropna = False)\n",
    "index_vc"
   ]
  },
  {
   "cell_type": "code",
   "execution_count": 32,
   "metadata": {},
   "outputs": [
    {
     "data": {
      "text/plain": [
       "1175424"
      ]
     },
     "execution_count": 32,
     "metadata": {},
     "output_type": "execute_result"
    }
   ],
   "source": [
    "index_vc.pow(2).sum()"
   ]
  },
  {
   "cell_type": "markdown",
   "metadata": {},
   "source": [
    "# 6.4 Filling values with unequal indexes"
   ]
  },
  {
   "cell_type": "code",
   "execution_count": 33,
   "metadata": {},
   "outputs": [],
   "source": [
    "### [Tech] 서로 다른 인덱스를 갖는 DataFrame(Series)간 연산에서 누락값은 fill_value로 처리한다.\n",
    "### [Goal] 서로 다른 연도별 야구선수 파일 (DataFrame)의 병합"
   ]
  },
  {
   "cell_type": "markdown",
   "metadata": {},
   "source": [
    "## >> How it works..."
   ]
  },
  {
   "cell_type": "code",
   "execution_count": 34,
   "metadata": {},
   "outputs": [
    {
     "data": {
      "text/html": [
       "<div>\n",
       "<style scoped>\n",
       "    .dataframe tbody tr th:only-of-type {\n",
       "        vertical-align: middle;\n",
       "    }\n",
       "\n",
       "    .dataframe tbody tr th {\n",
       "        vertical-align: top;\n",
       "    }\n",
       "\n",
       "    .dataframe thead th {\n",
       "        text-align: right;\n",
       "    }\n",
       "</style>\n",
       "<table border=\"1\" class=\"dataframe\">\n",
       "  <thead>\n",
       "    <tr style=\"text-align: right;\">\n",
       "      <th></th>\n",
       "      <th>yearID</th>\n",
       "      <th>stint</th>\n",
       "      <th>teamID</th>\n",
       "      <th>lgID</th>\n",
       "      <th>G</th>\n",
       "      <th>AB</th>\n",
       "      <th>R</th>\n",
       "      <th>H</th>\n",
       "      <th>2B</th>\n",
       "      <th>3B</th>\n",
       "      <th>...</th>\n",
       "      <th>RBI</th>\n",
       "      <th>SB</th>\n",
       "      <th>CS</th>\n",
       "      <th>BB</th>\n",
       "      <th>SO</th>\n",
       "      <th>IBB</th>\n",
       "      <th>HBP</th>\n",
       "      <th>SH</th>\n",
       "      <th>SF</th>\n",
       "      <th>GIDP</th>\n",
       "    </tr>\n",
       "    <tr>\n",
       "      <th>playerID</th>\n",
       "      <th></th>\n",
       "      <th></th>\n",
       "      <th></th>\n",
       "      <th></th>\n",
       "      <th></th>\n",
       "      <th></th>\n",
       "      <th></th>\n",
       "      <th></th>\n",
       "      <th></th>\n",
       "      <th></th>\n",
       "      <th></th>\n",
       "      <th></th>\n",
       "      <th></th>\n",
       "      <th></th>\n",
       "      <th></th>\n",
       "      <th></th>\n",
       "      <th></th>\n",
       "      <th></th>\n",
       "      <th></th>\n",
       "      <th></th>\n",
       "      <th></th>\n",
       "    </tr>\n",
       "  </thead>\n",
       "  <tbody>\n",
       "    <tr>\n",
       "      <td>altuvjo01</td>\n",
       "      <td>2014</td>\n",
       "      <td>1</td>\n",
       "      <td>HOU</td>\n",
       "      <td>AL</td>\n",
       "      <td>158</td>\n",
       "      <td>660</td>\n",
       "      <td>85</td>\n",
       "      <td>225</td>\n",
       "      <td>47</td>\n",
       "      <td>3</td>\n",
       "      <td>...</td>\n",
       "      <td>59.0</td>\n",
       "      <td>56.0</td>\n",
       "      <td>9.0</td>\n",
       "      <td>36</td>\n",
       "      <td>53.0</td>\n",
       "      <td>7.0</td>\n",
       "      <td>5.0</td>\n",
       "      <td>1.0</td>\n",
       "      <td>5.0</td>\n",
       "      <td>20.0</td>\n",
       "    </tr>\n",
       "    <tr>\n",
       "      <td>cartech02</td>\n",
       "      <td>2014</td>\n",
       "      <td>1</td>\n",
       "      <td>HOU</td>\n",
       "      <td>AL</td>\n",
       "      <td>145</td>\n",
       "      <td>507</td>\n",
       "      <td>68</td>\n",
       "      <td>115</td>\n",
       "      <td>21</td>\n",
       "      <td>1</td>\n",
       "      <td>...</td>\n",
       "      <td>88.0</td>\n",
       "      <td>5.0</td>\n",
       "      <td>2.0</td>\n",
       "      <td>56</td>\n",
       "      <td>182.0</td>\n",
       "      <td>6.0</td>\n",
       "      <td>5.0</td>\n",
       "      <td>0.0</td>\n",
       "      <td>4.0</td>\n",
       "      <td>12.0</td>\n",
       "    </tr>\n",
       "    <tr>\n",
       "      <td>castrja01</td>\n",
       "      <td>2014</td>\n",
       "      <td>1</td>\n",
       "      <td>HOU</td>\n",
       "      <td>AL</td>\n",
       "      <td>126</td>\n",
       "      <td>465</td>\n",
       "      <td>43</td>\n",
       "      <td>103</td>\n",
       "      <td>21</td>\n",
       "      <td>2</td>\n",
       "      <td>...</td>\n",
       "      <td>56.0</td>\n",
       "      <td>1.0</td>\n",
       "      <td>0.0</td>\n",
       "      <td>34</td>\n",
       "      <td>151.0</td>\n",
       "      <td>1.0</td>\n",
       "      <td>9.0</td>\n",
       "      <td>1.0</td>\n",
       "      <td>3.0</td>\n",
       "      <td>11.0</td>\n",
       "    </tr>\n",
       "    <tr>\n",
       "      <td>corpoca01</td>\n",
       "      <td>2014</td>\n",
       "      <td>1</td>\n",
       "      <td>HOU</td>\n",
       "      <td>AL</td>\n",
       "      <td>55</td>\n",
       "      <td>170</td>\n",
       "      <td>22</td>\n",
       "      <td>40</td>\n",
       "      <td>6</td>\n",
       "      <td>0</td>\n",
       "      <td>...</td>\n",
       "      <td>19.0</td>\n",
       "      <td>0.0</td>\n",
       "      <td>0.0</td>\n",
       "      <td>14</td>\n",
       "      <td>37.0</td>\n",
       "      <td>0.0</td>\n",
       "      <td>3.0</td>\n",
       "      <td>1.0</td>\n",
       "      <td>2.0</td>\n",
       "      <td>3.0</td>\n",
       "    </tr>\n",
       "    <tr>\n",
       "      <td>dominma01</td>\n",
       "      <td>2014</td>\n",
       "      <td>1</td>\n",
       "      <td>HOU</td>\n",
       "      <td>AL</td>\n",
       "      <td>157</td>\n",
       "      <td>564</td>\n",
       "      <td>51</td>\n",
       "      <td>121</td>\n",
       "      <td>17</td>\n",
       "      <td>0</td>\n",
       "      <td>...</td>\n",
       "      <td>57.0</td>\n",
       "      <td>0.0</td>\n",
       "      <td>1.0</td>\n",
       "      <td>29</td>\n",
       "      <td>125.0</td>\n",
       "      <td>2.0</td>\n",
       "      <td>5.0</td>\n",
       "      <td>2.0</td>\n",
       "      <td>7.0</td>\n",
       "      <td>23.0</td>\n",
       "    </tr>\n",
       "  </tbody>\n",
       "</table>\n",
       "<p>5 rows × 21 columns</p>\n",
       "</div>"
      ],
      "text/plain": [
       "           yearID  stint teamID lgID    G   AB   R    H  2B  3B  ...   RBI  \\\n",
       "playerID                                                         ...         \n",
       "altuvjo01    2014      1    HOU   AL  158  660  85  225  47   3  ...  59.0   \n",
       "cartech02    2014      1    HOU   AL  145  507  68  115  21   1  ...  88.0   \n",
       "castrja01    2014      1    HOU   AL  126  465  43  103  21   2  ...  56.0   \n",
       "corpoca01    2014      1    HOU   AL   55  170  22   40   6   0  ...  19.0   \n",
       "dominma01    2014      1    HOU   AL  157  564  51  121  17   0  ...  57.0   \n",
       "\n",
       "             SB   CS  BB     SO  IBB  HBP   SH   SF  GIDP  \n",
       "playerID                                                   \n",
       "altuvjo01  56.0  9.0  36   53.0  7.0  5.0  1.0  5.0  20.0  \n",
       "cartech02   5.0  2.0  56  182.0  6.0  5.0  0.0  4.0  12.0  \n",
       "castrja01   1.0  0.0  34  151.0  1.0  9.0  1.0  3.0  11.0  \n",
       "corpoca01   0.0  0.0  14   37.0  0.0  3.0  1.0  2.0   3.0  \n",
       "dominma01   0.0  1.0  29  125.0  2.0  5.0  2.0  7.0  23.0  \n",
       "\n",
       "[5 rows x 21 columns]"
      ]
     },
     "execution_count": 34,
     "metadata": {},
     "output_type": "execute_result"
    }
   ],
   "source": [
    "# 6.4.1 2014, 2015, 2016년도의 야구 선수별 기록 파일을 합쳐서 분석해 본다. \n",
    "# 선수명을 인덱스로 한다. \n",
    "baseball_14 = pd.read_csv('data/baseball14.csv', index_col='playerID')\n",
    "baseball_15 = pd.read_csv('data/baseball15.csv', index_col='playerID')\n",
    "baseball_16 = pd.read_csv('data/baseball16.csv', index_col='playerID')\n",
    "baseball_14.head()"
   ]
  },
  {
   "cell_type": "code",
   "execution_count": 35,
   "metadata": {},
   "outputs": [
    {
     "data": {
      "text/plain": [
       "((16, 21), (15, 21), (16, 21))"
      ]
     },
     "execution_count": 35,
     "metadata": {},
     "output_type": "execute_result"
    }
   ],
   "source": [
    "# 3개 파일의 외관 확인\n",
    "# 행 인덱스의 개수가 서로 다르다.  컬럼은 21개 컬럼을 갖는다. \n",
    "baseball_14.shape, baseball_15.shape , baseball_16.shape"
   ]
  },
  {
   "cell_type": "code",
   "execution_count": 36,
   "metadata": {
    "scrolled": true
   },
   "outputs": [
    {
     "data": {
      "text/plain": [
       "True"
      ]
     },
     "execution_count": 36,
     "metadata": {},
     "output_type": "execute_result"
    }
   ],
   "source": [
    "# 컬럼의 특성 확인 - baseball_14 은 unique한 컬럼명을 갖는다 (21개)\n",
    "baseball_14.columns.is_unique"
   ]
  },
  {
   "cell_type": "code",
   "execution_count": 37,
   "metadata": {},
   "outputs": [
    {
     "data": {
      "text/plain": [
       "True"
      ]
     },
     "execution_count": 37,
     "metadata": {},
     "output_type": "execute_result"
    }
   ],
   "source": [
    "# baseball_14, _15, _16, 3 개 table의 컬럼은 같다\n",
    "set(baseball_14.columns)== set(baseball_15.columns) == set(baseball_16.columns)"
   ]
  },
  {
   "cell_type": "code",
   "execution_count": 38,
   "metadata": {},
   "outputs": [
    {
     "name": "stdout",
     "output_type": "stream",
     "text": [
      "<class 'pandas.core.frame.DataFrame'>\n",
      "Index: 16 entries, altuvjo01 to villajo01\n",
      "Data columns (total 21 columns):\n",
      "yearID    16 non-null int64\n",
      "stint     16 non-null int64\n",
      "teamID    16 non-null object\n",
      "lgID      16 non-null object\n",
      "G         16 non-null int64\n",
      "AB        16 non-null int64\n",
      "R         16 non-null int64\n",
      "H         16 non-null int64\n",
      "2B        16 non-null int64\n",
      "3B        16 non-null int64\n",
      "HR        16 non-null int64\n",
      "RBI       16 non-null float64\n",
      "SB        16 non-null float64\n",
      "CS        16 non-null float64\n",
      "BB        16 non-null int64\n",
      "SO        16 non-null float64\n",
      "IBB       16 non-null float64\n",
      "HBP       16 non-null float64\n",
      "SH        16 non-null float64\n",
      "SF        16 non-null float64\n",
      "GIDP      16 non-null float64\n",
      "dtypes: float64(9), int64(10), object(2)\n",
      "memory usage: 2.8+ KB\n"
     ]
    }
   ],
   "source": [
    "# 팀명과 리그명을 제외하고는 수치형 데이터를 갖는 야구 기록 값이다. \n",
    "baseball_14.info()"
   ]
  },
  {
   "cell_type": "code",
   "execution_count": 39,
   "metadata": {},
   "outputs": [
    {
     "data": {
      "text/plain": [
       "(False, False, False)"
      ]
     },
     "execution_count": 39,
     "metadata": {},
     "output_type": "execute_result"
    }
   ],
   "source": [
    "# 각 필드에 대한 누락값은 없다. \n",
    "baseball_14.isnull().any().any(),\\\n",
    "baseball_15.isnull().any().any(),\\\n",
    "baseball_16.isnull().any().any()"
   ]
  },
  {
   "cell_type": "code",
   "execution_count": 40,
   "metadata": {
    "scrolled": true
   },
   "outputs": [
    {
     "data": {
      "text/plain": [
       "Index(['corpoca01', 'dominma01', 'fowlede01', 'grossro01', 'guzmaje01',\n",
       "       'hoeslj01', 'krausma01', 'preslal01', 'singljo02'],\n",
       "      dtype='object', name='playerID')"
      ]
     },
     "execution_count": 40,
     "metadata": {},
     "output_type": "execute_result"
    }
   ],
   "source": [
    "# 6.4.2 행 인덱스별로는 서로 다른 선수들이 존재 한다. \n",
    "baseball_14.index.difference(baseball_15.index)"
   ]
  },
  {
   "cell_type": "code",
   "execution_count": 41,
   "metadata": {
    "scrolled": true
   },
   "outputs": [
    {
     "data": {
      "text/plain": [
       "Index(['cartech02', 'corpoca01', 'dominma01', 'fowlede01', 'grossro01',\n",
       "       'guzmaje01', 'hoeslj01', 'krausma01', 'preslal01', 'singljo02',\n",
       "       'villajo01'],\n",
       "      dtype='object', name='playerID')"
      ]
     },
     "execution_count": 41,
     "metadata": {},
     "output_type": "execute_result"
    }
   ],
   "source": [
    "baseball_14.index.difference(baseball_16.index)"
   ]
  },
  {
   "cell_type": "code",
   "execution_count": 42,
   "metadata": {},
   "outputs": [
    {
     "name": "stdout",
     "output_type": "stream",
     "text": [
      "Index(['altuvjo01', 'bregmal01', 'cartech02', 'castrja01', 'congeha01',\n",
      "       'corpoca01', 'correca01', 'dominma01', 'fowlede01', 'gattiev01',\n",
      "       'gomezca01', 'gonzama01', 'gourryu01', 'grossro01', 'guzmaje01',\n",
      "       'hoeslj01', 'kempto01', 'krausma01', 'lowrije01', 'marisja01',\n",
      "       'preslal01', 'rasmuco01', 'reedaj01', 'singljo02', 'springe01',\n",
      "       'tuckepr01', 'valbulu01', 'villajo01', 'whitety01'],\n",
      "      dtype='object', name='playerID')\n"
     ]
    },
    {
     "data": {
      "text/plain": [
       "29"
      ]
     },
     "execution_count": 42,
     "metadata": {},
     "output_type": "execute_result"
    }
   ],
   "source": [
    "# 총 29명의 선수가 등장한다. \n",
    "print (baseball_14.index.union(baseball_15.index).union(baseball_16.index))\n",
    "len(baseball_14.index.union(baseball_15.index).union(baseball_16.index))"
   ]
  },
  {
   "cell_type": "code",
   "execution_count": 43,
   "metadata": {},
   "outputs": [
    {
     "data": {
      "text/plain": [
       "playerID\n",
       "altuvjo01    225\n",
       "cartech02    115\n",
       "castrja01    103\n",
       "corpoca01     40\n",
       "dominma01    121\n",
       "Name: H, dtype: int64"
      ]
     },
     "execution_count": 43,
     "metadata": {},
     "output_type": "execute_result"
    }
   ],
   "source": [
    "# 6.4.3 각 연도의 안타 hit 수를 갖는 Series 생성\n",
    "hits_14 = baseball_14['H']\n",
    "hits_15 = baseball_15['H']\n",
    "hits_16 = baseball_16['H']\n",
    "hits_14.head()"
   ]
  },
  {
   "cell_type": "code",
   "execution_count": 44,
   "metadata": {},
   "outputs": [
    {
     "data": {
      "text/plain": [
       "playerID\n",
       "altuvjo01    425.0\n",
       "cartech02    193.0\n",
       "castrja01    174.0\n",
       "congeha01      NaN\n",
       "corpoca01      NaN\n",
       "Name: H, dtype: float64"
      ]
     },
     "execution_count": 44,
     "metadata": {},
     "output_type": "execute_result"
    }
   ],
   "source": [
    "# 6.4.4 14년과 15년을 합산 할 때, 한 쪽 테이블에만 존재하면 , 합산 값이 NaN으로 처리 된다. \n",
    "(hits_14 + hits_15).head()"
   ]
  },
  {
   "cell_type": "code",
   "execution_count": 45,
   "metadata": {},
   "outputs": [
    {
     "data": {
      "text/plain": [
       "playerID\n",
       "altuvjo01    425.0\n",
       "cartech02    193.0\n",
       "castrja01    174.0\n",
       "congeha01     46.0\n",
       "corpoca01     40.0\n",
       "Name: H, dtype: float64"
      ]
     },
     "execution_count": 45,
     "metadata": {},
     "output_type": "execute_result"
    }
   ],
   "source": [
    "# 6.4.5 .add() 메소드를 사용하고 매개변수 fill_value = 0 을 전달하면 해당 문제가 해결된다. \n",
    "hits_14.add(hits_15, fill_value=0).head()"
   ]
  },
  {
   "cell_type": "code",
   "execution_count": 46,
   "metadata": {},
   "outputs": [
    {
     "data": {
      "text/plain": [
       "playerID\n",
       "altuvjo01    641.0\n",
       "bregmal01     53.0\n",
       "cartech02    193.0\n",
       "castrja01    243.0\n",
       "congeha01     46.0\n",
       "Name: H, dtype: float64"
      ]
     },
     "execution_count": 46,
     "metadata": {},
     "output_type": "execute_result"
    }
   ],
   "source": [
    "# 6.4.6 동일한 요령으로 2016년도 안타수도 chain 하여 구한다. \n",
    "hits_total = hits_14.add(hits_15, fill_value=0)\\\n",
    "                    .add(hits_16, fill_value=0)\n",
    "hits_total.head()"
   ]
  },
  {
   "cell_type": "code",
   "execution_count": 47,
   "metadata": {},
   "outputs": [
    {
     "data": {
      "text/plain": [
       "False"
      ]
     },
     "execution_count": 47,
     "metadata": {},
     "output_type": "execute_result"
    }
   ],
   "source": [
    "# 6.4.7 안타수를 합해서 구한 hits_total에 NaN 값이 없는 것을 확인한다. \n",
    "hits_total.hasnans"
   ]
  },
  {
   "cell_type": "markdown",
   "metadata": {},
   "source": [
    "## >> There's more 6.4"
   ]
  },
  {
   "cell_type": "code",
   "execution_count": 48,
   "metadata": {},
   "outputs": [
    {
     "data": {
      "text/plain": [
       "a    NaN\n",
       "b    3.0\n",
       "c    NaN\n",
       "d    1.0\n",
       "dtype: float64"
      ]
     },
     "execution_count": 48,
     "metadata": {},
     "output_type": "execute_result"
    }
   ],
   "source": [
    "# 양쪽에 인덱스가 존재하되, 둘 다 NaN 값을 갖는 경우에는 fill_value가 지정되어도\n",
    "# NaN으로 처리한다. \n",
    "s = pd.Series(index=['a', 'b', 'c', 'd'], data=[np.nan, 3, np.nan, 1])\n",
    "s"
   ]
  },
  {
   "cell_type": "code",
   "execution_count": 49,
   "metadata": {},
   "outputs": [
    {
     "data": {
      "text/plain": [
       "a     NaN\n",
       "b     6.0\n",
       "c    10.0\n",
       "dtype: float64"
      ]
     },
     "execution_count": 49,
     "metadata": {},
     "output_type": "execute_result"
    }
   ],
   "source": [
    "s1 = pd.Series(index=['a', 'b', 'c'], data=[np.nan, 6, 10])\n",
    "s1"
   ]
  },
  {
   "cell_type": "code",
   "execution_count": 50,
   "metadata": {},
   "outputs": [
    {
     "data": {
      "text/plain": [
       "a     NaN\n",
       "b     9.0\n",
       "c    15.0\n",
       "d     6.0\n",
       "dtype: float64"
      ]
     },
     "execution_count": 50,
     "metadata": {},
     "output_type": "execute_result"
    }
   ],
   "source": [
    "s.add(s1, fill_value=5)"
   ]
  },
  {
   "cell_type": "code",
   "execution_count": 51,
   "metadata": {},
   "outputs": [
    {
     "data": {
      "text/html": [
       "<div>\n",
       "<style scoped>\n",
       "    .dataframe tbody tr th:only-of-type {\n",
       "        vertical-align: middle;\n",
       "    }\n",
       "\n",
       "    .dataframe tbody tr th {\n",
       "        vertical-align: top;\n",
       "    }\n",
       "\n",
       "    .dataframe thead th {\n",
       "        text-align: right;\n",
       "    }\n",
       "</style>\n",
       "<table border=\"1\" class=\"dataframe\">\n",
       "  <thead>\n",
       "    <tr style=\"text-align: right;\">\n",
       "      <th></th>\n",
       "      <th>G</th>\n",
       "      <th>AB</th>\n",
       "      <th>R</th>\n",
       "      <th>H</th>\n",
       "    </tr>\n",
       "    <tr>\n",
       "      <th>playerID</th>\n",
       "      <th></th>\n",
       "      <th></th>\n",
       "      <th></th>\n",
       "      <th></th>\n",
       "    </tr>\n",
       "  </thead>\n",
       "  <tbody>\n",
       "    <tr>\n",
       "      <td>altuvjo01</td>\n",
       "      <td>158</td>\n",
       "      <td>660</td>\n",
       "      <td>85</td>\n",
       "      <td>225</td>\n",
       "    </tr>\n",
       "    <tr>\n",
       "      <td>cartech02</td>\n",
       "      <td>145</td>\n",
       "      <td>507</td>\n",
       "      <td>68</td>\n",
       "      <td>115</td>\n",
       "    </tr>\n",
       "    <tr>\n",
       "      <td>castrja01</td>\n",
       "      <td>126</td>\n",
       "      <td>465</td>\n",
       "      <td>43</td>\n",
       "      <td>103</td>\n",
       "    </tr>\n",
       "    <tr>\n",
       "      <td>corpoca01</td>\n",
       "      <td>55</td>\n",
       "      <td>170</td>\n",
       "      <td>22</td>\n",
       "      <td>40</td>\n",
       "    </tr>\n",
       "    <tr>\n",
       "      <td>dominma01</td>\n",
       "      <td>157</td>\n",
       "      <td>564</td>\n",
       "      <td>51</td>\n",
       "      <td>121</td>\n",
       "    </tr>\n",
       "  </tbody>\n",
       "</table>\n",
       "</div>"
      ],
      "text/plain": [
       "             G   AB   R    H\n",
       "playerID                    \n",
       "altuvjo01  158  660  85  225\n",
       "cartech02  145  507  68  115\n",
       "castrja01  126  465  43  103\n",
       "corpoca01   55  170  22   40\n",
       "dominma01  157  564  51  121"
      ]
     },
     "metadata": {},
     "output_type": "display_data"
    },
    {
     "data": {
      "text/html": [
       "<div>\n",
       "<style scoped>\n",
       "    .dataframe tbody tr th:only-of-type {\n",
       "        vertical-align: middle;\n",
       "    }\n",
       "\n",
       "    .dataframe tbody tr th {\n",
       "        vertical-align: top;\n",
       "    }\n",
       "\n",
       "    .dataframe thead th {\n",
       "        text-align: right;\n",
       "    }\n",
       "</style>\n",
       "<table border=\"1\" class=\"dataframe\">\n",
       "  <thead>\n",
       "    <tr style=\"text-align: right;\">\n",
       "      <th></th>\n",
       "      <th>AB</th>\n",
       "      <th>R</th>\n",
       "      <th>H</th>\n",
       "      <th>HR</th>\n",
       "    </tr>\n",
       "    <tr>\n",
       "      <th>playerID</th>\n",
       "      <th></th>\n",
       "      <th></th>\n",
       "      <th></th>\n",
       "      <th></th>\n",
       "    </tr>\n",
       "  </thead>\n",
       "  <tbody>\n",
       "    <tr>\n",
       "      <td>altuvjo01</td>\n",
       "      <td>638</td>\n",
       "      <td>86</td>\n",
       "      <td>200</td>\n",
       "      <td>15</td>\n",
       "    </tr>\n",
       "    <tr>\n",
       "      <td>cartech02</td>\n",
       "      <td>391</td>\n",
       "      <td>50</td>\n",
       "      <td>78</td>\n",
       "      <td>24</td>\n",
       "    </tr>\n",
       "    <tr>\n",
       "      <td>castrja01</td>\n",
       "      <td>337</td>\n",
       "      <td>38</td>\n",
       "      <td>71</td>\n",
       "      <td>11</td>\n",
       "    </tr>\n",
       "    <tr>\n",
       "      <td>congeha01</td>\n",
       "      <td>201</td>\n",
       "      <td>25</td>\n",
       "      <td>46</td>\n",
       "      <td>11</td>\n",
       "    </tr>\n",
       "    <tr>\n",
       "      <td>correca01</td>\n",
       "      <td>387</td>\n",
       "      <td>52</td>\n",
       "      <td>108</td>\n",
       "      <td>22</td>\n",
       "    </tr>\n",
       "  </tbody>\n",
       "</table>\n",
       "</div>"
      ],
      "text/plain": [
       "            AB   R    H  HR\n",
       "playerID                   \n",
       "altuvjo01  638  86  200  15\n",
       "cartech02  391  50   78  24\n",
       "castrja01  337  38   71  11\n",
       "congeha01  201  25   46  11\n",
       "correca01  387  52  108  22"
      ]
     },
     "metadata": {},
     "output_type": "display_data"
    }
   ],
   "source": [
    "# 일부러 컬럼 인덱스도 행인덱스도 다른 경우를 살펴보자.\n",
    "# df14 에만  'G' 를 , df_15에만 'HR' 컬럼을 갖게 한다. \n",
    "df_14 = baseball_14[['G','AB', 'R', 'H']]\n",
    "df_15 = baseball_15[['AB', 'R', 'H', 'HR']]\n",
    "display (df_14.head())\n",
    "display (df_15.head())"
   ]
  },
  {
   "cell_type": "code",
   "execution_count": 52,
   "metadata": {},
   "outputs": [
    {
     "data": {
      "text/html": [
       "<style  type=\"text/css\" >\n",
       "    #T_7709be52_01ee_11eb_9e70_5800e3953262row0_col1 {\n",
       "            background-color:  yellow;\n",
       "        }    #T_7709be52_01ee_11eb_9e70_5800e3953262row0_col3 {\n",
       "            background-color:  yellow;\n",
       "        }    #T_7709be52_01ee_11eb_9e70_5800e3953262row1_col1 {\n",
       "            background-color:  yellow;\n",
       "        }    #T_7709be52_01ee_11eb_9e70_5800e3953262row1_col3 {\n",
       "            background-color:  yellow;\n",
       "        }    #T_7709be52_01ee_11eb_9e70_5800e3953262row2_col1 {\n",
       "            background-color:  yellow;\n",
       "        }    #T_7709be52_01ee_11eb_9e70_5800e3953262row2_col3 {\n",
       "            background-color:  yellow;\n",
       "        }    #T_7709be52_01ee_11eb_9e70_5800e3953262row3_col0 {\n",
       "            background-color:  yellow;\n",
       "        }    #T_7709be52_01ee_11eb_9e70_5800e3953262row3_col1 {\n",
       "            background-color:  yellow;\n",
       "        }    #T_7709be52_01ee_11eb_9e70_5800e3953262row3_col2 {\n",
       "            background-color:  yellow;\n",
       "        }    #T_7709be52_01ee_11eb_9e70_5800e3953262row3_col3 {\n",
       "            background-color:  yellow;\n",
       "        }    #T_7709be52_01ee_11eb_9e70_5800e3953262row3_col4 {\n",
       "            background-color:  yellow;\n",
       "        }    #T_7709be52_01ee_11eb_9e70_5800e3953262row4_col0 {\n",
       "            background-color:  yellow;\n",
       "        }    #T_7709be52_01ee_11eb_9e70_5800e3953262row4_col1 {\n",
       "            background-color:  yellow;\n",
       "        }    #T_7709be52_01ee_11eb_9e70_5800e3953262row4_col2 {\n",
       "            background-color:  yellow;\n",
       "        }    #T_7709be52_01ee_11eb_9e70_5800e3953262row4_col3 {\n",
       "            background-color:  yellow;\n",
       "        }    #T_7709be52_01ee_11eb_9e70_5800e3953262row4_col4 {\n",
       "            background-color:  yellow;\n",
       "        }    #T_7709be52_01ee_11eb_9e70_5800e3953262row5_col0 {\n",
       "            background-color:  yellow;\n",
       "        }    #T_7709be52_01ee_11eb_9e70_5800e3953262row5_col1 {\n",
       "            background-color:  yellow;\n",
       "        }    #T_7709be52_01ee_11eb_9e70_5800e3953262row5_col2 {\n",
       "            background-color:  yellow;\n",
       "        }    #T_7709be52_01ee_11eb_9e70_5800e3953262row5_col3 {\n",
       "            background-color:  yellow;\n",
       "        }    #T_7709be52_01ee_11eb_9e70_5800e3953262row5_col4 {\n",
       "            background-color:  yellow;\n",
       "        }    #T_7709be52_01ee_11eb_9e70_5800e3953262row6_col0 {\n",
       "            background-color:  yellow;\n",
       "        }    #T_7709be52_01ee_11eb_9e70_5800e3953262row6_col1 {\n",
       "            background-color:  yellow;\n",
       "        }    #T_7709be52_01ee_11eb_9e70_5800e3953262row6_col2 {\n",
       "            background-color:  yellow;\n",
       "        }    #T_7709be52_01ee_11eb_9e70_5800e3953262row6_col3 {\n",
       "            background-color:  yellow;\n",
       "        }    #T_7709be52_01ee_11eb_9e70_5800e3953262row6_col4 {\n",
       "            background-color:  yellow;\n",
       "        }    #T_7709be52_01ee_11eb_9e70_5800e3953262row7_col0 {\n",
       "            background-color:  yellow;\n",
       "        }    #T_7709be52_01ee_11eb_9e70_5800e3953262row7_col1 {\n",
       "            background-color:  yellow;\n",
       "        }    #T_7709be52_01ee_11eb_9e70_5800e3953262row7_col2 {\n",
       "            background-color:  yellow;\n",
       "        }    #T_7709be52_01ee_11eb_9e70_5800e3953262row7_col3 {\n",
       "            background-color:  yellow;\n",
       "        }    #T_7709be52_01ee_11eb_9e70_5800e3953262row7_col4 {\n",
       "            background-color:  yellow;\n",
       "        }    #T_7709be52_01ee_11eb_9e70_5800e3953262row8_col0 {\n",
       "            background-color:  yellow;\n",
       "        }    #T_7709be52_01ee_11eb_9e70_5800e3953262row8_col1 {\n",
       "            background-color:  yellow;\n",
       "        }    #T_7709be52_01ee_11eb_9e70_5800e3953262row8_col2 {\n",
       "            background-color:  yellow;\n",
       "        }    #T_7709be52_01ee_11eb_9e70_5800e3953262row8_col3 {\n",
       "            background-color:  yellow;\n",
       "        }    #T_7709be52_01ee_11eb_9e70_5800e3953262row8_col4 {\n",
       "            background-color:  yellow;\n",
       "        }    #T_7709be52_01ee_11eb_9e70_5800e3953262row9_col0 {\n",
       "            background-color:  yellow;\n",
       "        }    #T_7709be52_01ee_11eb_9e70_5800e3953262row9_col1 {\n",
       "            background-color:  yellow;\n",
       "        }    #T_7709be52_01ee_11eb_9e70_5800e3953262row9_col2 {\n",
       "            background-color:  yellow;\n",
       "        }    #T_7709be52_01ee_11eb_9e70_5800e3953262row9_col3 {\n",
       "            background-color:  yellow;\n",
       "        }    #T_7709be52_01ee_11eb_9e70_5800e3953262row9_col4 {\n",
       "            background-color:  yellow;\n",
       "        }</style><table id=\"T_7709be52_01ee_11eb_9e70_5800e3953262\" ><thead>    <tr>        <th class=\"blank level0\" ></th>        <th class=\"col_heading level0 col0\" >AB</th>        <th class=\"col_heading level0 col1\" >G</th>        <th class=\"col_heading level0 col2\" >H</th>        <th class=\"col_heading level0 col3\" >HR</th>        <th class=\"col_heading level0 col4\" >R</th>    </tr>    <tr>        <th class=\"index_name level0\" >playerID</th>        <th class=\"blank\" ></th>        <th class=\"blank\" ></th>        <th class=\"blank\" ></th>        <th class=\"blank\" ></th>        <th class=\"blank\" ></th>    </tr></thead><tbody>\n",
       "                <tr>\n",
       "                        <th id=\"T_7709be52_01ee_11eb_9e70_5800e3953262level0_row0\" class=\"row_heading level0 row0\" >altuvjo01</th>\n",
       "                        <td id=\"T_7709be52_01ee_11eb_9e70_5800e3953262row0_col0\" class=\"data row0 col0\" >1298</td>\n",
       "                        <td id=\"T_7709be52_01ee_11eb_9e70_5800e3953262row0_col1\" class=\"data row0 col1\" >nan</td>\n",
       "                        <td id=\"T_7709be52_01ee_11eb_9e70_5800e3953262row0_col2\" class=\"data row0 col2\" >425</td>\n",
       "                        <td id=\"T_7709be52_01ee_11eb_9e70_5800e3953262row0_col3\" class=\"data row0 col3\" >nan</td>\n",
       "                        <td id=\"T_7709be52_01ee_11eb_9e70_5800e3953262row0_col4\" class=\"data row0 col4\" >171</td>\n",
       "            </tr>\n",
       "            <tr>\n",
       "                        <th id=\"T_7709be52_01ee_11eb_9e70_5800e3953262level0_row1\" class=\"row_heading level0 row1\" >cartech02</th>\n",
       "                        <td id=\"T_7709be52_01ee_11eb_9e70_5800e3953262row1_col0\" class=\"data row1 col0\" >898</td>\n",
       "                        <td id=\"T_7709be52_01ee_11eb_9e70_5800e3953262row1_col1\" class=\"data row1 col1\" >nan</td>\n",
       "                        <td id=\"T_7709be52_01ee_11eb_9e70_5800e3953262row1_col2\" class=\"data row1 col2\" >193</td>\n",
       "                        <td id=\"T_7709be52_01ee_11eb_9e70_5800e3953262row1_col3\" class=\"data row1 col3\" >nan</td>\n",
       "                        <td id=\"T_7709be52_01ee_11eb_9e70_5800e3953262row1_col4\" class=\"data row1 col4\" >118</td>\n",
       "            </tr>\n",
       "            <tr>\n",
       "                        <th id=\"T_7709be52_01ee_11eb_9e70_5800e3953262level0_row2\" class=\"row_heading level0 row2\" >castrja01</th>\n",
       "                        <td id=\"T_7709be52_01ee_11eb_9e70_5800e3953262row2_col0\" class=\"data row2 col0\" >802</td>\n",
       "                        <td id=\"T_7709be52_01ee_11eb_9e70_5800e3953262row2_col1\" class=\"data row2 col1\" >nan</td>\n",
       "                        <td id=\"T_7709be52_01ee_11eb_9e70_5800e3953262row2_col2\" class=\"data row2 col2\" >174</td>\n",
       "                        <td id=\"T_7709be52_01ee_11eb_9e70_5800e3953262row2_col3\" class=\"data row2 col3\" >nan</td>\n",
       "                        <td id=\"T_7709be52_01ee_11eb_9e70_5800e3953262row2_col4\" class=\"data row2 col4\" >81</td>\n",
       "            </tr>\n",
       "            <tr>\n",
       "                        <th id=\"T_7709be52_01ee_11eb_9e70_5800e3953262level0_row3\" class=\"row_heading level0 row3\" >congeha01</th>\n",
       "                        <td id=\"T_7709be52_01ee_11eb_9e70_5800e3953262row3_col0\" class=\"data row3 col0\" >nan</td>\n",
       "                        <td id=\"T_7709be52_01ee_11eb_9e70_5800e3953262row3_col1\" class=\"data row3 col1\" >nan</td>\n",
       "                        <td id=\"T_7709be52_01ee_11eb_9e70_5800e3953262row3_col2\" class=\"data row3 col2\" >nan</td>\n",
       "                        <td id=\"T_7709be52_01ee_11eb_9e70_5800e3953262row3_col3\" class=\"data row3 col3\" >nan</td>\n",
       "                        <td id=\"T_7709be52_01ee_11eb_9e70_5800e3953262row3_col4\" class=\"data row3 col4\" >nan</td>\n",
       "            </tr>\n",
       "            <tr>\n",
       "                        <th id=\"T_7709be52_01ee_11eb_9e70_5800e3953262level0_row4\" class=\"row_heading level0 row4\" >corpoca01</th>\n",
       "                        <td id=\"T_7709be52_01ee_11eb_9e70_5800e3953262row4_col0\" class=\"data row4 col0\" >nan</td>\n",
       "                        <td id=\"T_7709be52_01ee_11eb_9e70_5800e3953262row4_col1\" class=\"data row4 col1\" >nan</td>\n",
       "                        <td id=\"T_7709be52_01ee_11eb_9e70_5800e3953262row4_col2\" class=\"data row4 col2\" >nan</td>\n",
       "                        <td id=\"T_7709be52_01ee_11eb_9e70_5800e3953262row4_col3\" class=\"data row4 col3\" >nan</td>\n",
       "                        <td id=\"T_7709be52_01ee_11eb_9e70_5800e3953262row4_col4\" class=\"data row4 col4\" >nan</td>\n",
       "            </tr>\n",
       "            <tr>\n",
       "                        <th id=\"T_7709be52_01ee_11eb_9e70_5800e3953262level0_row5\" class=\"row_heading level0 row5\" >correca01</th>\n",
       "                        <td id=\"T_7709be52_01ee_11eb_9e70_5800e3953262row5_col0\" class=\"data row5 col0\" >nan</td>\n",
       "                        <td id=\"T_7709be52_01ee_11eb_9e70_5800e3953262row5_col1\" class=\"data row5 col1\" >nan</td>\n",
       "                        <td id=\"T_7709be52_01ee_11eb_9e70_5800e3953262row5_col2\" class=\"data row5 col2\" >nan</td>\n",
       "                        <td id=\"T_7709be52_01ee_11eb_9e70_5800e3953262row5_col3\" class=\"data row5 col3\" >nan</td>\n",
       "                        <td id=\"T_7709be52_01ee_11eb_9e70_5800e3953262row5_col4\" class=\"data row5 col4\" >nan</td>\n",
       "            </tr>\n",
       "            <tr>\n",
       "                        <th id=\"T_7709be52_01ee_11eb_9e70_5800e3953262level0_row6\" class=\"row_heading level0 row6\" >dominma01</th>\n",
       "                        <td id=\"T_7709be52_01ee_11eb_9e70_5800e3953262row6_col0\" class=\"data row6 col0\" >nan</td>\n",
       "                        <td id=\"T_7709be52_01ee_11eb_9e70_5800e3953262row6_col1\" class=\"data row6 col1\" >nan</td>\n",
       "                        <td id=\"T_7709be52_01ee_11eb_9e70_5800e3953262row6_col2\" class=\"data row6 col2\" >nan</td>\n",
       "                        <td id=\"T_7709be52_01ee_11eb_9e70_5800e3953262row6_col3\" class=\"data row6 col3\" >nan</td>\n",
       "                        <td id=\"T_7709be52_01ee_11eb_9e70_5800e3953262row6_col4\" class=\"data row6 col4\" >nan</td>\n",
       "            </tr>\n",
       "            <tr>\n",
       "                        <th id=\"T_7709be52_01ee_11eb_9e70_5800e3953262level0_row7\" class=\"row_heading level0 row7\" >fowlede01</th>\n",
       "                        <td id=\"T_7709be52_01ee_11eb_9e70_5800e3953262row7_col0\" class=\"data row7 col0\" >nan</td>\n",
       "                        <td id=\"T_7709be52_01ee_11eb_9e70_5800e3953262row7_col1\" class=\"data row7 col1\" >nan</td>\n",
       "                        <td id=\"T_7709be52_01ee_11eb_9e70_5800e3953262row7_col2\" class=\"data row7 col2\" >nan</td>\n",
       "                        <td id=\"T_7709be52_01ee_11eb_9e70_5800e3953262row7_col3\" class=\"data row7 col3\" >nan</td>\n",
       "                        <td id=\"T_7709be52_01ee_11eb_9e70_5800e3953262row7_col4\" class=\"data row7 col4\" >nan</td>\n",
       "            </tr>\n",
       "            <tr>\n",
       "                        <th id=\"T_7709be52_01ee_11eb_9e70_5800e3953262level0_row8\" class=\"row_heading level0 row8\" >gattiev01</th>\n",
       "                        <td id=\"T_7709be52_01ee_11eb_9e70_5800e3953262row8_col0\" class=\"data row8 col0\" >nan</td>\n",
       "                        <td id=\"T_7709be52_01ee_11eb_9e70_5800e3953262row8_col1\" class=\"data row8 col1\" >nan</td>\n",
       "                        <td id=\"T_7709be52_01ee_11eb_9e70_5800e3953262row8_col2\" class=\"data row8 col2\" >nan</td>\n",
       "                        <td id=\"T_7709be52_01ee_11eb_9e70_5800e3953262row8_col3\" class=\"data row8 col3\" >nan</td>\n",
       "                        <td id=\"T_7709be52_01ee_11eb_9e70_5800e3953262row8_col4\" class=\"data row8 col4\" >nan</td>\n",
       "            </tr>\n",
       "            <tr>\n",
       "                        <th id=\"T_7709be52_01ee_11eb_9e70_5800e3953262level0_row9\" class=\"row_heading level0 row9\" >gomezca01</th>\n",
       "                        <td id=\"T_7709be52_01ee_11eb_9e70_5800e3953262row9_col0\" class=\"data row9 col0\" >nan</td>\n",
       "                        <td id=\"T_7709be52_01ee_11eb_9e70_5800e3953262row9_col1\" class=\"data row9 col1\" >nan</td>\n",
       "                        <td id=\"T_7709be52_01ee_11eb_9e70_5800e3953262row9_col2\" class=\"data row9 col2\" >nan</td>\n",
       "                        <td id=\"T_7709be52_01ee_11eb_9e70_5800e3953262row9_col3\" class=\"data row9 col3\" >nan</td>\n",
       "                        <td id=\"T_7709be52_01ee_11eb_9e70_5800e3953262row9_col4\" class=\"data row9 col4\" >nan</td>\n",
       "            </tr>\n",
       "    </tbody></table>"
      ],
      "text/plain": [
       "<pandas.io.formats.style.Styler at 0x19c01e69e88>"
      ]
     },
     "execution_count": 52,
     "metadata": {},
     "output_type": "execute_result"
    }
   ],
   "source": [
    "# 한 쪽에만 나타나는 행(선수), 컬럼(기록)은 모두 NaN 처리가 된다. \n",
    "(df_14 + df_15).head(10).style.highlight_null('yellow')"
   ]
  },
  {
   "cell_type": "code",
   "execution_count": 53,
   "metadata": {},
   "outputs": [
    {
     "data": {
      "text/html": [
       "<style  type=\"text/css\" >\n",
       "    #T_7719441e_01ee_11eb_b425_5800e3953262row3_col1 {\n",
       "            background-color:  yellow;\n",
       "        }    #T_7719441e_01ee_11eb_b425_5800e3953262row4_col3 {\n",
       "            background-color:  yellow;\n",
       "        }    #T_7719441e_01ee_11eb_b425_5800e3953262row5_col1 {\n",
       "            background-color:  yellow;\n",
       "        }    #T_7719441e_01ee_11eb_b425_5800e3953262row6_col3 {\n",
       "            background-color:  yellow;\n",
       "        }    #T_7719441e_01ee_11eb_b425_5800e3953262row7_col3 {\n",
       "            background-color:  yellow;\n",
       "        }    #T_7719441e_01ee_11eb_b425_5800e3953262row8_col1 {\n",
       "            background-color:  yellow;\n",
       "        }    #T_7719441e_01ee_11eb_b425_5800e3953262row9_col1 {\n",
       "            background-color:  yellow;\n",
       "        }</style><table id=\"T_7719441e_01ee_11eb_b425_5800e3953262\" ><thead>    <tr>        <th class=\"blank level0\" ></th>        <th class=\"col_heading level0 col0\" >AB</th>        <th class=\"col_heading level0 col1\" >G</th>        <th class=\"col_heading level0 col2\" >H</th>        <th class=\"col_heading level0 col3\" >HR</th>        <th class=\"col_heading level0 col4\" >R</th>    </tr>    <tr>        <th class=\"index_name level0\" >playerID</th>        <th class=\"blank\" ></th>        <th class=\"blank\" ></th>        <th class=\"blank\" ></th>        <th class=\"blank\" ></th>        <th class=\"blank\" ></th>    </tr></thead><tbody>\n",
       "                <tr>\n",
       "                        <th id=\"T_7719441e_01ee_11eb_b425_5800e3953262level0_row0\" class=\"row_heading level0 row0\" >altuvjo01</th>\n",
       "                        <td id=\"T_7719441e_01ee_11eb_b425_5800e3953262row0_col0\" class=\"data row0 col0\" >1298</td>\n",
       "                        <td id=\"T_7719441e_01ee_11eb_b425_5800e3953262row0_col1\" class=\"data row0 col1\" >158</td>\n",
       "                        <td id=\"T_7719441e_01ee_11eb_b425_5800e3953262row0_col2\" class=\"data row0 col2\" >425</td>\n",
       "                        <td id=\"T_7719441e_01ee_11eb_b425_5800e3953262row0_col3\" class=\"data row0 col3\" >15</td>\n",
       "                        <td id=\"T_7719441e_01ee_11eb_b425_5800e3953262row0_col4\" class=\"data row0 col4\" >171</td>\n",
       "            </tr>\n",
       "            <tr>\n",
       "                        <th id=\"T_7719441e_01ee_11eb_b425_5800e3953262level0_row1\" class=\"row_heading level0 row1\" >cartech02</th>\n",
       "                        <td id=\"T_7719441e_01ee_11eb_b425_5800e3953262row1_col0\" class=\"data row1 col0\" >898</td>\n",
       "                        <td id=\"T_7719441e_01ee_11eb_b425_5800e3953262row1_col1\" class=\"data row1 col1\" >145</td>\n",
       "                        <td id=\"T_7719441e_01ee_11eb_b425_5800e3953262row1_col2\" class=\"data row1 col2\" >193</td>\n",
       "                        <td id=\"T_7719441e_01ee_11eb_b425_5800e3953262row1_col3\" class=\"data row1 col3\" >24</td>\n",
       "                        <td id=\"T_7719441e_01ee_11eb_b425_5800e3953262row1_col4\" class=\"data row1 col4\" >118</td>\n",
       "            </tr>\n",
       "            <tr>\n",
       "                        <th id=\"T_7719441e_01ee_11eb_b425_5800e3953262level0_row2\" class=\"row_heading level0 row2\" >castrja01</th>\n",
       "                        <td id=\"T_7719441e_01ee_11eb_b425_5800e3953262row2_col0\" class=\"data row2 col0\" >802</td>\n",
       "                        <td id=\"T_7719441e_01ee_11eb_b425_5800e3953262row2_col1\" class=\"data row2 col1\" >126</td>\n",
       "                        <td id=\"T_7719441e_01ee_11eb_b425_5800e3953262row2_col2\" class=\"data row2 col2\" >174</td>\n",
       "                        <td id=\"T_7719441e_01ee_11eb_b425_5800e3953262row2_col3\" class=\"data row2 col3\" >11</td>\n",
       "                        <td id=\"T_7719441e_01ee_11eb_b425_5800e3953262row2_col4\" class=\"data row2 col4\" >81</td>\n",
       "            </tr>\n",
       "            <tr>\n",
       "                        <th id=\"T_7719441e_01ee_11eb_b425_5800e3953262level0_row3\" class=\"row_heading level0 row3\" >congeha01</th>\n",
       "                        <td id=\"T_7719441e_01ee_11eb_b425_5800e3953262row3_col0\" class=\"data row3 col0\" >201</td>\n",
       "                        <td id=\"T_7719441e_01ee_11eb_b425_5800e3953262row3_col1\" class=\"data row3 col1\" >nan</td>\n",
       "                        <td id=\"T_7719441e_01ee_11eb_b425_5800e3953262row3_col2\" class=\"data row3 col2\" >46</td>\n",
       "                        <td id=\"T_7719441e_01ee_11eb_b425_5800e3953262row3_col3\" class=\"data row3 col3\" >11</td>\n",
       "                        <td id=\"T_7719441e_01ee_11eb_b425_5800e3953262row3_col4\" class=\"data row3 col4\" >25</td>\n",
       "            </tr>\n",
       "            <tr>\n",
       "                        <th id=\"T_7719441e_01ee_11eb_b425_5800e3953262level0_row4\" class=\"row_heading level0 row4\" >corpoca01</th>\n",
       "                        <td id=\"T_7719441e_01ee_11eb_b425_5800e3953262row4_col0\" class=\"data row4 col0\" >170</td>\n",
       "                        <td id=\"T_7719441e_01ee_11eb_b425_5800e3953262row4_col1\" class=\"data row4 col1\" >55</td>\n",
       "                        <td id=\"T_7719441e_01ee_11eb_b425_5800e3953262row4_col2\" class=\"data row4 col2\" >40</td>\n",
       "                        <td id=\"T_7719441e_01ee_11eb_b425_5800e3953262row4_col3\" class=\"data row4 col3\" >nan</td>\n",
       "                        <td id=\"T_7719441e_01ee_11eb_b425_5800e3953262row4_col4\" class=\"data row4 col4\" >22</td>\n",
       "            </tr>\n",
       "            <tr>\n",
       "                        <th id=\"T_7719441e_01ee_11eb_b425_5800e3953262level0_row5\" class=\"row_heading level0 row5\" >correca01</th>\n",
       "                        <td id=\"T_7719441e_01ee_11eb_b425_5800e3953262row5_col0\" class=\"data row5 col0\" >387</td>\n",
       "                        <td id=\"T_7719441e_01ee_11eb_b425_5800e3953262row5_col1\" class=\"data row5 col1\" >nan</td>\n",
       "                        <td id=\"T_7719441e_01ee_11eb_b425_5800e3953262row5_col2\" class=\"data row5 col2\" >108</td>\n",
       "                        <td id=\"T_7719441e_01ee_11eb_b425_5800e3953262row5_col3\" class=\"data row5 col3\" >22</td>\n",
       "                        <td id=\"T_7719441e_01ee_11eb_b425_5800e3953262row5_col4\" class=\"data row5 col4\" >52</td>\n",
       "            </tr>\n",
       "            <tr>\n",
       "                        <th id=\"T_7719441e_01ee_11eb_b425_5800e3953262level0_row6\" class=\"row_heading level0 row6\" >dominma01</th>\n",
       "                        <td id=\"T_7719441e_01ee_11eb_b425_5800e3953262row6_col0\" class=\"data row6 col0\" >564</td>\n",
       "                        <td id=\"T_7719441e_01ee_11eb_b425_5800e3953262row6_col1\" class=\"data row6 col1\" >157</td>\n",
       "                        <td id=\"T_7719441e_01ee_11eb_b425_5800e3953262row6_col2\" class=\"data row6 col2\" >121</td>\n",
       "                        <td id=\"T_7719441e_01ee_11eb_b425_5800e3953262row6_col3\" class=\"data row6 col3\" >nan</td>\n",
       "                        <td id=\"T_7719441e_01ee_11eb_b425_5800e3953262row6_col4\" class=\"data row6 col4\" >51</td>\n",
       "            </tr>\n",
       "            <tr>\n",
       "                        <th id=\"T_7719441e_01ee_11eb_b425_5800e3953262level0_row7\" class=\"row_heading level0 row7\" >fowlede01</th>\n",
       "                        <td id=\"T_7719441e_01ee_11eb_b425_5800e3953262row7_col0\" class=\"data row7 col0\" >434</td>\n",
       "                        <td id=\"T_7719441e_01ee_11eb_b425_5800e3953262row7_col1\" class=\"data row7 col1\" >116</td>\n",
       "                        <td id=\"T_7719441e_01ee_11eb_b425_5800e3953262row7_col2\" class=\"data row7 col2\" >120</td>\n",
       "                        <td id=\"T_7719441e_01ee_11eb_b425_5800e3953262row7_col3\" class=\"data row7 col3\" >nan</td>\n",
       "                        <td id=\"T_7719441e_01ee_11eb_b425_5800e3953262row7_col4\" class=\"data row7 col4\" >61</td>\n",
       "            </tr>\n",
       "            <tr>\n",
       "                        <th id=\"T_7719441e_01ee_11eb_b425_5800e3953262level0_row8\" class=\"row_heading level0 row8\" >gattiev01</th>\n",
       "                        <td id=\"T_7719441e_01ee_11eb_b425_5800e3953262row8_col0\" class=\"data row8 col0\" >566</td>\n",
       "                        <td id=\"T_7719441e_01ee_11eb_b425_5800e3953262row8_col1\" class=\"data row8 col1\" >nan</td>\n",
       "                        <td id=\"T_7719441e_01ee_11eb_b425_5800e3953262row8_col2\" class=\"data row8 col2\" >139</td>\n",
       "                        <td id=\"T_7719441e_01ee_11eb_b425_5800e3953262row8_col3\" class=\"data row8 col3\" >27</td>\n",
       "                        <td id=\"T_7719441e_01ee_11eb_b425_5800e3953262row8_col4\" class=\"data row8 col4\" >66</td>\n",
       "            </tr>\n",
       "            <tr>\n",
       "                        <th id=\"T_7719441e_01ee_11eb_b425_5800e3953262level0_row9\" class=\"row_heading level0 row9\" >gomezca01</th>\n",
       "                        <td id=\"T_7719441e_01ee_11eb_b425_5800e3953262row9_col0\" class=\"data row9 col0\" >149</td>\n",
       "                        <td id=\"T_7719441e_01ee_11eb_b425_5800e3953262row9_col1\" class=\"data row9 col1\" >nan</td>\n",
       "                        <td id=\"T_7719441e_01ee_11eb_b425_5800e3953262row9_col2\" class=\"data row9 col2\" >36</td>\n",
       "                        <td id=\"T_7719441e_01ee_11eb_b425_5800e3953262row9_col3\" class=\"data row9 col3\" >4</td>\n",
       "                        <td id=\"T_7719441e_01ee_11eb_b425_5800e3953262row9_col4\" class=\"data row9 col4\" >19</td>\n",
       "            </tr>\n",
       "    </tbody></table>"
      ],
      "text/plain": [
       "<pandas.io.formats.style.Styler at 0x19c026f3848>"
      ]
     },
     "execution_count": 53,
     "metadata": {},
     "output_type": "execute_result"
    }
   ],
   "source": [
    "# .add 메소드로 fill_value 매개변수를 지정하면 한 쪽에만 나타나는 값에 대해서 \n",
    "#  한 쪽 값만으로 정상 처리 한다. \n",
    "# 단, 여전히 연산이 불가능한 값은 NaN 처리 된다. \n",
    "#      - 2014년에만 나타나는 선수는 2015년에만 존재하는 'G' 에 대한 기록이 없다.\n",
    "df_14.add(df_15, fill_value=0).head(10).style.highlight_null('yellow')"
   ]
  },
  {
   "cell_type": "markdown",
   "metadata": {},
   "source": [
    "# 6.5 Appending columns from different DataFrames"
   ]
  },
  {
   "cell_type": "code",
   "execution_count": 54,
   "metadata": {},
   "outputs": [],
   "source": [
    "### [Tech] 인덱스를 기준으로 lookup 기능을 구현한다.  \n",
    "#         lookup 대상이 되는 테이블은 인덱스 값의 구성이 unique 해야 한다. \n",
    "### [Goal] employee table에  자신의 부서의 최대 연봉값  칼럼을 추가"
   ]
  },
  {
   "cell_type": "markdown",
   "metadata": {},
   "source": [
    "## >> How it works..."
   ]
  },
  {
   "cell_type": "code",
   "execution_count": 55,
   "metadata": {},
   "outputs": [],
   "source": [
    "# 6.5.1 employee.csv로 부터 employee를 읽어 들인다. \n",
    "employee = pd.read_csv('data/employee.csv')\n",
    "\n",
    "#        lookup table에 해당하는 부서별 최대 급여를 구하기 위해 \n",
    "#        부서명과 기본급만 갖는 dept_sal DataFrame을 생성한다. \n",
    "#        3.4에서 사용한 기법 (부서별 급여로 정렬 후 중복제거 )으로 구한다. \n",
    "\n",
    "dept_sal = employee[['DEPARTMENT', 'BASE_SALARY']]\n"
   ]
  },
  {
   "cell_type": "code",
   "execution_count": 56,
   "metadata": {},
   "outputs": [
    {
     "data": {
      "text/html": [
       "<div>\n",
       "<style scoped>\n",
       "    .dataframe tbody tr th:only-of-type {\n",
       "        vertical-align: middle;\n",
       "    }\n",
       "\n",
       "    .dataframe tbody tr th {\n",
       "        vertical-align: top;\n",
       "    }\n",
       "\n",
       "    .dataframe thead th {\n",
       "        text-align: right;\n",
       "    }\n",
       "</style>\n",
       "<table border=\"1\" class=\"dataframe\">\n",
       "  <thead>\n",
       "    <tr style=\"text-align: right;\">\n",
       "      <th></th>\n",
       "      <th>DEPARTMENT</th>\n",
       "      <th>BASE_SALARY</th>\n",
       "    </tr>\n",
       "  </thead>\n",
       "  <tbody>\n",
       "    <tr>\n",
       "      <td>1494</td>\n",
       "      <td>Admn. &amp; Regulatory Affairs</td>\n",
       "      <td>140416.0</td>\n",
       "    </tr>\n",
       "    <tr>\n",
       "      <td>237</td>\n",
       "      <td>Admn. &amp; Regulatory Affairs</td>\n",
       "      <td>130416.0</td>\n",
       "    </tr>\n",
       "    <tr>\n",
       "      <td>1679</td>\n",
       "      <td>Admn. &amp; Regulatory Affairs</td>\n",
       "      <td>103776.0</td>\n",
       "    </tr>\n",
       "  </tbody>\n",
       "</table>\n",
       "</div>"
      ],
      "text/plain": [
       "                      DEPARTMENT  BASE_SALARY\n",
       "1494  Admn. & Regulatory Affairs     140416.0\n",
       "237   Admn. & Regulatory Affairs     130416.0\n",
       "1679  Admn. & Regulatory Affairs     103776.0"
      ]
     },
     "execution_count": 56,
     "metadata": {},
     "output_type": "execute_result"
    }
   ],
   "source": [
    "# 6.5.2  부서별 최대 급여 값을 구하기 위해 sorting을 수행한다. \n",
    "#        부서 오름차순, 기본급 내림차순\n",
    "dept_sal = dept_sal.sort_values(['DEPARTMENT', 'BASE_SALARY'], ascending=[True, False])\n",
    "dept_sal.head(3)"
   ]
  },
  {
   "cell_type": "code",
   "execution_count": 57,
   "metadata": {},
   "outputs": [
    {
     "data": {
      "text/html": [
       "<div>\n",
       "<style scoped>\n",
       "    .dataframe tbody tr th:only-of-type {\n",
       "        vertical-align: middle;\n",
       "    }\n",
       "\n",
       "    .dataframe tbody tr th {\n",
       "        vertical-align: top;\n",
       "    }\n",
       "\n",
       "    .dataframe thead th {\n",
       "        text-align: right;\n",
       "    }\n",
       "</style>\n",
       "<table border=\"1\" class=\"dataframe\">\n",
       "  <thead>\n",
       "    <tr style=\"text-align: right;\">\n",
       "      <th></th>\n",
       "      <th>DEPARTMENT</th>\n",
       "      <th>BASE_SALARY</th>\n",
       "    </tr>\n",
       "  </thead>\n",
       "  <tbody>\n",
       "    <tr>\n",
       "      <td>1494</td>\n",
       "      <td>Admn. &amp; Regulatory Affairs</td>\n",
       "      <td>140416.0</td>\n",
       "    </tr>\n",
       "    <tr>\n",
       "      <td>149</td>\n",
       "      <td>City Controller's Office</td>\n",
       "      <td>64251.0</td>\n",
       "    </tr>\n",
       "    <tr>\n",
       "      <td>236</td>\n",
       "      <td>City Council</td>\n",
       "      <td>100000.0</td>\n",
       "    </tr>\n",
       "    <tr>\n",
       "      <td>647</td>\n",
       "      <td>Convention and Entertainment</td>\n",
       "      <td>38397.0</td>\n",
       "    </tr>\n",
       "    <tr>\n",
       "      <td>1500</td>\n",
       "      <td>Dept of Neighborhoods (DON)</td>\n",
       "      <td>89221.0</td>\n",
       "    </tr>\n",
       "  </tbody>\n",
       "</table>\n",
       "</div>"
      ],
      "text/plain": [
       "                        DEPARTMENT  BASE_SALARY\n",
       "1494    Admn. & Regulatory Affairs     140416.0\n",
       "149       City Controller's Office      64251.0\n",
       "236                   City Council     100000.0\n",
       "647   Convention and Entertainment      38397.0\n",
       "1500   Dept of Neighborhoods (DON)      89221.0"
      ]
     },
     "execution_count": 57,
     "metadata": {},
     "output_type": "execute_result"
    }
   ],
   "source": [
    "# 6.5.3 부서별로 최초로 등장하는 하나의 행(각 부서의 최대 기본급)만 남기고 중복 된 행을 삭제한다.\n",
    "max_dept_sal = dept_sal.drop_duplicates(subset='DEPARTMENT')\n",
    "max_dept_sal.head()"
   ]
  },
  {
   "cell_type": "code",
   "execution_count": 58,
   "metadata": {
    "scrolled": true
   },
   "outputs": [
    {
     "data": {
      "text/plain": [
       "((24, 1), (2000, 9))"
      ]
     },
     "execution_count": 58,
     "metadata": {},
     "output_type": "execute_result"
    }
   ],
   "source": [
    "# 6.5.4 max_dept_sal에 부서를 인덱스로 설정함으로서 lookup table 준비가 되었다. \n",
    "#     새로운 컬럼을 추가할 employee table도 부서 DEPARTMENT를 인덱스로 설정한다. \n",
    "#     각각 24개 부서와 2,000개의 개인 데이터를 갖고 있다. \n",
    "max_dept_sal.set_index('DEPARTMENT', inplace = True)\n",
    "employee.set_index('DEPARTMENT',inplace = True)\n",
    "max_dept_sal.shape, employee.shape"
   ]
  },
  {
   "cell_type": "code",
   "execution_count": 59,
   "metadata": {},
   "outputs": [
    {
     "data": {
      "text/plain": [
       "((2000, 10),\n",
       "                                UNIQUE_ID               POSITION_TITLE  \\\n",
       " DEPARTMENT                                                              \n",
       " Municipal Courts Department            0  ASSISTANT DIRECTOR (EX LVL)   \n",
       " Library                                1            LIBRARY ASSISTANT   \n",
       " Houston Police Department-HPD          2               POLICE OFFICER   \n",
       " Houston Fire Department (HFD)          3            ENGINEER/OPERATOR   \n",
       " General Services Department            4                  ELECTRICIAN   \n",
       " \n",
       "                                BASE_SALARY             RACE EMPLOYMENT_TYPE  \\\n",
       " DEPARTMENT                                                                    \n",
       " Municipal Courts Department       121862.0  Hispanic/Latino       Full Time   \n",
       " Library                            26125.0  Hispanic/Latino       Full Time   \n",
       " Houston Police Department-HPD      45279.0            White       Full Time   \n",
       " Houston Fire Department (HFD)      63166.0            White       Full Time   \n",
       " General Services Department        56347.0            White       Full Time   \n",
       " \n",
       "                                GENDER EMPLOYMENT_STATUS   HIRE_DATE  \\\n",
       " DEPARTMENT                                                            \n",
       " Municipal Courts Department    Female            Active  2006-06-12   \n",
       " Library                        Female            Active  2000-07-19   \n",
       " Houston Police Department-HPD    Male            Active  2015-02-03   \n",
       " Houston Fire Department (HFD)    Male            Active  1982-02-08   \n",
       " General Services Department      Male            Active  1989-06-19   \n",
       " \n",
       "                                  JOB_DATE  MAX_DEPT_SALARY  \n",
       " DEPARTMENT                                                  \n",
       " Municipal Courts Department    2012-10-13         121862.0  \n",
       " Library                        2010-09-18         107763.0  \n",
       " Houston Police Department-HPD  2015-02-03         199596.0  \n",
       " Houston Fire Department (HFD)  1991-05-25         210588.0  \n",
       " General Services Department    1994-10-22          89194.0  )"
      ]
     },
     "execution_count": 59,
     "metadata": {},
     "output_type": "execute_result"
    }
   ],
   "source": [
    "# 6.5.5 employee에 max_dept_sal['BASE_SALARY'] 를 참조하여 추가한다. \n",
    "#     각 부서별  n x 1 의 카테시안 곱이 발생하며, lookup table이 unique하여 \n",
    "#     1개의 값을 갖는 한, 원래 컬럼을 추가하는 테이블의 행의 개수는 변하지 않는다. \n",
    "employee['MAX_DEPT_SALARY'] = max_dept_sal['BASE_SALARY']\n",
    "employee.shape, employee.head(), # 2000 행 변함 없다. 1개 컬럼이 추가 되었다. "
   ]
  },
  {
   "cell_type": "code",
   "execution_count": 60,
   "metadata": {
    "scrolled": true
   },
   "outputs": [
    {
     "data": {
      "text/html": [
       "<div>\n",
       "<style scoped>\n",
       "    .dataframe tbody tr th:only-of-type {\n",
       "        vertical-align: middle;\n",
       "    }\n",
       "\n",
       "    .dataframe tbody tr th {\n",
       "        vertical-align: top;\n",
       "    }\n",
       "\n",
       "    .dataframe thead th {\n",
       "        text-align: right;\n",
       "    }\n",
       "</style>\n",
       "<table border=\"1\" class=\"dataframe\">\n",
       "  <thead>\n",
       "    <tr style=\"text-align: right;\">\n",
       "      <th></th>\n",
       "      <th>UNIQUE_ID</th>\n",
       "      <th>POSITION_TITLE</th>\n",
       "      <th>BASE_SALARY</th>\n",
       "      <th>RACE</th>\n",
       "      <th>EMPLOYMENT_TYPE</th>\n",
       "      <th>GENDER</th>\n",
       "      <th>EMPLOYMENT_STATUS</th>\n",
       "      <th>HIRE_DATE</th>\n",
       "      <th>JOB_DATE</th>\n",
       "      <th>MAX_DEPT_SALARY</th>\n",
       "    </tr>\n",
       "    <tr>\n",
       "      <th>DEPARTMENT</th>\n",
       "      <th></th>\n",
       "      <th></th>\n",
       "      <th></th>\n",
       "      <th></th>\n",
       "      <th></th>\n",
       "      <th></th>\n",
       "      <th></th>\n",
       "      <th></th>\n",
       "      <th></th>\n",
       "      <th></th>\n",
       "    </tr>\n",
       "  </thead>\n",
       "  <tbody>\n",
       "  </tbody>\n",
       "</table>\n",
       "</div>"
      ],
      "text/plain": [
       "Empty DataFrame\n",
       "Columns: [UNIQUE_ID, POSITION_TITLE, BASE_SALARY, RACE, EMPLOYMENT_TYPE, GENDER, EMPLOYMENT_STATUS, HIRE_DATE, JOB_DATE, MAX_DEPT_SALARY]\n",
       "Index: []"
      ]
     },
     "execution_count": 60,
     "metadata": {},
     "output_type": "execute_result"
    }
   ],
   "source": [
    "# 6.5.6 각 부서의 최대값이므로 새로 추가한 MAX_DEPT_SALARY 보다 BASE_SALARY가 \n",
    "#      큰 경우는 발생 할 수 없다. 확인해보면 해당 케이스는 발생하지 않는다. \n",
    "employee.query('BASE_SALARY > MAX_DEPT_SALARY')"
   ]
  },
  {
   "cell_type": "markdown",
   "metadata": {},
   "source": [
    "## >> There's more 6.5"
   ]
  },
  {
   "cell_type": "code",
   "execution_count": 61,
   "metadata": {},
   "outputs": [
    {
     "data": {
      "text/html": [
       "<div>\n",
       "<style scoped>\n",
       "    .dataframe tbody tr th:only-of-type {\n",
       "        vertical-align: middle;\n",
       "    }\n",
       "\n",
       "    .dataframe tbody tr th {\n",
       "        vertical-align: top;\n",
       "    }\n",
       "\n",
       "    .dataframe thead th {\n",
       "        text-align: right;\n",
       "    }\n",
       "</style>\n",
       "<table border=\"1\" class=\"dataframe\">\n",
       "  <thead>\n",
       "    <tr style=\"text-align: right;\">\n",
       "      <th></th>\n",
       "      <th>BASE_SALARY</th>\n",
       "    </tr>\n",
       "    <tr>\n",
       "      <th>DEPARTMENT</th>\n",
       "      <th></th>\n",
       "    </tr>\n",
       "  </thead>\n",
       "  <tbody>\n",
       "    <tr>\n",
       "      <td>Public Works &amp; Engineering-PWE</td>\n",
       "      <td>50586.0</td>\n",
       "    </tr>\n",
       "    <tr>\n",
       "      <td>Houston Police Department-HPD</td>\n",
       "      <td>66614.0</td>\n",
       "    </tr>\n",
       "    <tr>\n",
       "      <td>Houston Police Department-HPD</td>\n",
       "      <td>66614.0</td>\n",
       "    </tr>\n",
       "    <tr>\n",
       "      <td>Housing and Community Devp.</td>\n",
       "      <td>78853.0</td>\n",
       "    </tr>\n",
       "    <tr>\n",
       "      <td>Houston Police Department-HPD</td>\n",
       "      <td>66614.0</td>\n",
       "    </tr>\n",
       "    <tr>\n",
       "      <td>Parks &amp; Recreation</td>\n",
       "      <td>NaN</td>\n",
       "    </tr>\n",
       "    <tr>\n",
       "      <td>Public Works &amp; Engineering-PWE</td>\n",
       "      <td>37211.0</td>\n",
       "    </tr>\n",
       "    <tr>\n",
       "      <td>Public Works &amp; Engineering-PWE</td>\n",
       "      <td>54683.0</td>\n",
       "    </tr>\n",
       "    <tr>\n",
       "      <td>Human Resources Dept.</td>\n",
       "      <td>58474.0</td>\n",
       "    </tr>\n",
       "    <tr>\n",
       "      <td>Health &amp; Human Services</td>\n",
       "      <td>47050.0</td>\n",
       "    </tr>\n",
       "  </tbody>\n",
       "</table>\n",
       "</div>"
      ],
      "text/plain": [
       "                                BASE_SALARY\n",
       "DEPARTMENT                                 \n",
       "Public Works & Engineering-PWE      50586.0\n",
       "Houston Police Department-HPD       66614.0\n",
       "Houston Police Department-HPD       66614.0\n",
       "Housing and Community Devp.         78853.0\n",
       "Houston Police Department-HPD       66614.0\n",
       "Parks & Recreation                      NaN\n",
       "Public Works & Engineering-PWE      37211.0\n",
       "Public Works & Engineering-PWE      54683.0\n",
       "Human Resources Dept.               58474.0\n",
       "Health & Human Services             47050.0"
      ]
     },
     "execution_count": 61,
     "metadata": {},
     "output_type": "execute_result"
    }
   ],
   "source": [
    "# lookup table에 중복된 값의 인덱스가 존재 하는 경우 (즉 unique 하지 않은 경우),\n",
    "# 인덱스간 참조 할당은 불가 하다.\n",
    "# 고의로 중복된 값을 갖는 lookup table random_salary를 생성하고 새 컬럼 추가를 시도해보자. \n",
    "np.random.seed(1234)\n",
    "random_salary = dept_sal.sample(n=10).set_index('DEPARTMENT')\n",
    "random_salary"
   ]
  },
  {
   "cell_type": "code",
   "execution_count": 62,
   "metadata": {},
   "outputs": [
    {
     "ename": "ValueError",
     "evalue": "cannot reindex from a duplicate axis",
     "output_type": "error",
     "traceback": [
      "\u001b[1;31m---------------------------------------------------------------------------\u001b[0m",
      "\u001b[1;31mValueError\u001b[0m                                Traceback (most recent call last)",
      "\u001b[1;32m<ipython-input-62-a3b022bd190d>\u001b[0m in \u001b[0;36m<module>\u001b[1;34m\u001b[0m\n\u001b[0;32m      1\u001b[0m \u001b[1;31m# 중복된 값이 있는 축 axis 에 대해서 reindex가 불가하다는 오류 메시지가 발생한다.\u001b[0m\u001b[1;33m\u001b[0m\u001b[1;33m\u001b[0m\u001b[1;33m\u001b[0m\u001b[0m\n\u001b[1;32m----> 2\u001b[1;33m \u001b[0memployee\u001b[0m\u001b[1;33m[\u001b[0m\u001b[1;34m'RANDOM_SALARY'\u001b[0m\u001b[1;33m]\u001b[0m \u001b[1;33m=\u001b[0m \u001b[0mrandom_salary\u001b[0m\u001b[1;33m[\u001b[0m\u001b[1;34m'BASE_SALARY'\u001b[0m\u001b[1;33m]\u001b[0m\u001b[1;33m\u001b[0m\u001b[1;33m\u001b[0m\u001b[0m\n\u001b[0m",
      "\u001b[1;32mC:\\ProgramData\\Anaconda3\\lib\\site-packages\\pandas\\core\\frame.py\u001b[0m in \u001b[0;36m__setitem__\u001b[1;34m(self, key, value)\u001b[0m\n\u001b[0;32m   3470\u001b[0m         \u001b[1;32melse\u001b[0m\u001b[1;33m:\u001b[0m\u001b[1;33m\u001b[0m\u001b[1;33m\u001b[0m\u001b[0m\n\u001b[0;32m   3471\u001b[0m             \u001b[1;31m# set column\u001b[0m\u001b[1;33m\u001b[0m\u001b[1;33m\u001b[0m\u001b[1;33m\u001b[0m\u001b[0m\n\u001b[1;32m-> 3472\u001b[1;33m             \u001b[0mself\u001b[0m\u001b[1;33m.\u001b[0m\u001b[0m_set_item\u001b[0m\u001b[1;33m(\u001b[0m\u001b[0mkey\u001b[0m\u001b[1;33m,\u001b[0m \u001b[0mvalue\u001b[0m\u001b[1;33m)\u001b[0m\u001b[1;33m\u001b[0m\u001b[1;33m\u001b[0m\u001b[0m\n\u001b[0m\u001b[0;32m   3473\u001b[0m \u001b[1;33m\u001b[0m\u001b[0m\n\u001b[0;32m   3474\u001b[0m     \u001b[1;32mdef\u001b[0m \u001b[0m_setitem_slice\u001b[0m\u001b[1;33m(\u001b[0m\u001b[0mself\u001b[0m\u001b[1;33m,\u001b[0m \u001b[0mkey\u001b[0m\u001b[1;33m,\u001b[0m \u001b[0mvalue\u001b[0m\u001b[1;33m)\u001b[0m\u001b[1;33m:\u001b[0m\u001b[1;33m\u001b[0m\u001b[1;33m\u001b[0m\u001b[0m\n",
      "\u001b[1;32mC:\\ProgramData\\Anaconda3\\lib\\site-packages\\pandas\\core\\frame.py\u001b[0m in \u001b[0;36m_set_item\u001b[1;34m(self, key, value)\u001b[0m\n\u001b[0;32m   3547\u001b[0m \u001b[1;33m\u001b[0m\u001b[0m\n\u001b[0;32m   3548\u001b[0m         \u001b[0mself\u001b[0m\u001b[1;33m.\u001b[0m\u001b[0m_ensure_valid_index\u001b[0m\u001b[1;33m(\u001b[0m\u001b[0mvalue\u001b[0m\u001b[1;33m)\u001b[0m\u001b[1;33m\u001b[0m\u001b[1;33m\u001b[0m\u001b[0m\n\u001b[1;32m-> 3549\u001b[1;33m         \u001b[0mvalue\u001b[0m \u001b[1;33m=\u001b[0m \u001b[0mself\u001b[0m\u001b[1;33m.\u001b[0m\u001b[0m_sanitize_column\u001b[0m\u001b[1;33m(\u001b[0m\u001b[0mkey\u001b[0m\u001b[1;33m,\u001b[0m \u001b[0mvalue\u001b[0m\u001b[1;33m)\u001b[0m\u001b[1;33m\u001b[0m\u001b[1;33m\u001b[0m\u001b[0m\n\u001b[0m\u001b[0;32m   3550\u001b[0m         \u001b[0mNDFrame\u001b[0m\u001b[1;33m.\u001b[0m\u001b[0m_set_item\u001b[0m\u001b[1;33m(\u001b[0m\u001b[0mself\u001b[0m\u001b[1;33m,\u001b[0m \u001b[0mkey\u001b[0m\u001b[1;33m,\u001b[0m \u001b[0mvalue\u001b[0m\u001b[1;33m)\u001b[0m\u001b[1;33m\u001b[0m\u001b[1;33m\u001b[0m\u001b[0m\n\u001b[0;32m   3551\u001b[0m \u001b[1;33m\u001b[0m\u001b[0m\n",
      "\u001b[1;32mC:\\ProgramData\\Anaconda3\\lib\\site-packages\\pandas\\core\\frame.py\u001b[0m in \u001b[0;36m_sanitize_column\u001b[1;34m(self, key, value, broadcast)\u001b[0m\n\u001b[0;32m   3709\u001b[0m \u001b[1;33m\u001b[0m\u001b[0m\n\u001b[0;32m   3710\u001b[0m         \u001b[1;32mif\u001b[0m \u001b[0misinstance\u001b[0m\u001b[1;33m(\u001b[0m\u001b[0mvalue\u001b[0m\u001b[1;33m,\u001b[0m \u001b[0mSeries\u001b[0m\u001b[1;33m)\u001b[0m\u001b[1;33m:\u001b[0m\u001b[1;33m\u001b[0m\u001b[1;33m\u001b[0m\u001b[0m\n\u001b[1;32m-> 3711\u001b[1;33m             \u001b[0mvalue\u001b[0m \u001b[1;33m=\u001b[0m \u001b[0mreindexer\u001b[0m\u001b[1;33m(\u001b[0m\u001b[0mvalue\u001b[0m\u001b[1;33m)\u001b[0m\u001b[1;33m\u001b[0m\u001b[1;33m\u001b[0m\u001b[0m\n\u001b[0m\u001b[0;32m   3712\u001b[0m \u001b[1;33m\u001b[0m\u001b[0m\n\u001b[0;32m   3713\u001b[0m         \u001b[1;32melif\u001b[0m \u001b[0misinstance\u001b[0m\u001b[1;33m(\u001b[0m\u001b[0mvalue\u001b[0m\u001b[1;33m,\u001b[0m \u001b[0mDataFrame\u001b[0m\u001b[1;33m)\u001b[0m\u001b[1;33m:\u001b[0m\u001b[1;33m\u001b[0m\u001b[1;33m\u001b[0m\u001b[0m\n",
      "\u001b[1;32mC:\\ProgramData\\Anaconda3\\lib\\site-packages\\pandas\\core\\frame.py\u001b[0m in \u001b[0;36mreindexer\u001b[1;34m(value)\u001b[0m\n\u001b[0;32m   3700\u001b[0m                     \u001b[1;31m# duplicate axis\u001b[0m\u001b[1;33m\u001b[0m\u001b[1;33m\u001b[0m\u001b[1;33m\u001b[0m\u001b[0m\n\u001b[0;32m   3701\u001b[0m                     \u001b[1;32mif\u001b[0m \u001b[1;32mnot\u001b[0m \u001b[0mvalue\u001b[0m\u001b[1;33m.\u001b[0m\u001b[0mindex\u001b[0m\u001b[1;33m.\u001b[0m\u001b[0mis_unique\u001b[0m\u001b[1;33m:\u001b[0m\u001b[1;33m\u001b[0m\u001b[1;33m\u001b[0m\u001b[0m\n\u001b[1;32m-> 3702\u001b[1;33m                         \u001b[1;32mraise\u001b[0m \u001b[0me\u001b[0m\u001b[1;33m\u001b[0m\u001b[1;33m\u001b[0m\u001b[0m\n\u001b[0m\u001b[0;32m   3703\u001b[0m \u001b[1;33m\u001b[0m\u001b[0m\n\u001b[0;32m   3704\u001b[0m                     \u001b[1;31m# other\u001b[0m\u001b[1;33m\u001b[0m\u001b[1;33m\u001b[0m\u001b[1;33m\u001b[0m\u001b[0m\n",
      "\u001b[1;32mC:\\ProgramData\\Anaconda3\\lib\\site-packages\\pandas\\core\\frame.py\u001b[0m in \u001b[0;36mreindexer\u001b[1;34m(value)\u001b[0m\n\u001b[0;32m   3695\u001b[0m                 \u001b[1;31m# GH 4107\u001b[0m\u001b[1;33m\u001b[0m\u001b[1;33m\u001b[0m\u001b[1;33m\u001b[0m\u001b[0m\n\u001b[0;32m   3696\u001b[0m                 \u001b[1;32mtry\u001b[0m\u001b[1;33m:\u001b[0m\u001b[1;33m\u001b[0m\u001b[1;33m\u001b[0m\u001b[0m\n\u001b[1;32m-> 3697\u001b[1;33m                     \u001b[0mvalue\u001b[0m \u001b[1;33m=\u001b[0m \u001b[0mvalue\u001b[0m\u001b[1;33m.\u001b[0m\u001b[0mreindex\u001b[0m\u001b[1;33m(\u001b[0m\u001b[0mself\u001b[0m\u001b[1;33m.\u001b[0m\u001b[0mindex\u001b[0m\u001b[1;33m)\u001b[0m\u001b[1;33m.\u001b[0m\u001b[0m_values\u001b[0m\u001b[1;33m\u001b[0m\u001b[1;33m\u001b[0m\u001b[0m\n\u001b[0m\u001b[0;32m   3698\u001b[0m                 \u001b[1;32mexcept\u001b[0m \u001b[0mException\u001b[0m \u001b[1;32mas\u001b[0m \u001b[0me\u001b[0m\u001b[1;33m:\u001b[0m\u001b[1;33m\u001b[0m\u001b[1;33m\u001b[0m\u001b[0m\n\u001b[0;32m   3699\u001b[0m \u001b[1;33m\u001b[0m\u001b[0m\n",
      "\u001b[1;32mC:\\ProgramData\\Anaconda3\\lib\\site-packages\\pandas\\core\\series.py\u001b[0m in \u001b[0;36mreindex\u001b[1;34m(self, index, **kwargs)\u001b[0m\n\u001b[0;32m   4216\u001b[0m     \u001b[1;33m@\u001b[0m\u001b[0mAppender\u001b[0m\u001b[1;33m(\u001b[0m\u001b[0mgeneric\u001b[0m\u001b[1;33m.\u001b[0m\u001b[0mNDFrame\u001b[0m\u001b[1;33m.\u001b[0m\u001b[0mreindex\u001b[0m\u001b[1;33m.\u001b[0m\u001b[0m__doc__\u001b[0m\u001b[1;33m)\u001b[0m\u001b[1;33m\u001b[0m\u001b[1;33m\u001b[0m\u001b[0m\n\u001b[0;32m   4217\u001b[0m     \u001b[1;32mdef\u001b[0m \u001b[0mreindex\u001b[0m\u001b[1;33m(\u001b[0m\u001b[0mself\u001b[0m\u001b[1;33m,\u001b[0m \u001b[0mindex\u001b[0m\u001b[1;33m=\u001b[0m\u001b[1;32mNone\u001b[0m\u001b[1;33m,\u001b[0m \u001b[1;33m**\u001b[0m\u001b[0mkwargs\u001b[0m\u001b[1;33m)\u001b[0m\u001b[1;33m:\u001b[0m\u001b[1;33m\u001b[0m\u001b[1;33m\u001b[0m\u001b[0m\n\u001b[1;32m-> 4218\u001b[1;33m         \u001b[1;32mreturn\u001b[0m \u001b[0msuper\u001b[0m\u001b[1;33m(\u001b[0m\u001b[1;33m)\u001b[0m\u001b[1;33m.\u001b[0m\u001b[0mreindex\u001b[0m\u001b[1;33m(\u001b[0m\u001b[0mindex\u001b[0m\u001b[1;33m=\u001b[0m\u001b[0mindex\u001b[0m\u001b[1;33m,\u001b[0m \u001b[1;33m**\u001b[0m\u001b[0mkwargs\u001b[0m\u001b[1;33m)\u001b[0m\u001b[1;33m\u001b[0m\u001b[1;33m\u001b[0m\u001b[0m\n\u001b[0m\u001b[0;32m   4219\u001b[0m \u001b[1;33m\u001b[0m\u001b[0m\n\u001b[0;32m   4220\u001b[0m     def drop(\n",
      "\u001b[1;32mC:\\ProgramData\\Anaconda3\\lib\\site-packages\\pandas\\core\\generic.py\u001b[0m in \u001b[0;36mreindex\u001b[1;34m(self, *args, **kwargs)\u001b[0m\n\u001b[0;32m   4512\u001b[0m         \u001b[1;31m# perform the reindex on the axes\u001b[0m\u001b[1;33m\u001b[0m\u001b[1;33m\u001b[0m\u001b[1;33m\u001b[0m\u001b[0m\n\u001b[0;32m   4513\u001b[0m         return self._reindex_axes(\n\u001b[1;32m-> 4514\u001b[1;33m             \u001b[0maxes\u001b[0m\u001b[1;33m,\u001b[0m \u001b[0mlevel\u001b[0m\u001b[1;33m,\u001b[0m \u001b[0mlimit\u001b[0m\u001b[1;33m,\u001b[0m \u001b[0mtolerance\u001b[0m\u001b[1;33m,\u001b[0m \u001b[0mmethod\u001b[0m\u001b[1;33m,\u001b[0m \u001b[0mfill_value\u001b[0m\u001b[1;33m,\u001b[0m \u001b[0mcopy\u001b[0m\u001b[1;33m\u001b[0m\u001b[1;33m\u001b[0m\u001b[0m\n\u001b[0m\u001b[0;32m   4515\u001b[0m         ).__finalize__(self)\n\u001b[0;32m   4516\u001b[0m \u001b[1;33m\u001b[0m\u001b[0m\n",
      "\u001b[1;32mC:\\ProgramData\\Anaconda3\\lib\\site-packages\\pandas\\core\\generic.py\u001b[0m in \u001b[0;36m_reindex_axes\u001b[1;34m(self, axes, level, limit, tolerance, method, fill_value, copy)\u001b[0m\n\u001b[0;32m   4533\u001b[0m                 \u001b[0mfill_value\u001b[0m\u001b[1;33m=\u001b[0m\u001b[0mfill_value\u001b[0m\u001b[1;33m,\u001b[0m\u001b[1;33m\u001b[0m\u001b[1;33m\u001b[0m\u001b[0m\n\u001b[0;32m   4534\u001b[0m                 \u001b[0mcopy\u001b[0m\u001b[1;33m=\u001b[0m\u001b[0mcopy\u001b[0m\u001b[1;33m,\u001b[0m\u001b[1;33m\u001b[0m\u001b[1;33m\u001b[0m\u001b[0m\n\u001b[1;32m-> 4535\u001b[1;33m                 \u001b[0mallow_dups\u001b[0m\u001b[1;33m=\u001b[0m\u001b[1;32mFalse\u001b[0m\u001b[1;33m,\u001b[0m\u001b[1;33m\u001b[0m\u001b[1;33m\u001b[0m\u001b[0m\n\u001b[0m\u001b[0;32m   4536\u001b[0m             )\n\u001b[0;32m   4537\u001b[0m \u001b[1;33m\u001b[0m\u001b[0m\n",
      "\u001b[1;32mC:\\ProgramData\\Anaconda3\\lib\\site-packages\\pandas\\core\\generic.py\u001b[0m in \u001b[0;36m_reindex_with_indexers\u001b[1;34m(self, reindexers, fill_value, copy, allow_dups)\u001b[0m\n\u001b[0;32m   4575\u001b[0m                 \u001b[0mfill_value\u001b[0m\u001b[1;33m=\u001b[0m\u001b[0mfill_value\u001b[0m\u001b[1;33m,\u001b[0m\u001b[1;33m\u001b[0m\u001b[1;33m\u001b[0m\u001b[0m\n\u001b[0;32m   4576\u001b[0m                 \u001b[0mallow_dups\u001b[0m\u001b[1;33m=\u001b[0m\u001b[0mallow_dups\u001b[0m\u001b[1;33m,\u001b[0m\u001b[1;33m\u001b[0m\u001b[1;33m\u001b[0m\u001b[0m\n\u001b[1;32m-> 4577\u001b[1;33m                 \u001b[0mcopy\u001b[0m\u001b[1;33m=\u001b[0m\u001b[0mcopy\u001b[0m\u001b[1;33m,\u001b[0m\u001b[1;33m\u001b[0m\u001b[1;33m\u001b[0m\u001b[0m\n\u001b[0m\u001b[0;32m   4578\u001b[0m             )\n\u001b[0;32m   4579\u001b[0m \u001b[1;33m\u001b[0m\u001b[0m\n",
      "\u001b[1;32mC:\\ProgramData\\Anaconda3\\lib\\site-packages\\pandas\\core\\internals\\managers.py\u001b[0m in \u001b[0;36mreindex_indexer\u001b[1;34m(self, new_axis, indexer, axis, fill_value, allow_dups, copy)\u001b[0m\n\u001b[0;32m   1249\u001b[0m         \u001b[1;31m# some axes don't allow reindexing with dups\u001b[0m\u001b[1;33m\u001b[0m\u001b[1;33m\u001b[0m\u001b[1;33m\u001b[0m\u001b[0m\n\u001b[0;32m   1250\u001b[0m         \u001b[1;32mif\u001b[0m \u001b[1;32mnot\u001b[0m \u001b[0mallow_dups\u001b[0m\u001b[1;33m:\u001b[0m\u001b[1;33m\u001b[0m\u001b[1;33m\u001b[0m\u001b[0m\n\u001b[1;32m-> 1251\u001b[1;33m             \u001b[0mself\u001b[0m\u001b[1;33m.\u001b[0m\u001b[0maxes\u001b[0m\u001b[1;33m[\u001b[0m\u001b[0maxis\u001b[0m\u001b[1;33m]\u001b[0m\u001b[1;33m.\u001b[0m\u001b[0m_can_reindex\u001b[0m\u001b[1;33m(\u001b[0m\u001b[0mindexer\u001b[0m\u001b[1;33m)\u001b[0m\u001b[1;33m\u001b[0m\u001b[1;33m\u001b[0m\u001b[0m\n\u001b[0m\u001b[0;32m   1252\u001b[0m \u001b[1;33m\u001b[0m\u001b[0m\n\u001b[0;32m   1253\u001b[0m         \u001b[1;32mif\u001b[0m \u001b[0maxis\u001b[0m \u001b[1;33m>=\u001b[0m \u001b[0mself\u001b[0m\u001b[1;33m.\u001b[0m\u001b[0mndim\u001b[0m\u001b[1;33m:\u001b[0m\u001b[1;33m\u001b[0m\u001b[1;33m\u001b[0m\u001b[0m\n",
      "\u001b[1;32mC:\\ProgramData\\Anaconda3\\lib\\site-packages\\pandas\\core\\indexes\\base.py\u001b[0m in \u001b[0;36m_can_reindex\u001b[1;34m(self, indexer)\u001b[0m\n\u001b[0;32m   3360\u001b[0m         \u001b[1;31m# trying to reindex on an axis with duplicates\u001b[0m\u001b[1;33m\u001b[0m\u001b[1;33m\u001b[0m\u001b[1;33m\u001b[0m\u001b[0m\n\u001b[0;32m   3361\u001b[0m         \u001b[1;32mif\u001b[0m \u001b[1;32mnot\u001b[0m \u001b[0mself\u001b[0m\u001b[1;33m.\u001b[0m\u001b[0mis_unique\u001b[0m \u001b[1;32mand\u001b[0m \u001b[0mlen\u001b[0m\u001b[1;33m(\u001b[0m\u001b[0mindexer\u001b[0m\u001b[1;33m)\u001b[0m\u001b[1;33m:\u001b[0m\u001b[1;33m\u001b[0m\u001b[1;33m\u001b[0m\u001b[0m\n\u001b[1;32m-> 3362\u001b[1;33m             \u001b[1;32mraise\u001b[0m \u001b[0mValueError\u001b[0m\u001b[1;33m(\u001b[0m\u001b[1;34m\"cannot reindex from a duplicate axis\"\u001b[0m\u001b[1;33m)\u001b[0m\u001b[1;33m\u001b[0m\u001b[1;33m\u001b[0m\u001b[0m\n\u001b[0m\u001b[0;32m   3363\u001b[0m \u001b[1;33m\u001b[0m\u001b[0m\n\u001b[0;32m   3364\u001b[0m     \u001b[1;32mdef\u001b[0m \u001b[0mreindex\u001b[0m\u001b[1;33m(\u001b[0m\u001b[0mself\u001b[0m\u001b[1;33m,\u001b[0m \u001b[0mtarget\u001b[0m\u001b[1;33m,\u001b[0m \u001b[0mmethod\u001b[0m\u001b[1;33m=\u001b[0m\u001b[1;32mNone\u001b[0m\u001b[1;33m,\u001b[0m \u001b[0mlevel\u001b[0m\u001b[1;33m=\u001b[0m\u001b[1;32mNone\u001b[0m\u001b[1;33m,\u001b[0m \u001b[0mlimit\u001b[0m\u001b[1;33m=\u001b[0m\u001b[1;32mNone\u001b[0m\u001b[1;33m,\u001b[0m \u001b[0mtolerance\u001b[0m\u001b[1;33m=\u001b[0m\u001b[1;32mNone\u001b[0m\u001b[1;33m)\u001b[0m\u001b[1;33m:\u001b[0m\u001b[1;33m\u001b[0m\u001b[1;33m\u001b[0m\u001b[0m\n",
      "\u001b[1;31mValueError\u001b[0m: cannot reindex from a duplicate axis"
     ]
    }
   ],
   "source": [
    "# 중복된 값이 있는 축 axis 에 대해서 reindex가 불가하다는 오류 메시지가 발생한다. \n",
    "employee['RANDOM_SALARY'] = random_salary['BASE_SALARY']"
   ]
  },
  {
   "cell_type": "code",
   "execution_count": 63,
   "metadata": {},
   "outputs": [
    {
     "data": {
      "text/plain": [
       "140416.0    29\n",
       "100000.0    11\n",
       "64251.0      5\n",
       "Name: MAX_SALARY2, dtype: int64"
      ]
     },
     "execution_count": 63,
     "metadata": {},
     "output_type": "execute_result"
    }
   ],
   "source": [
    "# 만약에 새컬럼을 추가하려는 원본 테이블에는 존재하는 부서지만, \n",
    "#  lookup table 상에 매핑되는 부서가 없다면, NaN 값을 갖는다. \n",
    "\n",
    "# 고의로 max_dept_sal에서 3개 줄 만 갖는 lookup table을 참조 시켜보자.\n",
    "\n",
    "employee['MAX_SALARY2'] = max_dept_sal['BASE_SALARY'].head(3)\n",
    "employee.MAX_SALARY2.value_counts()"
   ]
  },
  {
   "cell_type": "code",
   "execution_count": 64,
   "metadata": {},
   "outputs": [
    {
     "data": {
      "text/plain": [
       "0.9775"
      ]
     },
     "execution_count": 64,
     "metadata": {},
     "output_type": "execute_result"
    }
   ],
   "source": [
    "# 매핑 되는 부서값이 없었던 대부분의 행 (97.75%)이 NaN 값을 갖는다. \n",
    "employee.MAX_SALARY2.isnull().mean()"
   ]
  },
  {
   "cell_type": "markdown",
   "metadata": {},
   "source": [
    "# 6.6 Highlighting maximum value from each column"
   ]
  },
  {
   "cell_type": "code",
   "execution_count": 65,
   "metadata": {},
   "outputs": [],
   "source": [
    "### [Tech] .idxmax()를 이용해서 각 컬럼의 최대값을 갖는 인덱스 레이블을 구하고 이를 강조해 본다. \n",
    "### [Goal] college df에서 각 컬럼의 최대값을 강조해본다. "
   ]
  },
  {
   "cell_type": "markdown",
   "metadata": {},
   "source": [
    "## >> How it works..."
   ]
  },
  {
   "cell_type": "code",
   "execution_count": 66,
   "metadata": {},
   "outputs": [
    {
     "data": {
      "text/plain": [
       "CITY                   object\n",
       "STABBR                 object\n",
       "HBCU                  float64\n",
       "MENONLY               float64\n",
       "WOMENONLY             float64\n",
       "RELAFFIL                int64\n",
       "SATVRMID              float64\n",
       "SATMTMID              float64\n",
       "DISTANCEONLY          float64\n",
       "UGDS                  float64\n",
       "UGDS_WHITE            float64\n",
       "UGDS_BLACK            float64\n",
       "UGDS_HISP             float64\n",
       "UGDS_ASIAN            float64\n",
       "UGDS_AIAN             float64\n",
       "UGDS_NHPI             float64\n",
       "UGDS_2MOR             float64\n",
       "UGDS_NRA              float64\n",
       "UGDS_UNKN             float64\n",
       "PPTUG_EF              float64\n",
       "CURROPER                int64\n",
       "PCTPELL               float64\n",
       "PCTFLOAN              float64\n",
       "UG25ABV               float64\n",
       "MD_EARN_WNE_P10        object\n",
       "GRAD_DEBT_MDN_SUPP     object\n",
       "dtype: object"
      ]
     },
     "execution_count": 66,
     "metadata": {},
     "output_type": "execute_result"
    }
   ],
   "source": [
    "# 6.6.1 college.csv로 부터 INSTNM을 인덱스로 하는 college를 load 하고, dtypes를 확인한다. \n",
    "college = pd.read_csv('data/college.csv', index_col='INSTNM')\n",
    "college.dtypes"
   ]
  },
  {
   "cell_type": "code",
   "execution_count": 67,
   "metadata": {},
   "outputs": [
    {
     "data": {
      "text/plain": [
       "'30300'"
      ]
     },
     "execution_count": 67,
     "metadata": {},
     "output_type": "execute_result"
    }
   ],
   "source": [
    "# 6.6.2 숫자값을 갖는 object 형 데이터 MD_EARN_WNE_P10, GRAD_DEBT_MDN_SUPP 이 있다. \n",
    "college.MD_EARN_WNE_P10.iloc[0]"
   ]
  },
  {
   "cell_type": "code",
   "execution_count": 68,
   "metadata": {},
   "outputs": [
    {
     "data": {
      "text/plain": [
       "'33888'"
      ]
     },
     "execution_count": 68,
     "metadata": {},
     "output_type": "execute_result"
    }
   ],
   "source": [
    "college.GRAD_DEBT_MDN_SUPP.iloc[0]"
   ]
  },
  {
   "cell_type": "code",
   "execution_count": 69,
   "metadata": {},
   "outputs": [
    {
     "data": {
      "text/plain": [
       "INSTNM\n",
       "Sharon Regional Health System School of Nursing    PrivacySuppressed\n",
       "Northcoast Medical Training Academy                PrivacySuppressed\n",
       "Success Schools                                    PrivacySuppressed\n",
       "Louisiana Culinary Institute                       PrivacySuppressed\n",
       "Bais Medrash Toras Chesed                          PrivacySuppressed\n",
       "Name: MD_EARN_WNE_P10, dtype: object"
      ]
     },
     "execution_count": 69,
     "metadata": {},
     "output_type": "execute_result"
    }
   ],
   "source": [
    "# 6.6.3 PrivacySuppressed를 일부 행이 값으로 갖고 있다. \n",
    "college.MD_EARN_WNE_P10.sort_values(ascending = False).head()"
   ]
  },
  {
   "cell_type": "code",
   "execution_count": 70,
   "metadata": {},
   "outputs": [
    {
     "data": {
      "text/plain": [
       "MD_EARN_WNE_P10       float64\n",
       "GRAD_DEBT_MDN_SUPP    float64\n",
       "dtype: object"
      ]
     },
     "execution_count": 70,
     "metadata": {},
     "output_type": "execute_result"
    }
   ],
   "source": [
    "# 6.6.4 해당 행을 무시하고 강제로 숫자로 변환하는 to_number(  , errors= 'coerce')를 적용한다. \n",
    "cols = ['MD_EARN_WNE_P10','GRAD_DEBT_MDN_SUPP']\n",
    "for col in cols : \n",
    "    college[col] = pd.to_numeric(college[col], errors='coerce')\n",
    "college.dtypes.loc[cols]"
   ]
  },
  {
   "cell_type": "code",
   "execution_count": 71,
   "metadata": {},
   "outputs": [
    {
     "data": {
      "text/html": [
       "<div>\n",
       "<style scoped>\n",
       "    .dataframe tbody tr th:only-of-type {\n",
       "        vertical-align: middle;\n",
       "    }\n",
       "\n",
       "    .dataframe tbody tr th {\n",
       "        vertical-align: top;\n",
       "    }\n",
       "\n",
       "    .dataframe thead th {\n",
       "        text-align: right;\n",
       "    }\n",
       "</style>\n",
       "<table border=\"1\" class=\"dataframe\">\n",
       "  <thead>\n",
       "    <tr style=\"text-align: right;\">\n",
       "      <th></th>\n",
       "      <th>HBCU</th>\n",
       "      <th>MENONLY</th>\n",
       "      <th>WOMENONLY</th>\n",
       "      <th>RELAFFIL</th>\n",
       "      <th>SATVRMID</th>\n",
       "      <th>SATMTMID</th>\n",
       "      <th>DISTANCEONLY</th>\n",
       "      <th>UGDS</th>\n",
       "      <th>UGDS_WHITE</th>\n",
       "      <th>UGDS_BLACK</th>\n",
       "      <th>...</th>\n",
       "      <th>UGDS_2MOR</th>\n",
       "      <th>UGDS_NRA</th>\n",
       "      <th>UGDS_UNKN</th>\n",
       "      <th>PPTUG_EF</th>\n",
       "      <th>CURROPER</th>\n",
       "      <th>PCTPELL</th>\n",
       "      <th>PCTFLOAN</th>\n",
       "      <th>UG25ABV</th>\n",
       "      <th>MD_EARN_WNE_P10</th>\n",
       "      <th>GRAD_DEBT_MDN_SUPP</th>\n",
       "    </tr>\n",
       "    <tr>\n",
       "      <th>INSTNM</th>\n",
       "      <th></th>\n",
       "      <th></th>\n",
       "      <th></th>\n",
       "      <th></th>\n",
       "      <th></th>\n",
       "      <th></th>\n",
       "      <th></th>\n",
       "      <th></th>\n",
       "      <th></th>\n",
       "      <th></th>\n",
       "      <th></th>\n",
       "      <th></th>\n",
       "      <th></th>\n",
       "      <th></th>\n",
       "      <th></th>\n",
       "      <th></th>\n",
       "      <th></th>\n",
       "      <th></th>\n",
       "      <th></th>\n",
       "      <th></th>\n",
       "      <th></th>\n",
       "    </tr>\n",
       "  </thead>\n",
       "  <tbody>\n",
       "    <tr>\n",
       "      <td>Alabama A &amp; M University</td>\n",
       "      <td>1.0</td>\n",
       "      <td>0.0</td>\n",
       "      <td>0.0</td>\n",
       "      <td>0</td>\n",
       "      <td>424.0</td>\n",
       "      <td>420.0</td>\n",
       "      <td>0.0</td>\n",
       "      <td>4206.0</td>\n",
       "      <td>0.0333</td>\n",
       "      <td>0.9353</td>\n",
       "      <td>...</td>\n",
       "      <td>0.0000</td>\n",
       "      <td>0.0059</td>\n",
       "      <td>0.0138</td>\n",
       "      <td>0.0656</td>\n",
       "      <td>1</td>\n",
       "      <td>0.7356</td>\n",
       "      <td>0.8284</td>\n",
       "      <td>0.1049</td>\n",
       "      <td>30300.0</td>\n",
       "      <td>33888.0</td>\n",
       "    </tr>\n",
       "    <tr>\n",
       "      <td>University of Alabama at Birmingham</td>\n",
       "      <td>0.0</td>\n",
       "      <td>0.0</td>\n",
       "      <td>0.0</td>\n",
       "      <td>0</td>\n",
       "      <td>570.0</td>\n",
       "      <td>565.0</td>\n",
       "      <td>0.0</td>\n",
       "      <td>11383.0</td>\n",
       "      <td>0.5922</td>\n",
       "      <td>0.2600</td>\n",
       "      <td>...</td>\n",
       "      <td>0.0368</td>\n",
       "      <td>0.0179</td>\n",
       "      <td>0.0100</td>\n",
       "      <td>0.2607</td>\n",
       "      <td>1</td>\n",
       "      <td>0.3460</td>\n",
       "      <td>0.5214</td>\n",
       "      <td>0.2422</td>\n",
       "      <td>39700.0</td>\n",
       "      <td>21941.5</td>\n",
       "    </tr>\n",
       "    <tr>\n",
       "      <td>Amridge University</td>\n",
       "      <td>0.0</td>\n",
       "      <td>0.0</td>\n",
       "      <td>0.0</td>\n",
       "      <td>1</td>\n",
       "      <td>NaN</td>\n",
       "      <td>NaN</td>\n",
       "      <td>1.0</td>\n",
       "      <td>291.0</td>\n",
       "      <td>0.2990</td>\n",
       "      <td>0.4192</td>\n",
       "      <td>...</td>\n",
       "      <td>0.0000</td>\n",
       "      <td>0.0000</td>\n",
       "      <td>0.2715</td>\n",
       "      <td>0.4536</td>\n",
       "      <td>1</td>\n",
       "      <td>0.6801</td>\n",
       "      <td>0.7795</td>\n",
       "      <td>0.8540</td>\n",
       "      <td>40100.0</td>\n",
       "      <td>23370.0</td>\n",
       "    </tr>\n",
       "    <tr>\n",
       "      <td>University of Alabama in Huntsville</td>\n",
       "      <td>0.0</td>\n",
       "      <td>0.0</td>\n",
       "      <td>0.0</td>\n",
       "      <td>0</td>\n",
       "      <td>595.0</td>\n",
       "      <td>590.0</td>\n",
       "      <td>0.0</td>\n",
       "      <td>5451.0</td>\n",
       "      <td>0.6988</td>\n",
       "      <td>0.1255</td>\n",
       "      <td>...</td>\n",
       "      <td>0.0172</td>\n",
       "      <td>0.0332</td>\n",
       "      <td>0.0350</td>\n",
       "      <td>0.2146</td>\n",
       "      <td>1</td>\n",
       "      <td>0.3072</td>\n",
       "      <td>0.4596</td>\n",
       "      <td>0.2640</td>\n",
       "      <td>45500.0</td>\n",
       "      <td>24097.0</td>\n",
       "    </tr>\n",
       "    <tr>\n",
       "      <td>Alabama State University</td>\n",
       "      <td>1.0</td>\n",
       "      <td>0.0</td>\n",
       "      <td>0.0</td>\n",
       "      <td>0</td>\n",
       "      <td>425.0</td>\n",
       "      <td>430.0</td>\n",
       "      <td>0.0</td>\n",
       "      <td>4811.0</td>\n",
       "      <td>0.0158</td>\n",
       "      <td>0.9208</td>\n",
       "      <td>...</td>\n",
       "      <td>0.0098</td>\n",
       "      <td>0.0243</td>\n",
       "      <td>0.0137</td>\n",
       "      <td>0.0892</td>\n",
       "      <td>1</td>\n",
       "      <td>0.7347</td>\n",
       "      <td>0.7554</td>\n",
       "      <td>0.1270</td>\n",
       "      <td>26600.0</td>\n",
       "      <td>33118.5</td>\n",
       "    </tr>\n",
       "  </tbody>\n",
       "</table>\n",
       "<p>5 rows × 24 columns</p>\n",
       "</div>"
      ],
      "text/plain": [
       "                                     HBCU  MENONLY  WOMENONLY  RELAFFIL  \\\n",
       "INSTNM                                                                    \n",
       "Alabama A & M University              1.0      0.0        0.0         0   \n",
       "University of Alabama at Birmingham   0.0      0.0        0.0         0   \n",
       "Amridge University                    0.0      0.0        0.0         1   \n",
       "University of Alabama in Huntsville   0.0      0.0        0.0         0   \n",
       "Alabama State University              1.0      0.0        0.0         0   \n",
       "\n",
       "                                     SATVRMID  SATMTMID  DISTANCEONLY  \\\n",
       "INSTNM                                                                  \n",
       "Alabama A & M University                424.0     420.0           0.0   \n",
       "University of Alabama at Birmingham     570.0     565.0           0.0   \n",
       "Amridge University                        NaN       NaN           1.0   \n",
       "University of Alabama in Huntsville     595.0     590.0           0.0   \n",
       "Alabama State University                425.0     430.0           0.0   \n",
       "\n",
       "                                        UGDS  UGDS_WHITE  UGDS_BLACK  ...  \\\n",
       "INSTNM                                                                ...   \n",
       "Alabama A & M University              4206.0      0.0333      0.9353  ...   \n",
       "University of Alabama at Birmingham  11383.0      0.5922      0.2600  ...   \n",
       "Amridge University                     291.0      0.2990      0.4192  ...   \n",
       "University of Alabama in Huntsville   5451.0      0.6988      0.1255  ...   \n",
       "Alabama State University              4811.0      0.0158      0.9208  ...   \n",
       "\n",
       "                                     UGDS_2MOR  UGDS_NRA  UGDS_UNKN  PPTUG_EF  \\\n",
       "INSTNM                                                                          \n",
       "Alabama A & M University                0.0000    0.0059     0.0138    0.0656   \n",
       "University of Alabama at Birmingham     0.0368    0.0179     0.0100    0.2607   \n",
       "Amridge University                      0.0000    0.0000     0.2715    0.4536   \n",
       "University of Alabama in Huntsville     0.0172    0.0332     0.0350    0.2146   \n",
       "Alabama State University                0.0098    0.0243     0.0137    0.0892   \n",
       "\n",
       "                                     CURROPER  PCTPELL  PCTFLOAN  UG25ABV  \\\n",
       "INSTNM                                                                      \n",
       "Alabama A & M University                    1   0.7356    0.8284   0.1049   \n",
       "University of Alabama at Birmingham         1   0.3460    0.5214   0.2422   \n",
       "Amridge University                          1   0.6801    0.7795   0.8540   \n",
       "University of Alabama in Huntsville         1   0.3072    0.4596   0.2640   \n",
       "Alabama State University                    1   0.7347    0.7554   0.1270   \n",
       "\n",
       "                                     MD_EARN_WNE_P10  GRAD_DEBT_MDN_SUPP  \n",
       "INSTNM                                                                    \n",
       "Alabama A & M University                     30300.0             33888.0  \n",
       "University of Alabama at Birmingham          39700.0             21941.5  \n",
       "Amridge University                           40100.0             23370.0  \n",
       "University of Alabama in Huntsville          45500.0             24097.0  \n",
       "Alabama State University                     26600.0             33118.5  \n",
       "\n",
       "[5 rows x 24 columns]"
      ]
     },
     "execution_count": 71,
     "metadata": {},
     "output_type": "execute_result"
    }
   ],
   "source": [
    "# 6.6.5 숫자형 컬럼만 추출해보니, 1, 0 값을 갖는 flag (binary) 컬럼이 다수 존재한다. \n",
    "#     이들을 선별하여 제거 할 것이다. \n",
    "college_n = college.select_dtypes(include=[np.number])\n",
    "college_n.head() # only numeric columns"
   ]
  },
  {
   "cell_type": "code",
   "execution_count": 72,
   "metadata": {},
   "outputs": [],
   "source": [
    "# pd.DataFrame.nunique?"
   ]
  },
  {
   "cell_type": "code",
   "execution_count": 73,
   "metadata": {
    "scrolled": false
   },
   "outputs": [
    {
     "data": {
      "text/plain": [
       "HBCU          True\n",
       "MENONLY       True\n",
       "WOMENONLY     True\n",
       "RELAFFIL      True\n",
       "SATVRMID     False\n",
       "dtype: bool"
      ]
     },
     "execution_count": 73,
     "metadata": {},
     "output_type": "execute_result"
    }
   ],
   "source": [
    "# 6.6.6 crieteria에 컬럼별로 binanry 여부에 대한 T/F를 갖는 Boolean Series를 생성한다. \n",
    "# nunique() 메소드는 컬럼별(default axis = 0) 로 몇 종류의 값으로 구성 되어 있는지 반환한다. \n",
    "criteria = college_n.nunique() == 2\n",
    "criteria.head()"
   ]
  },
  {
   "cell_type": "code",
   "execution_count": 74,
   "metadata": {},
   "outputs": [
    {
     "data": {
      "text/plain": [
       "['HBCU', 'MENONLY', 'WOMENONLY', 'RELAFFIL', 'DISTANCEONLY', 'CURROPER']"
      ]
     },
     "execution_count": 74,
     "metadata": {},
     "output_type": "execute_result"
    }
   ],
   "source": [
    "# 6.6.7 criteria를 이용해서 제거 대상이 되는 binary_cols 리스트를  생성한다. \n",
    "binary_cols = college_n.columns[criteria].tolist()\n",
    "binary_cols"
   ]
  },
  {
   "cell_type": "code",
   "execution_count": 75,
   "metadata": {},
   "outputs": [
    {
     "data": {
      "text/html": [
       "<div>\n",
       "<style scoped>\n",
       "    .dataframe tbody tr th:only-of-type {\n",
       "        vertical-align: middle;\n",
       "    }\n",
       "\n",
       "    .dataframe tbody tr th {\n",
       "        vertical-align: top;\n",
       "    }\n",
       "\n",
       "    .dataframe thead th {\n",
       "        text-align: right;\n",
       "    }\n",
       "</style>\n",
       "<table border=\"1\" class=\"dataframe\">\n",
       "  <thead>\n",
       "    <tr style=\"text-align: right;\">\n",
       "      <th></th>\n",
       "      <th>SATVRMID</th>\n",
       "      <th>SATMTMID</th>\n",
       "      <th>UGDS</th>\n",
       "      <th>UGDS_WHITE</th>\n",
       "      <th>UGDS_BLACK</th>\n",
       "      <th>UGDS_HISP</th>\n",
       "      <th>UGDS_ASIAN</th>\n",
       "      <th>UGDS_AIAN</th>\n",
       "      <th>UGDS_NHPI</th>\n",
       "      <th>UGDS_2MOR</th>\n",
       "      <th>UGDS_NRA</th>\n",
       "      <th>UGDS_UNKN</th>\n",
       "      <th>PPTUG_EF</th>\n",
       "      <th>PCTPELL</th>\n",
       "      <th>PCTFLOAN</th>\n",
       "      <th>UG25ABV</th>\n",
       "      <th>MD_EARN_WNE_P10</th>\n",
       "      <th>GRAD_DEBT_MDN_SUPP</th>\n",
       "    </tr>\n",
       "    <tr>\n",
       "      <th>INSTNM</th>\n",
       "      <th></th>\n",
       "      <th></th>\n",
       "      <th></th>\n",
       "      <th></th>\n",
       "      <th></th>\n",
       "      <th></th>\n",
       "      <th></th>\n",
       "      <th></th>\n",
       "      <th></th>\n",
       "      <th></th>\n",
       "      <th></th>\n",
       "      <th></th>\n",
       "      <th></th>\n",
       "      <th></th>\n",
       "      <th></th>\n",
       "      <th></th>\n",
       "      <th></th>\n",
       "      <th></th>\n",
       "    </tr>\n",
       "  </thead>\n",
       "  <tbody>\n",
       "    <tr>\n",
       "      <td>Alabama A &amp; M University</td>\n",
       "      <td>424.0</td>\n",
       "      <td>420.0</td>\n",
       "      <td>4206.0</td>\n",
       "      <td>0.0333</td>\n",
       "      <td>0.9353</td>\n",
       "      <td>0.0055</td>\n",
       "      <td>0.0019</td>\n",
       "      <td>0.0024</td>\n",
       "      <td>0.0019</td>\n",
       "      <td>0.0000</td>\n",
       "      <td>0.0059</td>\n",
       "      <td>0.0138</td>\n",
       "      <td>0.0656</td>\n",
       "      <td>0.7356</td>\n",
       "      <td>0.8284</td>\n",
       "      <td>0.1049</td>\n",
       "      <td>30300.0</td>\n",
       "      <td>33888.0</td>\n",
       "    </tr>\n",
       "    <tr>\n",
       "      <td>University of Alabama at Birmingham</td>\n",
       "      <td>570.0</td>\n",
       "      <td>565.0</td>\n",
       "      <td>11383.0</td>\n",
       "      <td>0.5922</td>\n",
       "      <td>0.2600</td>\n",
       "      <td>0.0283</td>\n",
       "      <td>0.0518</td>\n",
       "      <td>0.0022</td>\n",
       "      <td>0.0007</td>\n",
       "      <td>0.0368</td>\n",
       "      <td>0.0179</td>\n",
       "      <td>0.0100</td>\n",
       "      <td>0.2607</td>\n",
       "      <td>0.3460</td>\n",
       "      <td>0.5214</td>\n",
       "      <td>0.2422</td>\n",
       "      <td>39700.0</td>\n",
       "      <td>21941.5</td>\n",
       "    </tr>\n",
       "    <tr>\n",
       "      <td>Amridge University</td>\n",
       "      <td>NaN</td>\n",
       "      <td>NaN</td>\n",
       "      <td>291.0</td>\n",
       "      <td>0.2990</td>\n",
       "      <td>0.4192</td>\n",
       "      <td>0.0069</td>\n",
       "      <td>0.0034</td>\n",
       "      <td>0.0000</td>\n",
       "      <td>0.0000</td>\n",
       "      <td>0.0000</td>\n",
       "      <td>0.0000</td>\n",
       "      <td>0.2715</td>\n",
       "      <td>0.4536</td>\n",
       "      <td>0.6801</td>\n",
       "      <td>0.7795</td>\n",
       "      <td>0.8540</td>\n",
       "      <td>40100.0</td>\n",
       "      <td>23370.0</td>\n",
       "    </tr>\n",
       "    <tr>\n",
       "      <td>University of Alabama in Huntsville</td>\n",
       "      <td>595.0</td>\n",
       "      <td>590.0</td>\n",
       "      <td>5451.0</td>\n",
       "      <td>0.6988</td>\n",
       "      <td>0.1255</td>\n",
       "      <td>0.0382</td>\n",
       "      <td>0.0376</td>\n",
       "      <td>0.0143</td>\n",
       "      <td>0.0002</td>\n",
       "      <td>0.0172</td>\n",
       "      <td>0.0332</td>\n",
       "      <td>0.0350</td>\n",
       "      <td>0.2146</td>\n",
       "      <td>0.3072</td>\n",
       "      <td>0.4596</td>\n",
       "      <td>0.2640</td>\n",
       "      <td>45500.0</td>\n",
       "      <td>24097.0</td>\n",
       "    </tr>\n",
       "    <tr>\n",
       "      <td>Alabama State University</td>\n",
       "      <td>425.0</td>\n",
       "      <td>430.0</td>\n",
       "      <td>4811.0</td>\n",
       "      <td>0.0158</td>\n",
       "      <td>0.9208</td>\n",
       "      <td>0.0121</td>\n",
       "      <td>0.0019</td>\n",
       "      <td>0.0010</td>\n",
       "      <td>0.0006</td>\n",
       "      <td>0.0098</td>\n",
       "      <td>0.0243</td>\n",
       "      <td>0.0137</td>\n",
       "      <td>0.0892</td>\n",
       "      <td>0.7347</td>\n",
       "      <td>0.7554</td>\n",
       "      <td>0.1270</td>\n",
       "      <td>26600.0</td>\n",
       "      <td>33118.5</td>\n",
       "    </tr>\n",
       "  </tbody>\n",
       "</table>\n",
       "</div>"
      ],
      "text/plain": [
       "                                     SATVRMID  SATMTMID     UGDS  UGDS_WHITE  \\\n",
       "INSTNM                                                                         \n",
       "Alabama A & M University                424.0     420.0   4206.0      0.0333   \n",
       "University of Alabama at Birmingham     570.0     565.0  11383.0      0.5922   \n",
       "Amridge University                        NaN       NaN    291.0      0.2990   \n",
       "University of Alabama in Huntsville     595.0     590.0   5451.0      0.6988   \n",
       "Alabama State University                425.0     430.0   4811.0      0.0158   \n",
       "\n",
       "                                     UGDS_BLACK  UGDS_HISP  UGDS_ASIAN  \\\n",
       "INSTNM                                                                   \n",
       "Alabama A & M University                 0.9353     0.0055      0.0019   \n",
       "University of Alabama at Birmingham      0.2600     0.0283      0.0518   \n",
       "Amridge University                       0.4192     0.0069      0.0034   \n",
       "University of Alabama in Huntsville      0.1255     0.0382      0.0376   \n",
       "Alabama State University                 0.9208     0.0121      0.0019   \n",
       "\n",
       "                                     UGDS_AIAN  UGDS_NHPI  UGDS_2MOR  \\\n",
       "INSTNM                                                                 \n",
       "Alabama A & M University                0.0024     0.0019     0.0000   \n",
       "University of Alabama at Birmingham     0.0022     0.0007     0.0368   \n",
       "Amridge University                      0.0000     0.0000     0.0000   \n",
       "University of Alabama in Huntsville     0.0143     0.0002     0.0172   \n",
       "Alabama State University                0.0010     0.0006     0.0098   \n",
       "\n",
       "                                     UGDS_NRA  UGDS_UNKN  PPTUG_EF  PCTPELL  \\\n",
       "INSTNM                                                                        \n",
       "Alabama A & M University               0.0059     0.0138    0.0656   0.7356   \n",
       "University of Alabama at Birmingham    0.0179     0.0100    0.2607   0.3460   \n",
       "Amridge University                     0.0000     0.2715    0.4536   0.6801   \n",
       "University of Alabama in Huntsville    0.0332     0.0350    0.2146   0.3072   \n",
       "Alabama State University               0.0243     0.0137    0.0892   0.7347   \n",
       "\n",
       "                                     PCTFLOAN  UG25ABV  MD_EARN_WNE_P10  \\\n",
       "INSTNM                                                                    \n",
       "Alabama A & M University               0.8284   0.1049          30300.0   \n",
       "University of Alabama at Birmingham    0.5214   0.2422          39700.0   \n",
       "Amridge University                     0.7795   0.8540          40100.0   \n",
       "University of Alabama in Huntsville    0.4596   0.2640          45500.0   \n",
       "Alabama State University               0.7554   0.1270          26600.0   \n",
       "\n",
       "                                     GRAD_DEBT_MDN_SUPP  \n",
       "INSTNM                                                   \n",
       "Alabama A & M University                        33888.0  \n",
       "University of Alabama at Birmingham             21941.5  \n",
       "Amridge University                              23370.0  \n",
       "University of Alabama in Huntsville             24097.0  \n",
       "Alabama State University                        33118.5  "
      ]
     },
     "execution_count": 75,
     "metadata": {},
     "output_type": "execute_result"
    }
   ],
   "source": [
    "# 6.6.8 제거 대상 컬럼을 drop 한다. \n",
    "# ( 6.6.6 의 criteria를 이용하여 boolean index를 적용해도 된다. )\n",
    "college_n2 = college_n.drop(labels=binary_cols, axis='columns')\n",
    "college_n2.head()"
   ]
  },
  {
   "cell_type": "code",
   "execution_count": 76,
   "metadata": {
    "scrolled": false
   },
   "outputs": [
    {
     "data": {
      "text/plain": [
       "SATVRMID                             California Institute of Technology\n",
       "SATMTMID                             California Institute of Technology\n",
       "UGDS                                      University of Phoenix-Arizona\n",
       "UGDS_WHITE                       Mr Leon's School of Hair Design-Moscow\n",
       "UGDS_BLACK                           Velvatex College of Beauty Culture\n",
       "UGDS_HISP                       Thunderbird School of Global Management\n",
       "UGDS_ASIAN                          Cosmopolitan Beauty and Tech School\n",
       "UGDS_AIAN                             Haskell Indian Nations University\n",
       "UGDS_NHPI                                       Palau Community College\n",
       "UGDS_2MOR                                                 LIU Brentwood\n",
       "UGDS_NRA               California University of Management and Sciences\n",
       "UGDS_UNKN             Le Cordon Bleu College of Culinary Arts-San Fr...\n",
       "PPTUG_EF                        Thunderbird School of Global Management\n",
       "PCTPELL                                        MTI Business College Inc\n",
       "PCTFLOAN                                         ABC Beauty College Inc\n",
       "UG25ABV                                  Dongguk University-Los Angeles\n",
       "MD_EARN_WNE_P10                            Medical College of Wisconsin\n",
       "GRAD_DEBT_MDN_SUPP           Southwest University of Visual Arts-Tucson\n",
       "dtype: object"
      ]
     },
     "execution_count": 76,
     "metadata": {},
     "output_type": "execute_result"
    }
   ],
   "source": [
    "# 6.6.9 .idxmax() 메소드를 사용하여 각 컬럼별로 최대값을 갖는 인덱스에 대한 Series, \n",
    "#        max_col을  생성한다.  \n",
    "max_cols = college_n2.idxmax()\n",
    "max_cols"
   ]
  },
  {
   "cell_type": "code",
   "execution_count": 77,
   "metadata": {},
   "outputs": [
    {
     "data": {
      "text/plain": [
       "array(['California Institute of Technology',\n",
       "       'University of Phoenix-Arizona',\n",
       "       \"Mr Leon's School of Hair Design-Moscow\",\n",
       "       'Velvatex College of Beauty Culture',\n",
       "       'Thunderbird School of Global Management'], dtype=object)"
      ]
     },
     "execution_count": 77,
     "metadata": {},
     "output_type": "execute_result"
    }
   ],
   "source": [
    "# 6.6.10 중복값을 제거한 unique_max_col을 생성한다. \n",
    "unique_max_cols = max_cols.unique()\n",
    "unique_max_cols[:5]"
   ]
  },
  {
   "cell_type": "code",
   "execution_count": 78,
   "metadata": {
    "scrolled": true
   },
   "outputs": [
    {
     "data": {
      "text/html": [
       "<style  type=\"text/css\" >\n",
       "    #T_7ef6dc9a_01ee_11eb_bd07_5800e3953262row0_col0 {\n",
       "            background-color:  yellow;\n",
       "        }    #T_7ef6dc9a_01ee_11eb_bd07_5800e3953262row0_col1 {\n",
       "            background-color:  yellow;\n",
       "        }    #T_7ef6dc9a_01ee_11eb_bd07_5800e3953262row1_col2 {\n",
       "            background-color:  yellow;\n",
       "        }    #T_7ef6dc9a_01ee_11eb_bd07_5800e3953262row2_col3 {\n",
       "            background-color:  yellow;\n",
       "        }    #T_7ef6dc9a_01ee_11eb_bd07_5800e3953262row3_col4 {\n",
       "            background-color:  yellow;\n",
       "        }    #T_7ef6dc9a_01ee_11eb_bd07_5800e3953262row4_col5 {\n",
       "            background-color:  yellow;\n",
       "        }    #T_7ef6dc9a_01ee_11eb_bd07_5800e3953262row4_col12 {\n",
       "            background-color:  yellow;\n",
       "        }    #T_7ef6dc9a_01ee_11eb_bd07_5800e3953262row5_col6 {\n",
       "            background-color:  yellow;\n",
       "        }    #T_7ef6dc9a_01ee_11eb_bd07_5800e3953262row6_col7 {\n",
       "            background-color:  yellow;\n",
       "        }    #T_7ef6dc9a_01ee_11eb_bd07_5800e3953262row7_col8 {\n",
       "            background-color:  yellow;\n",
       "        }    #T_7ef6dc9a_01ee_11eb_bd07_5800e3953262row8_col9 {\n",
       "            background-color:  yellow;\n",
       "        }    #T_7ef6dc9a_01ee_11eb_bd07_5800e3953262row9_col10 {\n",
       "            background-color:  yellow;\n",
       "        }    #T_7ef6dc9a_01ee_11eb_bd07_5800e3953262row10_col11 {\n",
       "            background-color:  yellow;\n",
       "        }    #T_7ef6dc9a_01ee_11eb_bd07_5800e3953262row11_col13 {\n",
       "            background-color:  yellow;\n",
       "        }    #T_7ef6dc9a_01ee_11eb_bd07_5800e3953262row11_col14 {\n",
       "            background-color:  yellow;\n",
       "        }    #T_7ef6dc9a_01ee_11eb_bd07_5800e3953262row12_col14 {\n",
       "            background-color:  yellow;\n",
       "        }    #T_7ef6dc9a_01ee_11eb_bd07_5800e3953262row13_col15 {\n",
       "            background-color:  yellow;\n",
       "        }    #T_7ef6dc9a_01ee_11eb_bd07_5800e3953262row14_col16 {\n",
       "            background-color:  yellow;\n",
       "        }    #T_7ef6dc9a_01ee_11eb_bd07_5800e3953262row15_col17 {\n",
       "            background-color:  yellow;\n",
       "        }</style><table id=\"T_7ef6dc9a_01ee_11eb_bd07_5800e3953262\" ><thead>    <tr>        <th class=\"blank level0\" ></th>        <th class=\"col_heading level0 col0\" >SATVRMID</th>        <th class=\"col_heading level0 col1\" >SATMTMID</th>        <th class=\"col_heading level0 col2\" >UGDS</th>        <th class=\"col_heading level0 col3\" >UGDS_WHITE</th>        <th class=\"col_heading level0 col4\" >UGDS_BLACK</th>        <th class=\"col_heading level0 col5\" >UGDS_HISP</th>        <th class=\"col_heading level0 col6\" >UGDS_ASIAN</th>        <th class=\"col_heading level0 col7\" >UGDS_AIAN</th>        <th class=\"col_heading level0 col8\" >UGDS_NHPI</th>        <th class=\"col_heading level0 col9\" >UGDS_2MOR</th>        <th class=\"col_heading level0 col10\" >UGDS_NRA</th>        <th class=\"col_heading level0 col11\" >UGDS_UNKN</th>        <th class=\"col_heading level0 col12\" >PPTUG_EF</th>        <th class=\"col_heading level0 col13\" >PCTPELL</th>        <th class=\"col_heading level0 col14\" >PCTFLOAN</th>        <th class=\"col_heading level0 col15\" >UG25ABV</th>        <th class=\"col_heading level0 col16\" >MD_EARN_WNE_P10</th>        <th class=\"col_heading level0 col17\" >GRAD_DEBT_MDN_SUPP</th>    </tr>    <tr>        <th class=\"index_name level0\" >INSTNM</th>        <th class=\"blank\" ></th>        <th class=\"blank\" ></th>        <th class=\"blank\" ></th>        <th class=\"blank\" ></th>        <th class=\"blank\" ></th>        <th class=\"blank\" ></th>        <th class=\"blank\" ></th>        <th class=\"blank\" ></th>        <th class=\"blank\" ></th>        <th class=\"blank\" ></th>        <th class=\"blank\" ></th>        <th class=\"blank\" ></th>        <th class=\"blank\" ></th>        <th class=\"blank\" ></th>        <th class=\"blank\" ></th>        <th class=\"blank\" ></th>        <th class=\"blank\" ></th>        <th class=\"blank\" ></th>    </tr></thead><tbody>\n",
       "                <tr>\n",
       "                        <th id=\"T_7ef6dc9a_01ee_11eb_bd07_5800e3953262level0_row0\" class=\"row_heading level0 row0\" >California Institute of Technology</th>\n",
       "                        <td id=\"T_7ef6dc9a_01ee_11eb_bd07_5800e3953262row0_col0\" class=\"data row0 col0\" >765</td>\n",
       "                        <td id=\"T_7ef6dc9a_01ee_11eb_bd07_5800e3953262row0_col1\" class=\"data row0 col1\" >785</td>\n",
       "                        <td id=\"T_7ef6dc9a_01ee_11eb_bd07_5800e3953262row0_col2\" class=\"data row0 col2\" >983</td>\n",
       "                        <td id=\"T_7ef6dc9a_01ee_11eb_bd07_5800e3953262row0_col3\" class=\"data row0 col3\" >0.2787</td>\n",
       "                        <td id=\"T_7ef6dc9a_01ee_11eb_bd07_5800e3953262row0_col4\" class=\"data row0 col4\" >0.0153</td>\n",
       "                        <td id=\"T_7ef6dc9a_01ee_11eb_bd07_5800e3953262row0_col5\" class=\"data row0 col5\" >0.1221</td>\n",
       "                        <td id=\"T_7ef6dc9a_01ee_11eb_bd07_5800e3953262row0_col6\" class=\"data row0 col6\" >0.4385</td>\n",
       "                        <td id=\"T_7ef6dc9a_01ee_11eb_bd07_5800e3953262row0_col7\" class=\"data row0 col7\" >0.001</td>\n",
       "                        <td id=\"T_7ef6dc9a_01ee_11eb_bd07_5800e3953262row0_col8\" class=\"data row0 col8\" >0</td>\n",
       "                        <td id=\"T_7ef6dc9a_01ee_11eb_bd07_5800e3953262row0_col9\" class=\"data row0 col9\" >0.057</td>\n",
       "                        <td id=\"T_7ef6dc9a_01ee_11eb_bd07_5800e3953262row0_col10\" class=\"data row0 col10\" >0.0875</td>\n",
       "                        <td id=\"T_7ef6dc9a_01ee_11eb_bd07_5800e3953262row0_col11\" class=\"data row0 col11\" >0</td>\n",
       "                        <td id=\"T_7ef6dc9a_01ee_11eb_bd07_5800e3953262row0_col12\" class=\"data row0 col12\" >0</td>\n",
       "                        <td id=\"T_7ef6dc9a_01ee_11eb_bd07_5800e3953262row0_col13\" class=\"data row0 col13\" >0.1126</td>\n",
       "                        <td id=\"T_7ef6dc9a_01ee_11eb_bd07_5800e3953262row0_col14\" class=\"data row0 col14\" >0.2303</td>\n",
       "                        <td id=\"T_7ef6dc9a_01ee_11eb_bd07_5800e3953262row0_col15\" class=\"data row0 col15\" >0.0082</td>\n",
       "                        <td id=\"T_7ef6dc9a_01ee_11eb_bd07_5800e3953262row0_col16\" class=\"data row0 col16\" >77800</td>\n",
       "                        <td id=\"T_7ef6dc9a_01ee_11eb_bd07_5800e3953262row0_col17\" class=\"data row0 col17\" >11812.5</td>\n",
       "            </tr>\n",
       "            <tr>\n",
       "                        <th id=\"T_7ef6dc9a_01ee_11eb_bd07_5800e3953262level0_row1\" class=\"row_heading level0 row1\" >University of Phoenix-Arizona</th>\n",
       "                        <td id=\"T_7ef6dc9a_01ee_11eb_bd07_5800e3953262row1_col0\" class=\"data row1 col0\" >nan</td>\n",
       "                        <td id=\"T_7ef6dc9a_01ee_11eb_bd07_5800e3953262row1_col1\" class=\"data row1 col1\" >nan</td>\n",
       "                        <td id=\"T_7ef6dc9a_01ee_11eb_bd07_5800e3953262row1_col2\" class=\"data row1 col2\" >151558</td>\n",
       "                        <td id=\"T_7ef6dc9a_01ee_11eb_bd07_5800e3953262row1_col3\" class=\"data row1 col3\" >0.3098</td>\n",
       "                        <td id=\"T_7ef6dc9a_01ee_11eb_bd07_5800e3953262row1_col4\" class=\"data row1 col4\" >0.1555</td>\n",
       "                        <td id=\"T_7ef6dc9a_01ee_11eb_bd07_5800e3953262row1_col5\" class=\"data row1 col5\" >0.076</td>\n",
       "                        <td id=\"T_7ef6dc9a_01ee_11eb_bd07_5800e3953262row1_col6\" class=\"data row1 col6\" >0.0082</td>\n",
       "                        <td id=\"T_7ef6dc9a_01ee_11eb_bd07_5800e3953262row1_col7\" class=\"data row1 col7\" >0.0042</td>\n",
       "                        <td id=\"T_7ef6dc9a_01ee_11eb_bd07_5800e3953262row1_col8\" class=\"data row1 col8\" >0.005</td>\n",
       "                        <td id=\"T_7ef6dc9a_01ee_11eb_bd07_5800e3953262row1_col9\" class=\"data row1 col9\" >0.1131</td>\n",
       "                        <td id=\"T_7ef6dc9a_01ee_11eb_bd07_5800e3953262row1_col10\" class=\"data row1 col10\" >0.0131</td>\n",
       "                        <td id=\"T_7ef6dc9a_01ee_11eb_bd07_5800e3953262row1_col11\" class=\"data row1 col11\" >0.3152</td>\n",
       "                        <td id=\"T_7ef6dc9a_01ee_11eb_bd07_5800e3953262row1_col12\" class=\"data row1 col12\" >0</td>\n",
       "                        <td id=\"T_7ef6dc9a_01ee_11eb_bd07_5800e3953262row1_col13\" class=\"data row1 col13\" >0.6009</td>\n",
       "                        <td id=\"T_7ef6dc9a_01ee_11eb_bd07_5800e3953262row1_col14\" class=\"data row1 col14\" >0.592</td>\n",
       "                        <td id=\"T_7ef6dc9a_01ee_11eb_bd07_5800e3953262row1_col15\" class=\"data row1 col15\" >nan</td>\n",
       "                        <td id=\"T_7ef6dc9a_01ee_11eb_bd07_5800e3953262row1_col16\" class=\"data row1 col16\" >nan</td>\n",
       "                        <td id=\"T_7ef6dc9a_01ee_11eb_bd07_5800e3953262row1_col17\" class=\"data row1 col17\" >33000</td>\n",
       "            </tr>\n",
       "            <tr>\n",
       "                        <th id=\"T_7ef6dc9a_01ee_11eb_bd07_5800e3953262level0_row2\" class=\"row_heading level0 row2\" >Mr Leon's School of Hair Design-Moscow</th>\n",
       "                        <td id=\"T_7ef6dc9a_01ee_11eb_bd07_5800e3953262row2_col0\" class=\"data row2 col0\" >nan</td>\n",
       "                        <td id=\"T_7ef6dc9a_01ee_11eb_bd07_5800e3953262row2_col1\" class=\"data row2 col1\" >nan</td>\n",
       "                        <td id=\"T_7ef6dc9a_01ee_11eb_bd07_5800e3953262row2_col2\" class=\"data row2 col2\" >16</td>\n",
       "                        <td id=\"T_7ef6dc9a_01ee_11eb_bd07_5800e3953262row2_col3\" class=\"data row2 col3\" >1</td>\n",
       "                        <td id=\"T_7ef6dc9a_01ee_11eb_bd07_5800e3953262row2_col4\" class=\"data row2 col4\" >0</td>\n",
       "                        <td id=\"T_7ef6dc9a_01ee_11eb_bd07_5800e3953262row2_col5\" class=\"data row2 col5\" >0</td>\n",
       "                        <td id=\"T_7ef6dc9a_01ee_11eb_bd07_5800e3953262row2_col6\" class=\"data row2 col6\" >0</td>\n",
       "                        <td id=\"T_7ef6dc9a_01ee_11eb_bd07_5800e3953262row2_col7\" class=\"data row2 col7\" >0</td>\n",
       "                        <td id=\"T_7ef6dc9a_01ee_11eb_bd07_5800e3953262row2_col8\" class=\"data row2 col8\" >0</td>\n",
       "                        <td id=\"T_7ef6dc9a_01ee_11eb_bd07_5800e3953262row2_col9\" class=\"data row2 col9\" >0</td>\n",
       "                        <td id=\"T_7ef6dc9a_01ee_11eb_bd07_5800e3953262row2_col10\" class=\"data row2 col10\" >0</td>\n",
       "                        <td id=\"T_7ef6dc9a_01ee_11eb_bd07_5800e3953262row2_col11\" class=\"data row2 col11\" >0</td>\n",
       "                        <td id=\"T_7ef6dc9a_01ee_11eb_bd07_5800e3953262row2_col12\" class=\"data row2 col12\" >0</td>\n",
       "                        <td id=\"T_7ef6dc9a_01ee_11eb_bd07_5800e3953262row2_col13\" class=\"data row2 col13\" >0.625</td>\n",
       "                        <td id=\"T_7ef6dc9a_01ee_11eb_bd07_5800e3953262row2_col14\" class=\"data row2 col14\" >0.625</td>\n",
       "                        <td id=\"T_7ef6dc9a_01ee_11eb_bd07_5800e3953262row2_col15\" class=\"data row2 col15\" >0.2</td>\n",
       "                        <td id=\"T_7ef6dc9a_01ee_11eb_bd07_5800e3953262row2_col16\" class=\"data row2 col16\" >nan</td>\n",
       "                        <td id=\"T_7ef6dc9a_01ee_11eb_bd07_5800e3953262row2_col17\" class=\"data row2 col17\" >15710</td>\n",
       "            </tr>\n",
       "            <tr>\n",
       "                        <th id=\"T_7ef6dc9a_01ee_11eb_bd07_5800e3953262level0_row3\" class=\"row_heading level0 row3\" >Velvatex College of Beauty Culture</th>\n",
       "                        <td id=\"T_7ef6dc9a_01ee_11eb_bd07_5800e3953262row3_col0\" class=\"data row3 col0\" >nan</td>\n",
       "                        <td id=\"T_7ef6dc9a_01ee_11eb_bd07_5800e3953262row3_col1\" class=\"data row3 col1\" >nan</td>\n",
       "                        <td id=\"T_7ef6dc9a_01ee_11eb_bd07_5800e3953262row3_col2\" class=\"data row3 col2\" >25</td>\n",
       "                        <td id=\"T_7ef6dc9a_01ee_11eb_bd07_5800e3953262row3_col3\" class=\"data row3 col3\" >0</td>\n",
       "                        <td id=\"T_7ef6dc9a_01ee_11eb_bd07_5800e3953262row3_col4\" class=\"data row3 col4\" >1</td>\n",
       "                        <td id=\"T_7ef6dc9a_01ee_11eb_bd07_5800e3953262row3_col5\" class=\"data row3 col5\" >0</td>\n",
       "                        <td id=\"T_7ef6dc9a_01ee_11eb_bd07_5800e3953262row3_col6\" class=\"data row3 col6\" >0</td>\n",
       "                        <td id=\"T_7ef6dc9a_01ee_11eb_bd07_5800e3953262row3_col7\" class=\"data row3 col7\" >0</td>\n",
       "                        <td id=\"T_7ef6dc9a_01ee_11eb_bd07_5800e3953262row3_col8\" class=\"data row3 col8\" >0</td>\n",
       "                        <td id=\"T_7ef6dc9a_01ee_11eb_bd07_5800e3953262row3_col9\" class=\"data row3 col9\" >0</td>\n",
       "                        <td id=\"T_7ef6dc9a_01ee_11eb_bd07_5800e3953262row3_col10\" class=\"data row3 col10\" >0</td>\n",
       "                        <td id=\"T_7ef6dc9a_01ee_11eb_bd07_5800e3953262row3_col11\" class=\"data row3 col11\" >0</td>\n",
       "                        <td id=\"T_7ef6dc9a_01ee_11eb_bd07_5800e3953262row3_col12\" class=\"data row3 col12\" >0.2</td>\n",
       "                        <td id=\"T_7ef6dc9a_01ee_11eb_bd07_5800e3953262row3_col13\" class=\"data row3 col13\" >0.7692</td>\n",
       "                        <td id=\"T_7ef6dc9a_01ee_11eb_bd07_5800e3953262row3_col14\" class=\"data row3 col14\" >0</td>\n",
       "                        <td id=\"T_7ef6dc9a_01ee_11eb_bd07_5800e3953262row3_col15\" class=\"data row3 col15\" >0.52</td>\n",
       "                        <td id=\"T_7ef6dc9a_01ee_11eb_bd07_5800e3953262row3_col16\" class=\"data row3 col16\" >nan</td>\n",
       "                        <td id=\"T_7ef6dc9a_01ee_11eb_bd07_5800e3953262row3_col17\" class=\"data row3 col17\" >nan</td>\n",
       "            </tr>\n",
       "            <tr>\n",
       "                        <th id=\"T_7ef6dc9a_01ee_11eb_bd07_5800e3953262level0_row4\" class=\"row_heading level0 row4\" >Thunderbird School of Global Management</th>\n",
       "                        <td id=\"T_7ef6dc9a_01ee_11eb_bd07_5800e3953262row4_col0\" class=\"data row4 col0\" >nan</td>\n",
       "                        <td id=\"T_7ef6dc9a_01ee_11eb_bd07_5800e3953262row4_col1\" class=\"data row4 col1\" >nan</td>\n",
       "                        <td id=\"T_7ef6dc9a_01ee_11eb_bd07_5800e3953262row4_col2\" class=\"data row4 col2\" >1</td>\n",
       "                        <td id=\"T_7ef6dc9a_01ee_11eb_bd07_5800e3953262row4_col3\" class=\"data row4 col3\" >0</td>\n",
       "                        <td id=\"T_7ef6dc9a_01ee_11eb_bd07_5800e3953262row4_col4\" class=\"data row4 col4\" >0</td>\n",
       "                        <td id=\"T_7ef6dc9a_01ee_11eb_bd07_5800e3953262row4_col5\" class=\"data row4 col5\" >1</td>\n",
       "                        <td id=\"T_7ef6dc9a_01ee_11eb_bd07_5800e3953262row4_col6\" class=\"data row4 col6\" >0</td>\n",
       "                        <td id=\"T_7ef6dc9a_01ee_11eb_bd07_5800e3953262row4_col7\" class=\"data row4 col7\" >0</td>\n",
       "                        <td id=\"T_7ef6dc9a_01ee_11eb_bd07_5800e3953262row4_col8\" class=\"data row4 col8\" >0</td>\n",
       "                        <td id=\"T_7ef6dc9a_01ee_11eb_bd07_5800e3953262row4_col9\" class=\"data row4 col9\" >0</td>\n",
       "                        <td id=\"T_7ef6dc9a_01ee_11eb_bd07_5800e3953262row4_col10\" class=\"data row4 col10\" >0</td>\n",
       "                        <td id=\"T_7ef6dc9a_01ee_11eb_bd07_5800e3953262row4_col11\" class=\"data row4 col11\" >0</td>\n",
       "                        <td id=\"T_7ef6dc9a_01ee_11eb_bd07_5800e3953262row4_col12\" class=\"data row4 col12\" >1</td>\n",
       "                        <td id=\"T_7ef6dc9a_01ee_11eb_bd07_5800e3953262row4_col13\" class=\"data row4 col13\" >0</td>\n",
       "                        <td id=\"T_7ef6dc9a_01ee_11eb_bd07_5800e3953262row4_col14\" class=\"data row4 col14\" >0</td>\n",
       "                        <td id=\"T_7ef6dc9a_01ee_11eb_bd07_5800e3953262row4_col15\" class=\"data row4 col15\" >0</td>\n",
       "                        <td id=\"T_7ef6dc9a_01ee_11eb_bd07_5800e3953262row4_col16\" class=\"data row4 col16\" >118900</td>\n",
       "                        <td id=\"T_7ef6dc9a_01ee_11eb_bd07_5800e3953262row4_col17\" class=\"data row4 col17\" >nan</td>\n",
       "            </tr>\n",
       "            <tr>\n",
       "                        <th id=\"T_7ef6dc9a_01ee_11eb_bd07_5800e3953262level0_row5\" class=\"row_heading level0 row5\" >Cosmopolitan Beauty and Tech School</th>\n",
       "                        <td id=\"T_7ef6dc9a_01ee_11eb_bd07_5800e3953262row5_col0\" class=\"data row5 col0\" >nan</td>\n",
       "                        <td id=\"T_7ef6dc9a_01ee_11eb_bd07_5800e3953262row5_col1\" class=\"data row5 col1\" >nan</td>\n",
       "                        <td id=\"T_7ef6dc9a_01ee_11eb_bd07_5800e3953262row5_col2\" class=\"data row5 col2\" >110</td>\n",
       "                        <td id=\"T_7ef6dc9a_01ee_11eb_bd07_5800e3953262row5_col3\" class=\"data row5 col3\" >0.0091</td>\n",
       "                        <td id=\"T_7ef6dc9a_01ee_11eb_bd07_5800e3953262row5_col4\" class=\"data row5 col4\" >0</td>\n",
       "                        <td id=\"T_7ef6dc9a_01ee_11eb_bd07_5800e3953262row5_col5\" class=\"data row5 col5\" >0.0182</td>\n",
       "                        <td id=\"T_7ef6dc9a_01ee_11eb_bd07_5800e3953262row5_col6\" class=\"data row5 col6\" >0.9727</td>\n",
       "                        <td id=\"T_7ef6dc9a_01ee_11eb_bd07_5800e3953262row5_col7\" class=\"data row5 col7\" >0</td>\n",
       "                        <td id=\"T_7ef6dc9a_01ee_11eb_bd07_5800e3953262row5_col8\" class=\"data row5 col8\" >0</td>\n",
       "                        <td id=\"T_7ef6dc9a_01ee_11eb_bd07_5800e3953262row5_col9\" class=\"data row5 col9\" >0</td>\n",
       "                        <td id=\"T_7ef6dc9a_01ee_11eb_bd07_5800e3953262row5_col10\" class=\"data row5 col10\" >0</td>\n",
       "                        <td id=\"T_7ef6dc9a_01ee_11eb_bd07_5800e3953262row5_col11\" class=\"data row5 col11\" >0</td>\n",
       "                        <td id=\"T_7ef6dc9a_01ee_11eb_bd07_5800e3953262row5_col12\" class=\"data row5 col12\" >0.3182</td>\n",
       "                        <td id=\"T_7ef6dc9a_01ee_11eb_bd07_5800e3953262row5_col13\" class=\"data row5 col13\" >0.7761</td>\n",
       "                        <td id=\"T_7ef6dc9a_01ee_11eb_bd07_5800e3953262row5_col14\" class=\"data row5 col14\" >0.1244</td>\n",
       "                        <td id=\"T_7ef6dc9a_01ee_11eb_bd07_5800e3953262row5_col15\" class=\"data row5 col15\" >0.9545</td>\n",
       "                        <td id=\"T_7ef6dc9a_01ee_11eb_bd07_5800e3953262row5_col16\" class=\"data row5 col16\" >nan</td>\n",
       "                        <td id=\"T_7ef6dc9a_01ee_11eb_bd07_5800e3953262row5_col17\" class=\"data row5 col17\" >nan</td>\n",
       "            </tr>\n",
       "            <tr>\n",
       "                        <th id=\"T_7ef6dc9a_01ee_11eb_bd07_5800e3953262level0_row6\" class=\"row_heading level0 row6\" >Haskell Indian Nations University</th>\n",
       "                        <td id=\"T_7ef6dc9a_01ee_11eb_bd07_5800e3953262row6_col0\" class=\"data row6 col0\" >430</td>\n",
       "                        <td id=\"T_7ef6dc9a_01ee_11eb_bd07_5800e3953262row6_col1\" class=\"data row6 col1\" >440</td>\n",
       "                        <td id=\"T_7ef6dc9a_01ee_11eb_bd07_5800e3953262row6_col2\" class=\"data row6 col2\" >805</td>\n",
       "                        <td id=\"T_7ef6dc9a_01ee_11eb_bd07_5800e3953262row6_col3\" class=\"data row6 col3\" >0</td>\n",
       "                        <td id=\"T_7ef6dc9a_01ee_11eb_bd07_5800e3953262row6_col4\" class=\"data row6 col4\" >0</td>\n",
       "                        <td id=\"T_7ef6dc9a_01ee_11eb_bd07_5800e3953262row6_col5\" class=\"data row6 col5\" >0</td>\n",
       "                        <td id=\"T_7ef6dc9a_01ee_11eb_bd07_5800e3953262row6_col6\" class=\"data row6 col6\" >0</td>\n",
       "                        <td id=\"T_7ef6dc9a_01ee_11eb_bd07_5800e3953262row6_col7\" class=\"data row6 col7\" >1</td>\n",
       "                        <td id=\"T_7ef6dc9a_01ee_11eb_bd07_5800e3953262row6_col8\" class=\"data row6 col8\" >0</td>\n",
       "                        <td id=\"T_7ef6dc9a_01ee_11eb_bd07_5800e3953262row6_col9\" class=\"data row6 col9\" >0</td>\n",
       "                        <td id=\"T_7ef6dc9a_01ee_11eb_bd07_5800e3953262row6_col10\" class=\"data row6 col10\" >0</td>\n",
       "                        <td id=\"T_7ef6dc9a_01ee_11eb_bd07_5800e3953262row6_col11\" class=\"data row6 col11\" >0</td>\n",
       "                        <td id=\"T_7ef6dc9a_01ee_11eb_bd07_5800e3953262row6_col12\" class=\"data row6 col12\" >0.0224</td>\n",
       "                        <td id=\"T_7ef6dc9a_01ee_11eb_bd07_5800e3953262row6_col13\" class=\"data row6 col13\" >0.8396</td>\n",
       "                        <td id=\"T_7ef6dc9a_01ee_11eb_bd07_5800e3953262row6_col14\" class=\"data row6 col14\" >0</td>\n",
       "                        <td id=\"T_7ef6dc9a_01ee_11eb_bd07_5800e3953262row6_col15\" class=\"data row6 col15\" >0.2089</td>\n",
       "                        <td id=\"T_7ef6dc9a_01ee_11eb_bd07_5800e3953262row6_col16\" class=\"data row6 col16\" >22800</td>\n",
       "                        <td id=\"T_7ef6dc9a_01ee_11eb_bd07_5800e3953262row6_col17\" class=\"data row6 col17\" >nan</td>\n",
       "            </tr>\n",
       "            <tr>\n",
       "                        <th id=\"T_7ef6dc9a_01ee_11eb_bd07_5800e3953262level0_row7\" class=\"row_heading level0 row7\" >Palau Community College</th>\n",
       "                        <td id=\"T_7ef6dc9a_01ee_11eb_bd07_5800e3953262row7_col0\" class=\"data row7 col0\" >nan</td>\n",
       "                        <td id=\"T_7ef6dc9a_01ee_11eb_bd07_5800e3953262row7_col1\" class=\"data row7 col1\" >nan</td>\n",
       "                        <td id=\"T_7ef6dc9a_01ee_11eb_bd07_5800e3953262row7_col2\" class=\"data row7 col2\" >602</td>\n",
       "                        <td id=\"T_7ef6dc9a_01ee_11eb_bd07_5800e3953262row7_col3\" class=\"data row7 col3\" >0</td>\n",
       "                        <td id=\"T_7ef6dc9a_01ee_11eb_bd07_5800e3953262row7_col4\" class=\"data row7 col4\" >0.0017</td>\n",
       "                        <td id=\"T_7ef6dc9a_01ee_11eb_bd07_5800e3953262row7_col5\" class=\"data row7 col5\" >0</td>\n",
       "                        <td id=\"T_7ef6dc9a_01ee_11eb_bd07_5800e3953262row7_col6\" class=\"data row7 col6\" >0</td>\n",
       "                        <td id=\"T_7ef6dc9a_01ee_11eb_bd07_5800e3953262row7_col7\" class=\"data row7 col7\" >0</td>\n",
       "                        <td id=\"T_7ef6dc9a_01ee_11eb_bd07_5800e3953262row7_col8\" class=\"data row7 col8\" >0.9983</td>\n",
       "                        <td id=\"T_7ef6dc9a_01ee_11eb_bd07_5800e3953262row7_col9\" class=\"data row7 col9\" >0</td>\n",
       "                        <td id=\"T_7ef6dc9a_01ee_11eb_bd07_5800e3953262row7_col10\" class=\"data row7 col10\" >0</td>\n",
       "                        <td id=\"T_7ef6dc9a_01ee_11eb_bd07_5800e3953262row7_col11\" class=\"data row7 col11\" >0</td>\n",
       "                        <td id=\"T_7ef6dc9a_01ee_11eb_bd07_5800e3953262row7_col12\" class=\"data row7 col12\" >0.3887</td>\n",
       "                        <td id=\"T_7ef6dc9a_01ee_11eb_bd07_5800e3953262row7_col13\" class=\"data row7 col13\" >0.856</td>\n",
       "                        <td id=\"T_7ef6dc9a_01ee_11eb_bd07_5800e3953262row7_col14\" class=\"data row7 col14\" >0</td>\n",
       "                        <td id=\"T_7ef6dc9a_01ee_11eb_bd07_5800e3953262row7_col15\" class=\"data row7 col15\" >0.2616</td>\n",
       "                        <td id=\"T_7ef6dc9a_01ee_11eb_bd07_5800e3953262row7_col16\" class=\"data row7 col16\" >24700</td>\n",
       "                        <td id=\"T_7ef6dc9a_01ee_11eb_bd07_5800e3953262row7_col17\" class=\"data row7 col17\" >nan</td>\n",
       "            </tr>\n",
       "            <tr>\n",
       "                        <th id=\"T_7ef6dc9a_01ee_11eb_bd07_5800e3953262level0_row8\" class=\"row_heading level0 row8\" >LIU Brentwood</th>\n",
       "                        <td id=\"T_7ef6dc9a_01ee_11eb_bd07_5800e3953262row8_col0\" class=\"data row8 col0\" >nan</td>\n",
       "                        <td id=\"T_7ef6dc9a_01ee_11eb_bd07_5800e3953262row8_col1\" class=\"data row8 col1\" >nan</td>\n",
       "                        <td id=\"T_7ef6dc9a_01ee_11eb_bd07_5800e3953262row8_col2\" class=\"data row8 col2\" >15</td>\n",
       "                        <td id=\"T_7ef6dc9a_01ee_11eb_bd07_5800e3953262row8_col3\" class=\"data row8 col3\" >0</td>\n",
       "                        <td id=\"T_7ef6dc9a_01ee_11eb_bd07_5800e3953262row8_col4\" class=\"data row8 col4\" >0.1333</td>\n",
       "                        <td id=\"T_7ef6dc9a_01ee_11eb_bd07_5800e3953262row8_col5\" class=\"data row8 col5\" >0.2667</td>\n",
       "                        <td id=\"T_7ef6dc9a_01ee_11eb_bd07_5800e3953262row8_col6\" class=\"data row8 col6\" >0</td>\n",
       "                        <td id=\"T_7ef6dc9a_01ee_11eb_bd07_5800e3953262row8_col7\" class=\"data row8 col7\" >0</td>\n",
       "                        <td id=\"T_7ef6dc9a_01ee_11eb_bd07_5800e3953262row8_col8\" class=\"data row8 col8\" >0</td>\n",
       "                        <td id=\"T_7ef6dc9a_01ee_11eb_bd07_5800e3953262row8_col9\" class=\"data row8 col9\" >0.5333</td>\n",
       "                        <td id=\"T_7ef6dc9a_01ee_11eb_bd07_5800e3953262row8_col10\" class=\"data row8 col10\" >0</td>\n",
       "                        <td id=\"T_7ef6dc9a_01ee_11eb_bd07_5800e3953262row8_col11\" class=\"data row8 col11\" >0.0667</td>\n",
       "                        <td id=\"T_7ef6dc9a_01ee_11eb_bd07_5800e3953262row8_col12\" class=\"data row8 col12\" >0.4</td>\n",
       "                        <td id=\"T_7ef6dc9a_01ee_11eb_bd07_5800e3953262row8_col13\" class=\"data row8 col13\" >0.5652</td>\n",
       "                        <td id=\"T_7ef6dc9a_01ee_11eb_bd07_5800e3953262row8_col14\" class=\"data row8 col14\" >0.7826</td>\n",
       "                        <td id=\"T_7ef6dc9a_01ee_11eb_bd07_5800e3953262row8_col15\" class=\"data row8 col15\" >0.7826</td>\n",
       "                        <td id=\"T_7ef6dc9a_01ee_11eb_bd07_5800e3953262row8_col16\" class=\"data row8 col16\" >44600</td>\n",
       "                        <td id=\"T_7ef6dc9a_01ee_11eb_bd07_5800e3953262row8_col17\" class=\"data row8 col17\" >25499</td>\n",
       "            </tr>\n",
       "            <tr>\n",
       "                        <th id=\"T_7ef6dc9a_01ee_11eb_bd07_5800e3953262level0_row9\" class=\"row_heading level0 row9\" >California University of Management and Sciences</th>\n",
       "                        <td id=\"T_7ef6dc9a_01ee_11eb_bd07_5800e3953262row9_col0\" class=\"data row9 col0\" >nan</td>\n",
       "                        <td id=\"T_7ef6dc9a_01ee_11eb_bd07_5800e3953262row9_col1\" class=\"data row9 col1\" >nan</td>\n",
       "                        <td id=\"T_7ef6dc9a_01ee_11eb_bd07_5800e3953262row9_col2\" class=\"data row9 col2\" >98</td>\n",
       "                        <td id=\"T_7ef6dc9a_01ee_11eb_bd07_5800e3953262row9_col3\" class=\"data row9 col3\" >0.0102</td>\n",
       "                        <td id=\"T_7ef6dc9a_01ee_11eb_bd07_5800e3953262row9_col4\" class=\"data row9 col4\" >0.0204</td>\n",
       "                        <td id=\"T_7ef6dc9a_01ee_11eb_bd07_5800e3953262row9_col5\" class=\"data row9 col5\" >0</td>\n",
       "                        <td id=\"T_7ef6dc9a_01ee_11eb_bd07_5800e3953262row9_col6\" class=\"data row9 col6\" >0.0408</td>\n",
       "                        <td id=\"T_7ef6dc9a_01ee_11eb_bd07_5800e3953262row9_col7\" class=\"data row9 col7\" >0</td>\n",
       "                        <td id=\"T_7ef6dc9a_01ee_11eb_bd07_5800e3953262row9_col8\" class=\"data row9 col8\" >0</td>\n",
       "                        <td id=\"T_7ef6dc9a_01ee_11eb_bd07_5800e3953262row9_col9\" class=\"data row9 col9\" >0</td>\n",
       "                        <td id=\"T_7ef6dc9a_01ee_11eb_bd07_5800e3953262row9_col10\" class=\"data row9 col10\" >0.9286</td>\n",
       "                        <td id=\"T_7ef6dc9a_01ee_11eb_bd07_5800e3953262row9_col11\" class=\"data row9 col11\" >0</td>\n",
       "                        <td id=\"T_7ef6dc9a_01ee_11eb_bd07_5800e3953262row9_col12\" class=\"data row9 col12\" >0</td>\n",
       "                        <td id=\"T_7ef6dc9a_01ee_11eb_bd07_5800e3953262row9_col13\" class=\"data row9 col13\" >0.0926</td>\n",
       "                        <td id=\"T_7ef6dc9a_01ee_11eb_bd07_5800e3953262row9_col14\" class=\"data row9 col14\" >0.0556</td>\n",
       "                        <td id=\"T_7ef6dc9a_01ee_11eb_bd07_5800e3953262row9_col15\" class=\"data row9 col15\" >0.6852</td>\n",
       "                        <td id=\"T_7ef6dc9a_01ee_11eb_bd07_5800e3953262row9_col16\" class=\"data row9 col16\" >nan</td>\n",
       "                        <td id=\"T_7ef6dc9a_01ee_11eb_bd07_5800e3953262row9_col17\" class=\"data row9 col17\" >nan</td>\n",
       "            </tr>\n",
       "            <tr>\n",
       "                        <th id=\"T_7ef6dc9a_01ee_11eb_bd07_5800e3953262level0_row10\" class=\"row_heading level0 row10\" >Le Cordon Bleu College of Culinary Arts-San Francisco</th>\n",
       "                        <td id=\"T_7ef6dc9a_01ee_11eb_bd07_5800e3953262row10_col0\" class=\"data row10 col0\" >nan</td>\n",
       "                        <td id=\"T_7ef6dc9a_01ee_11eb_bd07_5800e3953262row10_col1\" class=\"data row10 col1\" >nan</td>\n",
       "                        <td id=\"T_7ef6dc9a_01ee_11eb_bd07_5800e3953262row10_col2\" class=\"data row10 col2\" >442</td>\n",
       "                        <td id=\"T_7ef6dc9a_01ee_11eb_bd07_5800e3953262row10_col3\" class=\"data row10 col3\" >0.0317</td>\n",
       "                        <td id=\"T_7ef6dc9a_01ee_11eb_bd07_5800e3953262row10_col4\" class=\"data row10 col4\" >0.009</td>\n",
       "                        <td id=\"T_7ef6dc9a_01ee_11eb_bd07_5800e3953262row10_col5\" class=\"data row10 col5\" >0.0113</td>\n",
       "                        <td id=\"T_7ef6dc9a_01ee_11eb_bd07_5800e3953262row10_col6\" class=\"data row10 col6\" >0.0271</td>\n",
       "                        <td id=\"T_7ef6dc9a_01ee_11eb_bd07_5800e3953262row10_col7\" class=\"data row10 col7\" >0.0045</td>\n",
       "                        <td id=\"T_7ef6dc9a_01ee_11eb_bd07_5800e3953262row10_col8\" class=\"data row10 col8\" >0.0023</td>\n",
       "                        <td id=\"T_7ef6dc9a_01ee_11eb_bd07_5800e3953262row10_col9\" class=\"data row10 col9\" >0.0113</td>\n",
       "                        <td id=\"T_7ef6dc9a_01ee_11eb_bd07_5800e3953262row10_col10\" class=\"data row10 col10\" >0</td>\n",
       "                        <td id=\"T_7ef6dc9a_01ee_11eb_bd07_5800e3953262row10_col11\" class=\"data row10 col11\" >0.9027</td>\n",
       "                        <td id=\"T_7ef6dc9a_01ee_11eb_bd07_5800e3953262row10_col12\" class=\"data row10 col12\" >0</td>\n",
       "                        <td id=\"T_7ef6dc9a_01ee_11eb_bd07_5800e3953262row10_col13\" class=\"data row10 col13\" >0.3722</td>\n",
       "                        <td id=\"T_7ef6dc9a_01ee_11eb_bd07_5800e3953262row10_col14\" class=\"data row10 col14\" >0.5358</td>\n",
       "                        <td id=\"T_7ef6dc9a_01ee_11eb_bd07_5800e3953262row10_col15\" class=\"data row10 col15\" >0.544</td>\n",
       "                        <td id=\"T_7ef6dc9a_01ee_11eb_bd07_5800e3953262row10_col16\" class=\"data row10 col16\" >34000</td>\n",
       "                        <td id=\"T_7ef6dc9a_01ee_11eb_bd07_5800e3953262row10_col17\" class=\"data row10 col17\" >12931</td>\n",
       "            </tr>\n",
       "            <tr>\n",
       "                        <th id=\"T_7ef6dc9a_01ee_11eb_bd07_5800e3953262level0_row11\" class=\"row_heading level0 row11\" >MTI Business College Inc</th>\n",
       "                        <td id=\"T_7ef6dc9a_01ee_11eb_bd07_5800e3953262row11_col0\" class=\"data row11 col0\" >nan</td>\n",
       "                        <td id=\"T_7ef6dc9a_01ee_11eb_bd07_5800e3953262row11_col1\" class=\"data row11 col1\" >nan</td>\n",
       "                        <td id=\"T_7ef6dc9a_01ee_11eb_bd07_5800e3953262row11_col2\" class=\"data row11 col2\" >146</td>\n",
       "                        <td id=\"T_7ef6dc9a_01ee_11eb_bd07_5800e3953262row11_col3\" class=\"data row11 col3\" >0.2397</td>\n",
       "                        <td id=\"T_7ef6dc9a_01ee_11eb_bd07_5800e3953262row11_col4\" class=\"data row11 col4\" >0.5137</td>\n",
       "                        <td id=\"T_7ef6dc9a_01ee_11eb_bd07_5800e3953262row11_col5\" class=\"data row11 col5\" >0.1438</td>\n",
       "                        <td id=\"T_7ef6dc9a_01ee_11eb_bd07_5800e3953262row11_col6\" class=\"data row11 col6\" >0.0479</td>\n",
       "                        <td id=\"T_7ef6dc9a_01ee_11eb_bd07_5800e3953262row11_col7\" class=\"data row11 col7\" >0.0342</td>\n",
       "                        <td id=\"T_7ef6dc9a_01ee_11eb_bd07_5800e3953262row11_col8\" class=\"data row11 col8\" >0.0205</td>\n",
       "                        <td id=\"T_7ef6dc9a_01ee_11eb_bd07_5800e3953262row11_col9\" class=\"data row11 col9\" >0</td>\n",
       "                        <td id=\"T_7ef6dc9a_01ee_11eb_bd07_5800e3953262row11_col10\" class=\"data row11 col10\" >0</td>\n",
       "                        <td id=\"T_7ef6dc9a_01ee_11eb_bd07_5800e3953262row11_col11\" class=\"data row11 col11\" >0</td>\n",
       "                        <td id=\"T_7ef6dc9a_01ee_11eb_bd07_5800e3953262row11_col12\" class=\"data row11 col12\" >0</td>\n",
       "                        <td id=\"T_7ef6dc9a_01ee_11eb_bd07_5800e3953262row11_col13\" class=\"data row11 col13\" >1</td>\n",
       "                        <td id=\"T_7ef6dc9a_01ee_11eb_bd07_5800e3953262row11_col14\" class=\"data row11 col14\" >1</td>\n",
       "                        <td id=\"T_7ef6dc9a_01ee_11eb_bd07_5800e3953262row11_col15\" class=\"data row11 col15\" >0.3986</td>\n",
       "                        <td id=\"T_7ef6dc9a_01ee_11eb_bd07_5800e3953262row11_col16\" class=\"data row11 col16\" >23000</td>\n",
       "                        <td id=\"T_7ef6dc9a_01ee_11eb_bd07_5800e3953262row11_col17\" class=\"data row11 col17\" >9500</td>\n",
       "            </tr>\n",
       "            <tr>\n",
       "                        <th id=\"T_7ef6dc9a_01ee_11eb_bd07_5800e3953262level0_row12\" class=\"row_heading level0 row12\" >ABC Beauty College Inc</th>\n",
       "                        <td id=\"T_7ef6dc9a_01ee_11eb_bd07_5800e3953262row12_col0\" class=\"data row12 col0\" >nan</td>\n",
       "                        <td id=\"T_7ef6dc9a_01ee_11eb_bd07_5800e3953262row12_col1\" class=\"data row12 col1\" >nan</td>\n",
       "                        <td id=\"T_7ef6dc9a_01ee_11eb_bd07_5800e3953262row12_col2\" class=\"data row12 col2\" >38</td>\n",
       "                        <td id=\"T_7ef6dc9a_01ee_11eb_bd07_5800e3953262row12_col3\" class=\"data row12 col3\" >0.2895</td>\n",
       "                        <td id=\"T_7ef6dc9a_01ee_11eb_bd07_5800e3953262row12_col4\" class=\"data row12 col4\" >0.6579</td>\n",
       "                        <td id=\"T_7ef6dc9a_01ee_11eb_bd07_5800e3953262row12_col5\" class=\"data row12 col5\" >0.0526</td>\n",
       "                        <td id=\"T_7ef6dc9a_01ee_11eb_bd07_5800e3953262row12_col6\" class=\"data row12 col6\" >0</td>\n",
       "                        <td id=\"T_7ef6dc9a_01ee_11eb_bd07_5800e3953262row12_col7\" class=\"data row12 col7\" >0</td>\n",
       "                        <td id=\"T_7ef6dc9a_01ee_11eb_bd07_5800e3953262row12_col8\" class=\"data row12 col8\" >0</td>\n",
       "                        <td id=\"T_7ef6dc9a_01ee_11eb_bd07_5800e3953262row12_col9\" class=\"data row12 col9\" >0</td>\n",
       "                        <td id=\"T_7ef6dc9a_01ee_11eb_bd07_5800e3953262row12_col10\" class=\"data row12 col10\" >0</td>\n",
       "                        <td id=\"T_7ef6dc9a_01ee_11eb_bd07_5800e3953262row12_col11\" class=\"data row12 col11\" >0</td>\n",
       "                        <td id=\"T_7ef6dc9a_01ee_11eb_bd07_5800e3953262row12_col12\" class=\"data row12 col12\" >0.2105</td>\n",
       "                        <td id=\"T_7ef6dc9a_01ee_11eb_bd07_5800e3953262row12_col13\" class=\"data row12 col13\" >0.9815</td>\n",
       "                        <td id=\"T_7ef6dc9a_01ee_11eb_bd07_5800e3953262row12_col14\" class=\"data row12 col14\" >1</td>\n",
       "                        <td id=\"T_7ef6dc9a_01ee_11eb_bd07_5800e3953262row12_col15\" class=\"data row12 col15\" >0.4688</td>\n",
       "                        <td id=\"T_7ef6dc9a_01ee_11eb_bd07_5800e3953262row12_col16\" class=\"data row12 col16\" >nan</td>\n",
       "                        <td id=\"T_7ef6dc9a_01ee_11eb_bd07_5800e3953262row12_col17\" class=\"data row12 col17\" >16500</td>\n",
       "            </tr>\n",
       "            <tr>\n",
       "                        <th id=\"T_7ef6dc9a_01ee_11eb_bd07_5800e3953262level0_row13\" class=\"row_heading level0 row13\" >Dongguk University-Los Angeles</th>\n",
       "                        <td id=\"T_7ef6dc9a_01ee_11eb_bd07_5800e3953262row13_col0\" class=\"data row13 col0\" >nan</td>\n",
       "                        <td id=\"T_7ef6dc9a_01ee_11eb_bd07_5800e3953262row13_col1\" class=\"data row13 col1\" >nan</td>\n",
       "                        <td id=\"T_7ef6dc9a_01ee_11eb_bd07_5800e3953262row13_col2\" class=\"data row13 col2\" >20</td>\n",
       "                        <td id=\"T_7ef6dc9a_01ee_11eb_bd07_5800e3953262row13_col3\" class=\"data row13 col3\" >0.35</td>\n",
       "                        <td id=\"T_7ef6dc9a_01ee_11eb_bd07_5800e3953262row13_col4\" class=\"data row13 col4\" >0</td>\n",
       "                        <td id=\"T_7ef6dc9a_01ee_11eb_bd07_5800e3953262row13_col5\" class=\"data row13 col5\" >0.15</td>\n",
       "                        <td id=\"T_7ef6dc9a_01ee_11eb_bd07_5800e3953262row13_col6\" class=\"data row13 col6\" >0.5</td>\n",
       "                        <td id=\"T_7ef6dc9a_01ee_11eb_bd07_5800e3953262row13_col7\" class=\"data row13 col7\" >0</td>\n",
       "                        <td id=\"T_7ef6dc9a_01ee_11eb_bd07_5800e3953262row13_col8\" class=\"data row13 col8\" >0</td>\n",
       "                        <td id=\"T_7ef6dc9a_01ee_11eb_bd07_5800e3953262row13_col9\" class=\"data row13 col9\" >0</td>\n",
       "                        <td id=\"T_7ef6dc9a_01ee_11eb_bd07_5800e3953262row13_col10\" class=\"data row13 col10\" >0</td>\n",
       "                        <td id=\"T_7ef6dc9a_01ee_11eb_bd07_5800e3953262row13_col11\" class=\"data row13 col11\" >0</td>\n",
       "                        <td id=\"T_7ef6dc9a_01ee_11eb_bd07_5800e3953262row13_col12\" class=\"data row13 col12\" >nan</td>\n",
       "                        <td id=\"T_7ef6dc9a_01ee_11eb_bd07_5800e3953262row13_col13\" class=\"data row13 col13\" >nan</td>\n",
       "                        <td id=\"T_7ef6dc9a_01ee_11eb_bd07_5800e3953262row13_col14\" class=\"data row13 col14\" >nan</td>\n",
       "                        <td id=\"T_7ef6dc9a_01ee_11eb_bd07_5800e3953262row13_col15\" class=\"data row13 col15\" >1</td>\n",
       "                        <td id=\"T_7ef6dc9a_01ee_11eb_bd07_5800e3953262row13_col16\" class=\"data row13 col16\" >nan</td>\n",
       "                        <td id=\"T_7ef6dc9a_01ee_11eb_bd07_5800e3953262row13_col17\" class=\"data row13 col17\" >nan</td>\n",
       "            </tr>\n",
       "            <tr>\n",
       "                        <th id=\"T_7ef6dc9a_01ee_11eb_bd07_5800e3953262level0_row14\" class=\"row_heading level0 row14\" >Medical College of Wisconsin</th>\n",
       "                        <td id=\"T_7ef6dc9a_01ee_11eb_bd07_5800e3953262row14_col0\" class=\"data row14 col0\" >nan</td>\n",
       "                        <td id=\"T_7ef6dc9a_01ee_11eb_bd07_5800e3953262row14_col1\" class=\"data row14 col1\" >nan</td>\n",
       "                        <td id=\"T_7ef6dc9a_01ee_11eb_bd07_5800e3953262row14_col2\" class=\"data row14 col2\" >nan</td>\n",
       "                        <td id=\"T_7ef6dc9a_01ee_11eb_bd07_5800e3953262row14_col3\" class=\"data row14 col3\" >nan</td>\n",
       "                        <td id=\"T_7ef6dc9a_01ee_11eb_bd07_5800e3953262row14_col4\" class=\"data row14 col4\" >nan</td>\n",
       "                        <td id=\"T_7ef6dc9a_01ee_11eb_bd07_5800e3953262row14_col5\" class=\"data row14 col5\" >nan</td>\n",
       "                        <td id=\"T_7ef6dc9a_01ee_11eb_bd07_5800e3953262row14_col6\" class=\"data row14 col6\" >nan</td>\n",
       "                        <td id=\"T_7ef6dc9a_01ee_11eb_bd07_5800e3953262row14_col7\" class=\"data row14 col7\" >nan</td>\n",
       "                        <td id=\"T_7ef6dc9a_01ee_11eb_bd07_5800e3953262row14_col8\" class=\"data row14 col8\" >nan</td>\n",
       "                        <td id=\"T_7ef6dc9a_01ee_11eb_bd07_5800e3953262row14_col9\" class=\"data row14 col9\" >nan</td>\n",
       "                        <td id=\"T_7ef6dc9a_01ee_11eb_bd07_5800e3953262row14_col10\" class=\"data row14 col10\" >nan</td>\n",
       "                        <td id=\"T_7ef6dc9a_01ee_11eb_bd07_5800e3953262row14_col11\" class=\"data row14 col11\" >nan</td>\n",
       "                        <td id=\"T_7ef6dc9a_01ee_11eb_bd07_5800e3953262row14_col12\" class=\"data row14 col12\" >nan</td>\n",
       "                        <td id=\"T_7ef6dc9a_01ee_11eb_bd07_5800e3953262row14_col13\" class=\"data row14 col13\" >nan</td>\n",
       "                        <td id=\"T_7ef6dc9a_01ee_11eb_bd07_5800e3953262row14_col14\" class=\"data row14 col14\" >nan</td>\n",
       "                        <td id=\"T_7ef6dc9a_01ee_11eb_bd07_5800e3953262row14_col15\" class=\"data row14 col15\" >nan</td>\n",
       "                        <td id=\"T_7ef6dc9a_01ee_11eb_bd07_5800e3953262row14_col16\" class=\"data row14 col16\" >233100</td>\n",
       "                        <td id=\"T_7ef6dc9a_01ee_11eb_bd07_5800e3953262row14_col17\" class=\"data row14 col17\" >nan</td>\n",
       "            </tr>\n",
       "            <tr>\n",
       "                        <th id=\"T_7ef6dc9a_01ee_11eb_bd07_5800e3953262level0_row15\" class=\"row_heading level0 row15\" >Southwest University of Visual Arts-Tucson</th>\n",
       "                        <td id=\"T_7ef6dc9a_01ee_11eb_bd07_5800e3953262row15_col0\" class=\"data row15 col0\" >nan</td>\n",
       "                        <td id=\"T_7ef6dc9a_01ee_11eb_bd07_5800e3953262row15_col1\" class=\"data row15 col1\" >nan</td>\n",
       "                        <td id=\"T_7ef6dc9a_01ee_11eb_bd07_5800e3953262row15_col2\" class=\"data row15 col2\" >161</td>\n",
       "                        <td id=\"T_7ef6dc9a_01ee_11eb_bd07_5800e3953262row15_col3\" class=\"data row15 col3\" >0.4534</td>\n",
       "                        <td id=\"T_7ef6dc9a_01ee_11eb_bd07_5800e3953262row15_col4\" class=\"data row15 col4\" >0.0435</td>\n",
       "                        <td id=\"T_7ef6dc9a_01ee_11eb_bd07_5800e3953262row15_col5\" class=\"data row15 col5\" >0.3168</td>\n",
       "                        <td id=\"T_7ef6dc9a_01ee_11eb_bd07_5800e3953262row15_col6\" class=\"data row15 col6\" >0.0062</td>\n",
       "                        <td id=\"T_7ef6dc9a_01ee_11eb_bd07_5800e3953262row15_col7\" class=\"data row15 col7\" >0.0311</td>\n",
       "                        <td id=\"T_7ef6dc9a_01ee_11eb_bd07_5800e3953262row15_col8\" class=\"data row15 col8\" >0</td>\n",
       "                        <td id=\"T_7ef6dc9a_01ee_11eb_bd07_5800e3953262row15_col9\" class=\"data row15 col9\" >0</td>\n",
       "                        <td id=\"T_7ef6dc9a_01ee_11eb_bd07_5800e3953262row15_col10\" class=\"data row15 col10\" >0</td>\n",
       "                        <td id=\"T_7ef6dc9a_01ee_11eb_bd07_5800e3953262row15_col11\" class=\"data row15 col11\" >0.1491</td>\n",
       "                        <td id=\"T_7ef6dc9a_01ee_11eb_bd07_5800e3953262row15_col12\" class=\"data row15 col12\" >0.2795</td>\n",
       "                        <td id=\"T_7ef6dc9a_01ee_11eb_bd07_5800e3953262row15_col13\" class=\"data row15 col13\" >0.4469</td>\n",
       "                        <td id=\"T_7ef6dc9a_01ee_11eb_bd07_5800e3953262row15_col14\" class=\"data row15 col14\" >0.4292</td>\n",
       "                        <td id=\"T_7ef6dc9a_01ee_11eb_bd07_5800e3953262row15_col15\" class=\"data row15 col15\" >0.8657</td>\n",
       "                        <td id=\"T_7ef6dc9a_01ee_11eb_bd07_5800e3953262row15_col16\" class=\"data row15 col16\" >27200</td>\n",
       "                        <td id=\"T_7ef6dc9a_01ee_11eb_bd07_5800e3953262row15_col17\" class=\"data row15 col17\" >49750</td>\n",
       "            </tr>\n",
       "    </tbody></table>"
      ],
      "text/plain": [
       "<pandas.io.formats.style.Styler at 0x19c02a56f88>"
      ]
     },
     "execution_count": 78,
     "metadata": {},
     "output_type": "execute_result"
    }
   ],
   "source": [
    "# 6.6.11 unique_max_cols를 .loc의 행 index에 전달하여 fancy indexing이 작동 되도록 한다. \n",
    "#        .style.highlight_max()를 chaining 하여 컬럼별 최대 값을 강조 한다. \n",
    "college_n2.loc[unique_max_cols].style.highlight_max()"
   ]
  },
  {
   "cell_type": "markdown",
   "metadata": {},
   "source": [
    "# 6.7 Replicating idxmax with method chaining"
   ]
  },
  {
   "cell_type": "code",
   "execution_count": 79,
   "metadata": {},
   "outputs": [],
   "source": [
    "### [Tech] .idxmax()를 직접 구현해 본다. \n",
    "###        1) 각 컬럼별 최대값을 구한다. \n",
    "###        2) 해당 컬럼의 최대값과 같은 값을 갖는지 여부를 판단하는 Boolean Series 구성한다. \n",
    "###        3) 복수 개의 행에서 동일한 최대값을 가질 경우, 최초로 나타나는 하나의 행만 남긴다. \n",
    "###           이를 위해서 2)에서 구한 Boolean Series에 이중으로 누적합을 수행한다.\n",
    "###           [F,F,T,F,T] 에 대해 .cumsum()을 수행하면 [0,0,1,1,2] 가 되고\n",
    "###           이중으로 .cumsum().cumsum()을 수행하면 [0,0,1,2,4 ]가 된다. \n",
    "###           이중 누적합에서 처음으로 1이 나타나는 시점이 첫 최대값의 index 이다. \n",
    "###        4) 하나라도 1을 갖는 값이 포함된 행이 각 컬럼의 최대값을 갖는 최초 행이다. \n",
    "### [Goal] college df에서 각 컬럼의 최대값을 강조해본다. \n",
    "###       단 .idxmax()를 사용하지 않는다. 즉 .idxmax의 구현원리를 살펴 본다. "
   ]
  },
  {
   "cell_type": "markdown",
   "metadata": {},
   "source": [
    "## >> How it works..."
   ]
  },
  {
   "cell_type": "code",
   "execution_count": 80,
   "metadata": {},
   "outputs": [],
   "source": [
    "# 6.7.1 college.csv로 부터 INSTNM을 인덱스로 하는 college를 load 하고,\n",
    "#      object 형 데이터, binary 형 데이터에 대한 처리를 수행한다. \n",
    "college = pd.read_csv('data/college.csv', index_col='INSTNM')\n",
    "cols = ['MD_EARN_WNE_P10','GRAD_DEBT_MDN_SUPP']\n",
    "for col in cols : \n",
    "    college[col] = pd.to_numeric(college[col], errors='coerce')\n",
    "college_n = college.select_dtypes(include=[np.number])\n",
    "criteria = college_n.nunique() == 2\n",
    "binary_cols = college_n.columns[criteria].tolist()\n",
    "college_n = college_n.drop(labels=binary_cols, axis='columns')"
   ]
  },
  {
   "cell_type": "code",
   "execution_count": 81,
   "metadata": {},
   "outputs": [
    {
     "data": {
      "text/plain": [
       "SATVRMID         765.0\n",
       "SATMTMID         785.0\n",
       "UGDS          151558.0\n",
       "UGDS_WHITE         1.0\n",
       "UGDS_BLACK         1.0\n",
       "dtype: float64"
      ]
     },
     "execution_count": 81,
     "metadata": {},
     "output_type": "execute_result"
    }
   ],
   "source": [
    "# 6.7.2 각 컬럼의 최대값을 구한다. \n",
    "college_n.max().head()"
   ]
  },
  {
   "cell_type": "code",
   "execution_count": 82,
   "metadata": {},
   "outputs": [],
   "source": [
    "# pd.DataFrame.eq?  # default axis = 1 , college_n.max 와 각 행을 비교한다. "
   ]
  },
  {
   "cell_type": "code",
   "execution_count": 83,
   "metadata": {},
   "outputs": [
    {
     "data": {
      "text/html": [
       "<div>\n",
       "<style scoped>\n",
       "    .dataframe tbody tr th:only-of-type {\n",
       "        vertical-align: middle;\n",
       "    }\n",
       "\n",
       "    .dataframe tbody tr th {\n",
       "        vertical-align: top;\n",
       "    }\n",
       "\n",
       "    .dataframe thead th {\n",
       "        text-align: right;\n",
       "    }\n",
       "</style>\n",
       "<table border=\"1\" class=\"dataframe\">\n",
       "  <thead>\n",
       "    <tr style=\"text-align: right;\">\n",
       "      <th></th>\n",
       "      <th>SATVRMID</th>\n",
       "      <th>SATMTMID</th>\n",
       "      <th>UGDS</th>\n",
       "      <th>UGDS_WHITE</th>\n",
       "      <th>UGDS_BLACK</th>\n",
       "      <th>UGDS_HISP</th>\n",
       "      <th>UGDS_ASIAN</th>\n",
       "      <th>UGDS_AIAN</th>\n",
       "      <th>UGDS_NHPI</th>\n",
       "      <th>UGDS_2MOR</th>\n",
       "      <th>UGDS_NRA</th>\n",
       "      <th>UGDS_UNKN</th>\n",
       "      <th>PPTUG_EF</th>\n",
       "      <th>PCTPELL</th>\n",
       "      <th>PCTFLOAN</th>\n",
       "      <th>UG25ABV</th>\n",
       "      <th>MD_EARN_WNE_P10</th>\n",
       "      <th>GRAD_DEBT_MDN_SUPP</th>\n",
       "    </tr>\n",
       "    <tr>\n",
       "      <th>INSTNM</th>\n",
       "      <th></th>\n",
       "      <th></th>\n",
       "      <th></th>\n",
       "      <th></th>\n",
       "      <th></th>\n",
       "      <th></th>\n",
       "      <th></th>\n",
       "      <th></th>\n",
       "      <th></th>\n",
       "      <th></th>\n",
       "      <th></th>\n",
       "      <th></th>\n",
       "      <th></th>\n",
       "      <th></th>\n",
       "      <th></th>\n",
       "      <th></th>\n",
       "      <th></th>\n",
       "      <th></th>\n",
       "    </tr>\n",
       "  </thead>\n",
       "  <tbody>\n",
       "    <tr>\n",
       "      <td>Alabama A &amp; M University</td>\n",
       "      <td>False</td>\n",
       "      <td>False</td>\n",
       "      <td>False</td>\n",
       "      <td>False</td>\n",
       "      <td>False</td>\n",
       "      <td>False</td>\n",
       "      <td>False</td>\n",
       "      <td>False</td>\n",
       "      <td>False</td>\n",
       "      <td>False</td>\n",
       "      <td>False</td>\n",
       "      <td>False</td>\n",
       "      <td>False</td>\n",
       "      <td>False</td>\n",
       "      <td>False</td>\n",
       "      <td>False</td>\n",
       "      <td>False</td>\n",
       "      <td>False</td>\n",
       "    </tr>\n",
       "    <tr>\n",
       "      <td>University of Alabama at Birmingham</td>\n",
       "      <td>False</td>\n",
       "      <td>False</td>\n",
       "      <td>False</td>\n",
       "      <td>False</td>\n",
       "      <td>False</td>\n",
       "      <td>False</td>\n",
       "      <td>False</td>\n",
       "      <td>False</td>\n",
       "      <td>False</td>\n",
       "      <td>False</td>\n",
       "      <td>False</td>\n",
       "      <td>False</td>\n",
       "      <td>False</td>\n",
       "      <td>False</td>\n",
       "      <td>False</td>\n",
       "      <td>False</td>\n",
       "      <td>False</td>\n",
       "      <td>False</td>\n",
       "    </tr>\n",
       "    <tr>\n",
       "      <td>Amridge University</td>\n",
       "      <td>False</td>\n",
       "      <td>False</td>\n",
       "      <td>False</td>\n",
       "      <td>False</td>\n",
       "      <td>False</td>\n",
       "      <td>False</td>\n",
       "      <td>False</td>\n",
       "      <td>False</td>\n",
       "      <td>False</td>\n",
       "      <td>False</td>\n",
       "      <td>False</td>\n",
       "      <td>False</td>\n",
       "      <td>False</td>\n",
       "      <td>False</td>\n",
       "      <td>False</td>\n",
       "      <td>False</td>\n",
       "      <td>False</td>\n",
       "      <td>False</td>\n",
       "    </tr>\n",
       "    <tr>\n",
       "      <td>University of Alabama in Huntsville</td>\n",
       "      <td>False</td>\n",
       "      <td>False</td>\n",
       "      <td>False</td>\n",
       "      <td>False</td>\n",
       "      <td>False</td>\n",
       "      <td>False</td>\n",
       "      <td>False</td>\n",
       "      <td>False</td>\n",
       "      <td>False</td>\n",
       "      <td>False</td>\n",
       "      <td>False</td>\n",
       "      <td>False</td>\n",
       "      <td>False</td>\n",
       "      <td>False</td>\n",
       "      <td>False</td>\n",
       "      <td>False</td>\n",
       "      <td>False</td>\n",
       "      <td>False</td>\n",
       "    </tr>\n",
       "    <tr>\n",
       "      <td>Alabama State University</td>\n",
       "      <td>False</td>\n",
       "      <td>False</td>\n",
       "      <td>False</td>\n",
       "      <td>False</td>\n",
       "      <td>False</td>\n",
       "      <td>False</td>\n",
       "      <td>False</td>\n",
       "      <td>False</td>\n",
       "      <td>False</td>\n",
       "      <td>False</td>\n",
       "      <td>False</td>\n",
       "      <td>False</td>\n",
       "      <td>False</td>\n",
       "      <td>False</td>\n",
       "      <td>False</td>\n",
       "      <td>False</td>\n",
       "      <td>False</td>\n",
       "      <td>False</td>\n",
       "    </tr>\n",
       "  </tbody>\n",
       "</table>\n",
       "</div>"
      ],
      "text/plain": [
       "                                     SATVRMID  SATMTMID   UGDS  UGDS_WHITE  \\\n",
       "INSTNM                                                                       \n",
       "Alabama A & M University                False     False  False       False   \n",
       "University of Alabama at Birmingham     False     False  False       False   \n",
       "Amridge University                      False     False  False       False   \n",
       "University of Alabama in Huntsville     False     False  False       False   \n",
       "Alabama State University                False     False  False       False   \n",
       "\n",
       "                                     UGDS_BLACK  UGDS_HISP  UGDS_ASIAN  \\\n",
       "INSTNM                                                                   \n",
       "Alabama A & M University                  False      False       False   \n",
       "University of Alabama at Birmingham       False      False       False   \n",
       "Amridge University                        False      False       False   \n",
       "University of Alabama in Huntsville       False      False       False   \n",
       "Alabama State University                  False      False       False   \n",
       "\n",
       "                                     UGDS_AIAN  UGDS_NHPI  UGDS_2MOR  \\\n",
       "INSTNM                                                                 \n",
       "Alabama A & M University                 False      False      False   \n",
       "University of Alabama at Birmingham      False      False      False   \n",
       "Amridge University                       False      False      False   \n",
       "University of Alabama in Huntsville      False      False      False   \n",
       "Alabama State University                 False      False      False   \n",
       "\n",
       "                                     UGDS_NRA  UGDS_UNKN  PPTUG_EF  PCTPELL  \\\n",
       "INSTNM                                                                        \n",
       "Alabama A & M University                False      False     False    False   \n",
       "University of Alabama at Birmingham     False      False     False    False   \n",
       "Amridge University                      False      False     False    False   \n",
       "University of Alabama in Huntsville     False      False     False    False   \n",
       "Alabama State University                False      False     False    False   \n",
       "\n",
       "                                     PCTFLOAN  UG25ABV  MD_EARN_WNE_P10  \\\n",
       "INSTNM                                                                    \n",
       "Alabama A & M University                False    False            False   \n",
       "University of Alabama at Birmingham     False    False            False   \n",
       "Amridge University                      False    False            False   \n",
       "University of Alabama in Huntsville     False    False            False   \n",
       "Alabama State University                False    False            False   \n",
       "\n",
       "                                     GRAD_DEBT_MDN_SUPP  \n",
       "INSTNM                                                   \n",
       "Alabama A & M University                          False  \n",
       "University of Alabama at Birmingham               False  \n",
       "Amridge University                                False  \n",
       "University of Alabama in Huntsville               False  \n",
       "Alabama State University                          False  "
      ]
     },
     "execution_count": 83,
     "metadata": {},
     "output_type": "execute_result"
    }
   ],
   "source": [
    "# 6.7.3  각 컬럼의 최대값과 동일한 값을 갖는지 여부를 판단한다. \n",
    "college_n.eq(college_n.max()).head()"
   ]
  },
  {
   "cell_type": "code",
   "execution_count": 84,
   "metadata": {},
   "outputs": [
    {
     "data": {
      "text/plain": [
       "INSTNM\n",
       "Alabama A & M University               False\n",
       "University of Alabama at Birmingham    False\n",
       "Amridge University                     False\n",
       "University of Alabama in Huntsville    False\n",
       "Alabama State University               False\n",
       "dtype: bool"
      ]
     },
     "execution_count": 84,
     "metadata": {},
     "output_type": "execute_result"
    }
   ],
   "source": [
    "# 6.7.4 각 행에 하나라도 True 가 있으면, 해당 행을 어떤 컬럼에 대해서 최대 값이다. \n",
    "#       has_row_max는 하나라도 최대값을 갖는지 여부를 판단하는 Boolean Series 이다. \n",
    "has_row_max =college_n.eq(college_n.max()).any(axis='columns')\n",
    "has_row_max.head()"
   ]
  },
  {
   "cell_type": "code",
   "execution_count": 85,
   "metadata": {},
   "outputs": [
    {
     "data": {
      "text/plain": [
       "(7535, 18)"
      ]
     },
     "execution_count": 85,
     "metadata": {},
     "output_type": "execute_result"
    }
   ],
   "source": [
    "# 6.7.5  college는 18개 컬럼인데, 최대값을 갖는 행은 401 개가 나왔다. \n",
    "#       UGDS_ 등 비율을 갖는 컬럼에서 최대값 1을 동률로 갖는 행이 다수 있을 것으로 보인다. \n",
    "college_n.shape"
   ]
  },
  {
   "cell_type": "code",
   "execution_count": 86,
   "metadata": {},
   "outputs": [
    {
     "data": {
      "text/plain": [
       "401"
      ]
     },
     "execution_count": 86,
     "metadata": {},
     "output_type": "execute_result"
    }
   ],
   "source": [
    "has_row_max.sum()"
   ]
  },
  {
   "cell_type": "code",
   "execution_count": 87,
   "metadata": {
    "scrolled": true
   },
   "outputs": [
    {
     "data": {
      "text/html": [
       "<div>\n",
       "<style scoped>\n",
       "    .dataframe tbody tr th:only-of-type {\n",
       "        vertical-align: middle;\n",
       "    }\n",
       "\n",
       "    .dataframe tbody tr th {\n",
       "        vertical-align: top;\n",
       "    }\n",
       "\n",
       "    .dataframe thead th {\n",
       "        text-align: right;\n",
       "    }\n",
       "</style>\n",
       "<table border=\"1\" class=\"dataframe\">\n",
       "  <thead>\n",
       "    <tr style=\"text-align: right;\">\n",
       "      <th></th>\n",
       "      <th>SATVRMID</th>\n",
       "      <th>SATMTMID</th>\n",
       "      <th>UGDS</th>\n",
       "      <th>UGDS_WHITE</th>\n",
       "      <th>UGDS_BLACK</th>\n",
       "      <th>UGDS_HISP</th>\n",
       "      <th>UGDS_ASIAN</th>\n",
       "      <th>UGDS_AIAN</th>\n",
       "      <th>UGDS_NHPI</th>\n",
       "      <th>UGDS_2MOR</th>\n",
       "      <th>UGDS_NRA</th>\n",
       "      <th>UGDS_UNKN</th>\n",
       "      <th>PPTUG_EF</th>\n",
       "      <th>PCTPELL</th>\n",
       "      <th>PCTFLOAN</th>\n",
       "      <th>UG25ABV</th>\n",
       "      <th>MD_EARN_WNE_P10</th>\n",
       "      <th>GRAD_DEBT_MDN_SUPP</th>\n",
       "    </tr>\n",
       "    <tr>\n",
       "      <th>INSTNM</th>\n",
       "      <th></th>\n",
       "      <th></th>\n",
       "      <th></th>\n",
       "      <th></th>\n",
       "      <th></th>\n",
       "      <th></th>\n",
       "      <th></th>\n",
       "      <th></th>\n",
       "      <th></th>\n",
       "      <th></th>\n",
       "      <th></th>\n",
       "      <th></th>\n",
       "      <th></th>\n",
       "      <th></th>\n",
       "      <th></th>\n",
       "      <th></th>\n",
       "      <th></th>\n",
       "      <th></th>\n",
       "    </tr>\n",
       "  </thead>\n",
       "  <tbody>\n",
       "    <tr>\n",
       "      <td>Alabama A &amp; M University</td>\n",
       "      <td>0</td>\n",
       "      <td>0</td>\n",
       "      <td>0</td>\n",
       "      <td>0</td>\n",
       "      <td>0</td>\n",
       "      <td>0</td>\n",
       "      <td>0</td>\n",
       "      <td>0</td>\n",
       "      <td>0</td>\n",
       "      <td>0</td>\n",
       "      <td>0</td>\n",
       "      <td>0</td>\n",
       "      <td>0</td>\n",
       "      <td>0</td>\n",
       "      <td>0</td>\n",
       "      <td>0</td>\n",
       "      <td>0</td>\n",
       "      <td>0</td>\n",
       "    </tr>\n",
       "    <tr>\n",
       "      <td>University of Alabama at Birmingham</td>\n",
       "      <td>0</td>\n",
       "      <td>0</td>\n",
       "      <td>0</td>\n",
       "      <td>0</td>\n",
       "      <td>0</td>\n",
       "      <td>0</td>\n",
       "      <td>0</td>\n",
       "      <td>0</td>\n",
       "      <td>0</td>\n",
       "      <td>0</td>\n",
       "      <td>0</td>\n",
       "      <td>0</td>\n",
       "      <td>0</td>\n",
       "      <td>0</td>\n",
       "      <td>0</td>\n",
       "      <td>0</td>\n",
       "      <td>0</td>\n",
       "      <td>0</td>\n",
       "    </tr>\n",
       "    <tr>\n",
       "      <td>Amridge University</td>\n",
       "      <td>0</td>\n",
       "      <td>0</td>\n",
       "      <td>0</td>\n",
       "      <td>0</td>\n",
       "      <td>0</td>\n",
       "      <td>0</td>\n",
       "      <td>0</td>\n",
       "      <td>0</td>\n",
       "      <td>0</td>\n",
       "      <td>0</td>\n",
       "      <td>0</td>\n",
       "      <td>0</td>\n",
       "      <td>0</td>\n",
       "      <td>0</td>\n",
       "      <td>0</td>\n",
       "      <td>0</td>\n",
       "      <td>0</td>\n",
       "      <td>0</td>\n",
       "    </tr>\n",
       "    <tr>\n",
       "      <td>University of Alabama in Huntsville</td>\n",
       "      <td>0</td>\n",
       "      <td>0</td>\n",
       "      <td>0</td>\n",
       "      <td>0</td>\n",
       "      <td>0</td>\n",
       "      <td>0</td>\n",
       "      <td>0</td>\n",
       "      <td>0</td>\n",
       "      <td>0</td>\n",
       "      <td>0</td>\n",
       "      <td>0</td>\n",
       "      <td>0</td>\n",
       "      <td>0</td>\n",
       "      <td>0</td>\n",
       "      <td>0</td>\n",
       "      <td>0</td>\n",
       "      <td>0</td>\n",
       "      <td>0</td>\n",
       "    </tr>\n",
       "    <tr>\n",
       "      <td>Alabama State University</td>\n",
       "      <td>0</td>\n",
       "      <td>0</td>\n",
       "      <td>0</td>\n",
       "      <td>0</td>\n",
       "      <td>0</td>\n",
       "      <td>0</td>\n",
       "      <td>0</td>\n",
       "      <td>0</td>\n",
       "      <td>0</td>\n",
       "      <td>0</td>\n",
       "      <td>0</td>\n",
       "      <td>0</td>\n",
       "      <td>0</td>\n",
       "      <td>0</td>\n",
       "      <td>0</td>\n",
       "      <td>0</td>\n",
       "      <td>0</td>\n",
       "      <td>0</td>\n",
       "    </tr>\n",
       "    <tr>\n",
       "      <td>...</td>\n",
       "      <td>...</td>\n",
       "      <td>...</td>\n",
       "      <td>...</td>\n",
       "      <td>...</td>\n",
       "      <td>...</td>\n",
       "      <td>...</td>\n",
       "      <td>...</td>\n",
       "      <td>...</td>\n",
       "      <td>...</td>\n",
       "      <td>...</td>\n",
       "      <td>...</td>\n",
       "      <td>...</td>\n",
       "      <td>...</td>\n",
       "      <td>...</td>\n",
       "      <td>...</td>\n",
       "      <td>...</td>\n",
       "      <td>...</td>\n",
       "      <td>...</td>\n",
       "    </tr>\n",
       "    <tr>\n",
       "      <td>SAE Institute of Technology  San Francisco</td>\n",
       "      <td>1</td>\n",
       "      <td>1</td>\n",
       "      <td>1</td>\n",
       "      <td>109</td>\n",
       "      <td>28</td>\n",
       "      <td>136</td>\n",
       "      <td>1</td>\n",
       "      <td>2</td>\n",
       "      <td>1</td>\n",
       "      <td>1</td>\n",
       "      <td>1</td>\n",
       "      <td>1</td>\n",
       "      <td>44</td>\n",
       "      <td>66</td>\n",
       "      <td>55</td>\n",
       "      <td>12</td>\n",
       "      <td>1</td>\n",
       "      <td>2</td>\n",
       "    </tr>\n",
       "    <tr>\n",
       "      <td>Rasmussen College - Overland Park</td>\n",
       "      <td>1</td>\n",
       "      <td>1</td>\n",
       "      <td>1</td>\n",
       "      <td>109</td>\n",
       "      <td>28</td>\n",
       "      <td>136</td>\n",
       "      <td>1</td>\n",
       "      <td>2</td>\n",
       "      <td>1</td>\n",
       "      <td>1</td>\n",
       "      <td>1</td>\n",
       "      <td>1</td>\n",
       "      <td>44</td>\n",
       "      <td>66</td>\n",
       "      <td>55</td>\n",
       "      <td>12</td>\n",
       "      <td>1</td>\n",
       "      <td>2</td>\n",
       "    </tr>\n",
       "    <tr>\n",
       "      <td>National Personal Training Institute of Cleveland</td>\n",
       "      <td>1</td>\n",
       "      <td>1</td>\n",
       "      <td>1</td>\n",
       "      <td>109</td>\n",
       "      <td>28</td>\n",
       "      <td>136</td>\n",
       "      <td>1</td>\n",
       "      <td>2</td>\n",
       "      <td>1</td>\n",
       "      <td>1</td>\n",
       "      <td>1</td>\n",
       "      <td>1</td>\n",
       "      <td>44</td>\n",
       "      <td>66</td>\n",
       "      <td>55</td>\n",
       "      <td>12</td>\n",
       "      <td>1</td>\n",
       "      <td>2</td>\n",
       "    </tr>\n",
       "    <tr>\n",
       "      <td>Bay Area Medical Academy - San Jose Satellite Location</td>\n",
       "      <td>1</td>\n",
       "      <td>1</td>\n",
       "      <td>1</td>\n",
       "      <td>109</td>\n",
       "      <td>28</td>\n",
       "      <td>136</td>\n",
       "      <td>1</td>\n",
       "      <td>2</td>\n",
       "      <td>1</td>\n",
       "      <td>1</td>\n",
       "      <td>1</td>\n",
       "      <td>1</td>\n",
       "      <td>44</td>\n",
       "      <td>66</td>\n",
       "      <td>55</td>\n",
       "      <td>12</td>\n",
       "      <td>1</td>\n",
       "      <td>2</td>\n",
       "    </tr>\n",
       "    <tr>\n",
       "      <td>Excel Learning Center-San Antonio South</td>\n",
       "      <td>1</td>\n",
       "      <td>1</td>\n",
       "      <td>1</td>\n",
       "      <td>109</td>\n",
       "      <td>28</td>\n",
       "      <td>136</td>\n",
       "      <td>1</td>\n",
       "      <td>2</td>\n",
       "      <td>1</td>\n",
       "      <td>1</td>\n",
       "      <td>1</td>\n",
       "      <td>1</td>\n",
       "      <td>44</td>\n",
       "      <td>66</td>\n",
       "      <td>55</td>\n",
       "      <td>12</td>\n",
       "      <td>1</td>\n",
       "      <td>2</td>\n",
       "    </tr>\n",
       "  </tbody>\n",
       "</table>\n",
       "<p>7535 rows × 18 columns</p>\n",
       "</div>"
      ],
      "text/plain": [
       "                                                    SATVRMID  SATMTMID  UGDS  \\\n",
       "INSTNM                                                                         \n",
       "Alabama A & M University                                   0         0     0   \n",
       "University of Alabama at Birmingham                        0         0     0   \n",
       "Amridge University                                         0         0     0   \n",
       "University of Alabama in Huntsville                        0         0     0   \n",
       "Alabama State University                                   0         0     0   \n",
       "...                                                      ...       ...   ...   \n",
       "SAE Institute of Technology  San Francisco                 1         1     1   \n",
       "Rasmussen College - Overland Park                          1         1     1   \n",
       "National Personal Training Institute of Cleveland          1         1     1   \n",
       "Bay Area Medical Academy - San Jose Satellite L...         1         1     1   \n",
       "Excel Learning Center-San Antonio South                    1         1     1   \n",
       "\n",
       "                                                    UGDS_WHITE  UGDS_BLACK  \\\n",
       "INSTNM                                                                       \n",
       "Alabama A & M University                                     0           0   \n",
       "University of Alabama at Birmingham                          0           0   \n",
       "Amridge University                                           0           0   \n",
       "University of Alabama in Huntsville                          0           0   \n",
       "Alabama State University                                     0           0   \n",
       "...                                                        ...         ...   \n",
       "SAE Institute of Technology  San Francisco                 109          28   \n",
       "Rasmussen College - Overland Park                          109          28   \n",
       "National Personal Training Institute of Cleveland          109          28   \n",
       "Bay Area Medical Academy - San Jose Satellite L...         109          28   \n",
       "Excel Learning Center-San Antonio South                    109          28   \n",
       "\n",
       "                                                    UGDS_HISP  UGDS_ASIAN  \\\n",
       "INSTNM                                                                      \n",
       "Alabama A & M University                                    0           0   \n",
       "University of Alabama at Birmingham                         0           0   \n",
       "Amridge University                                          0           0   \n",
       "University of Alabama in Huntsville                         0           0   \n",
       "Alabama State University                                    0           0   \n",
       "...                                                       ...         ...   \n",
       "SAE Institute of Technology  San Francisco                136           1   \n",
       "Rasmussen College - Overland Park                         136           1   \n",
       "National Personal Training Institute of Cleveland         136           1   \n",
       "Bay Area Medical Academy - San Jose Satellite L...        136           1   \n",
       "Excel Learning Center-San Antonio South                   136           1   \n",
       "\n",
       "                                                    UGDS_AIAN  UGDS_NHPI  \\\n",
       "INSTNM                                                                     \n",
       "Alabama A & M University                                    0          0   \n",
       "University of Alabama at Birmingham                         0          0   \n",
       "Amridge University                                          0          0   \n",
       "University of Alabama in Huntsville                         0          0   \n",
       "Alabama State University                                    0          0   \n",
       "...                                                       ...        ...   \n",
       "SAE Institute of Technology  San Francisco                  2          1   \n",
       "Rasmussen College - Overland Park                           2          1   \n",
       "National Personal Training Institute of Cleveland           2          1   \n",
       "Bay Area Medical Academy - San Jose Satellite L...          2          1   \n",
       "Excel Learning Center-San Antonio South                     2          1   \n",
       "\n",
       "                                                    UGDS_2MOR  UGDS_NRA  \\\n",
       "INSTNM                                                                    \n",
       "Alabama A & M University                                    0         0   \n",
       "University of Alabama at Birmingham                         0         0   \n",
       "Amridge University                                          0         0   \n",
       "University of Alabama in Huntsville                         0         0   \n",
       "Alabama State University                                    0         0   \n",
       "...                                                       ...       ...   \n",
       "SAE Institute of Technology  San Francisco                  1         1   \n",
       "Rasmussen College - Overland Park                           1         1   \n",
       "National Personal Training Institute of Cleveland           1         1   \n",
       "Bay Area Medical Academy - San Jose Satellite L...          1         1   \n",
       "Excel Learning Center-San Antonio South                     1         1   \n",
       "\n",
       "                                                    UGDS_UNKN  PPTUG_EF  \\\n",
       "INSTNM                                                                    \n",
       "Alabama A & M University                                    0         0   \n",
       "University of Alabama at Birmingham                         0         0   \n",
       "Amridge University                                          0         0   \n",
       "University of Alabama in Huntsville                         0         0   \n",
       "Alabama State University                                    0         0   \n",
       "...                                                       ...       ...   \n",
       "SAE Institute of Technology  San Francisco                  1        44   \n",
       "Rasmussen College - Overland Park                           1        44   \n",
       "National Personal Training Institute of Cleveland           1        44   \n",
       "Bay Area Medical Academy - San Jose Satellite L...          1        44   \n",
       "Excel Learning Center-San Antonio South                     1        44   \n",
       "\n",
       "                                                    PCTPELL  PCTFLOAN  \\\n",
       "INSTNM                                                                  \n",
       "Alabama A & M University                                  0         0   \n",
       "University of Alabama at Birmingham                       0         0   \n",
       "Amridge University                                        0         0   \n",
       "University of Alabama in Huntsville                       0         0   \n",
       "Alabama State University                                  0         0   \n",
       "...                                                     ...       ...   \n",
       "SAE Institute of Technology  San Francisco               66        55   \n",
       "Rasmussen College - Overland Park                        66        55   \n",
       "National Personal Training Institute of Cleveland        66        55   \n",
       "Bay Area Medical Academy - San Jose Satellite L...       66        55   \n",
       "Excel Learning Center-San Antonio South                  66        55   \n",
       "\n",
       "                                                    UG25ABV  MD_EARN_WNE_P10  \\\n",
       "INSTNM                                                                         \n",
       "Alabama A & M University                                  0                0   \n",
       "University of Alabama at Birmingham                       0                0   \n",
       "Amridge University                                        0                0   \n",
       "University of Alabama in Huntsville                       0                0   \n",
       "Alabama State University                                  0                0   \n",
       "...                                                     ...              ...   \n",
       "SAE Institute of Technology  San Francisco               12                1   \n",
       "Rasmussen College - Overland Park                        12                1   \n",
       "National Personal Training Institute of Cleveland        12                1   \n",
       "Bay Area Medical Academy - San Jose Satellite L...       12                1   \n",
       "Excel Learning Center-San Antonio South                  12                1   \n",
       "\n",
       "                                                    GRAD_DEBT_MDN_SUPP  \n",
       "INSTNM                                                                  \n",
       "Alabama A & M University                                             0  \n",
       "University of Alabama at Birmingham                                  0  \n",
       "Amridge University                                                   0  \n",
       "University of Alabama in Huntsville                                  0  \n",
       "Alabama State University                                             0  \n",
       "...                                                                ...  \n",
       "SAE Institute of Technology  San Francisco                           2  \n",
       "Rasmussen College - Overland Park                                    2  \n",
       "National Personal Training Institute of Cleveland                    2  \n",
       "Bay Area Medical Academy - San Jose Satellite L...                   2  \n",
       "Excel Learning Center-San Antonio South                              2  \n",
       "\n",
       "[7535 rows x 18 columns]"
      ]
     },
     "execution_count": 87,
     "metadata": {},
     "output_type": "execute_result"
    }
   ],
   "source": [
    "# 6.7.6 최초로 각 컬럼의 최대값이 나타나는 행을 선별하기 위해 이중 누적합(.cumsum)을 수행할 것이다. \n",
    "#      우선 .cumsum() 을 한 번 적용해보자. \n",
    "#      한 번 True 가 나타나고 False가 이어지면, 동일하게 1이라는 값을 갖는다. \n",
    "college_n.eq(college_n.max()).cumsum()"
   ]
  },
  {
   "cell_type": "code",
   "execution_count": 88,
   "metadata": {
    "scrolled": false
   },
   "outputs": [
    {
     "data": {
      "text/html": [
       "<div>\n",
       "<style scoped>\n",
       "    .dataframe tbody tr th:only-of-type {\n",
       "        vertical-align: middle;\n",
       "    }\n",
       "\n",
       "    .dataframe tbody tr th {\n",
       "        vertical-align: top;\n",
       "    }\n",
       "\n",
       "    .dataframe thead th {\n",
       "        text-align: right;\n",
       "    }\n",
       "</style>\n",
       "<table border=\"1\" class=\"dataframe\">\n",
       "  <thead>\n",
       "    <tr style=\"text-align: right;\">\n",
       "      <th></th>\n",
       "      <th>SATVRMID</th>\n",
       "      <th>SATMTMID</th>\n",
       "      <th>UGDS</th>\n",
       "      <th>UGDS_WHITE</th>\n",
       "      <th>UGDS_BLACK</th>\n",
       "      <th>UGDS_HISP</th>\n",
       "      <th>UGDS_ASIAN</th>\n",
       "      <th>UGDS_AIAN</th>\n",
       "      <th>UGDS_NHPI</th>\n",
       "      <th>UGDS_2MOR</th>\n",
       "      <th>UGDS_NRA</th>\n",
       "      <th>UGDS_UNKN</th>\n",
       "      <th>PPTUG_EF</th>\n",
       "      <th>PCTPELL</th>\n",
       "      <th>PCTFLOAN</th>\n",
       "      <th>UG25ABV</th>\n",
       "      <th>MD_EARN_WNE_P10</th>\n",
       "      <th>GRAD_DEBT_MDN_SUPP</th>\n",
       "    </tr>\n",
       "    <tr>\n",
       "      <th>INSTNM</th>\n",
       "      <th></th>\n",
       "      <th></th>\n",
       "      <th></th>\n",
       "      <th></th>\n",
       "      <th></th>\n",
       "      <th></th>\n",
       "      <th></th>\n",
       "      <th></th>\n",
       "      <th></th>\n",
       "      <th></th>\n",
       "      <th></th>\n",
       "      <th></th>\n",
       "      <th></th>\n",
       "      <th></th>\n",
       "      <th></th>\n",
       "      <th></th>\n",
       "      <th></th>\n",
       "      <th></th>\n",
       "    </tr>\n",
       "  </thead>\n",
       "  <tbody>\n",
       "    <tr>\n",
       "      <td>Alabama A &amp; M University</td>\n",
       "      <td>0</td>\n",
       "      <td>0</td>\n",
       "      <td>0</td>\n",
       "      <td>0</td>\n",
       "      <td>0</td>\n",
       "      <td>0</td>\n",
       "      <td>0</td>\n",
       "      <td>0</td>\n",
       "      <td>0</td>\n",
       "      <td>0</td>\n",
       "      <td>0</td>\n",
       "      <td>0</td>\n",
       "      <td>0</td>\n",
       "      <td>0</td>\n",
       "      <td>0</td>\n",
       "      <td>0</td>\n",
       "      <td>0</td>\n",
       "      <td>0</td>\n",
       "    </tr>\n",
       "    <tr>\n",
       "      <td>University of Alabama at Birmingham</td>\n",
       "      <td>0</td>\n",
       "      <td>0</td>\n",
       "      <td>0</td>\n",
       "      <td>0</td>\n",
       "      <td>0</td>\n",
       "      <td>0</td>\n",
       "      <td>0</td>\n",
       "      <td>0</td>\n",
       "      <td>0</td>\n",
       "      <td>0</td>\n",
       "      <td>0</td>\n",
       "      <td>0</td>\n",
       "      <td>0</td>\n",
       "      <td>0</td>\n",
       "      <td>0</td>\n",
       "      <td>0</td>\n",
       "      <td>0</td>\n",
       "      <td>0</td>\n",
       "    </tr>\n",
       "    <tr>\n",
       "      <td>Amridge University</td>\n",
       "      <td>0</td>\n",
       "      <td>0</td>\n",
       "      <td>0</td>\n",
       "      <td>0</td>\n",
       "      <td>0</td>\n",
       "      <td>0</td>\n",
       "      <td>0</td>\n",
       "      <td>0</td>\n",
       "      <td>0</td>\n",
       "      <td>0</td>\n",
       "      <td>0</td>\n",
       "      <td>0</td>\n",
       "      <td>0</td>\n",
       "      <td>0</td>\n",
       "      <td>0</td>\n",
       "      <td>0</td>\n",
       "      <td>0</td>\n",
       "      <td>0</td>\n",
       "    </tr>\n",
       "    <tr>\n",
       "      <td>University of Alabama in Huntsville</td>\n",
       "      <td>0</td>\n",
       "      <td>0</td>\n",
       "      <td>0</td>\n",
       "      <td>0</td>\n",
       "      <td>0</td>\n",
       "      <td>0</td>\n",
       "      <td>0</td>\n",
       "      <td>0</td>\n",
       "      <td>0</td>\n",
       "      <td>0</td>\n",
       "      <td>0</td>\n",
       "      <td>0</td>\n",
       "      <td>0</td>\n",
       "      <td>0</td>\n",
       "      <td>0</td>\n",
       "      <td>0</td>\n",
       "      <td>0</td>\n",
       "      <td>0</td>\n",
       "    </tr>\n",
       "    <tr>\n",
       "      <td>Alabama State University</td>\n",
       "      <td>0</td>\n",
       "      <td>0</td>\n",
       "      <td>0</td>\n",
       "      <td>0</td>\n",
       "      <td>0</td>\n",
       "      <td>0</td>\n",
       "      <td>0</td>\n",
       "      <td>0</td>\n",
       "      <td>0</td>\n",
       "      <td>0</td>\n",
       "      <td>0</td>\n",
       "      <td>0</td>\n",
       "      <td>0</td>\n",
       "      <td>0</td>\n",
       "      <td>0</td>\n",
       "      <td>0</td>\n",
       "      <td>0</td>\n",
       "      <td>0</td>\n",
       "    </tr>\n",
       "    <tr>\n",
       "      <td>...</td>\n",
       "      <td>...</td>\n",
       "      <td>...</td>\n",
       "      <td>...</td>\n",
       "      <td>...</td>\n",
       "      <td>...</td>\n",
       "      <td>...</td>\n",
       "      <td>...</td>\n",
       "      <td>...</td>\n",
       "      <td>...</td>\n",
       "      <td>...</td>\n",
       "      <td>...</td>\n",
       "      <td>...</td>\n",
       "      <td>...</td>\n",
       "      <td>...</td>\n",
       "      <td>...</td>\n",
       "      <td>...</td>\n",
       "      <td>...</td>\n",
       "      <td>...</td>\n",
       "    </tr>\n",
       "    <tr>\n",
       "      <td>SAE Institute of Technology  San Francisco</td>\n",
       "      <td>7305</td>\n",
       "      <td>7305</td>\n",
       "      <td>415</td>\n",
       "      <td>379750</td>\n",
       "      <td>73107</td>\n",
       "      <td>341103</td>\n",
       "      <td>983</td>\n",
       "      <td>11382</td>\n",
       "      <td>3316</td>\n",
       "      <td>5056</td>\n",
       "      <td>1076</td>\n",
       "      <td>7276</td>\n",
       "      <td>113649</td>\n",
       "      <td>172944</td>\n",
       "      <td>170273</td>\n",
       "      <td>36183</td>\n",
       "      <td>3445</td>\n",
       "      <td>10266</td>\n",
       "    </tr>\n",
       "    <tr>\n",
       "      <td>Rasmussen College - Overland Park</td>\n",
       "      <td>7306</td>\n",
       "      <td>7306</td>\n",
       "      <td>416</td>\n",
       "      <td>379859</td>\n",
       "      <td>73135</td>\n",
       "      <td>341239</td>\n",
       "      <td>984</td>\n",
       "      <td>11384</td>\n",
       "      <td>3317</td>\n",
       "      <td>5057</td>\n",
       "      <td>1077</td>\n",
       "      <td>7277</td>\n",
       "      <td>113693</td>\n",
       "      <td>173010</td>\n",
       "      <td>170328</td>\n",
       "      <td>36195</td>\n",
       "      <td>3446</td>\n",
       "      <td>10268</td>\n",
       "    </tr>\n",
       "    <tr>\n",
       "      <td>National Personal Training Institute of Cleveland</td>\n",
       "      <td>7307</td>\n",
       "      <td>7307</td>\n",
       "      <td>417</td>\n",
       "      <td>379968</td>\n",
       "      <td>73163</td>\n",
       "      <td>341375</td>\n",
       "      <td>985</td>\n",
       "      <td>11386</td>\n",
       "      <td>3318</td>\n",
       "      <td>5058</td>\n",
       "      <td>1078</td>\n",
       "      <td>7278</td>\n",
       "      <td>113737</td>\n",
       "      <td>173076</td>\n",
       "      <td>170383</td>\n",
       "      <td>36207</td>\n",
       "      <td>3447</td>\n",
       "      <td>10270</td>\n",
       "    </tr>\n",
       "    <tr>\n",
       "      <td>Bay Area Medical Academy - San Jose Satellite Location</td>\n",
       "      <td>7308</td>\n",
       "      <td>7308</td>\n",
       "      <td>418</td>\n",
       "      <td>380077</td>\n",
       "      <td>73191</td>\n",
       "      <td>341511</td>\n",
       "      <td>986</td>\n",
       "      <td>11388</td>\n",
       "      <td>3319</td>\n",
       "      <td>5059</td>\n",
       "      <td>1079</td>\n",
       "      <td>7279</td>\n",
       "      <td>113781</td>\n",
       "      <td>173142</td>\n",
       "      <td>170438</td>\n",
       "      <td>36219</td>\n",
       "      <td>3448</td>\n",
       "      <td>10272</td>\n",
       "    </tr>\n",
       "    <tr>\n",
       "      <td>Excel Learning Center-San Antonio South</td>\n",
       "      <td>7309</td>\n",
       "      <td>7309</td>\n",
       "      <td>419</td>\n",
       "      <td>380186</td>\n",
       "      <td>73219</td>\n",
       "      <td>341647</td>\n",
       "      <td>987</td>\n",
       "      <td>11390</td>\n",
       "      <td>3320</td>\n",
       "      <td>5060</td>\n",
       "      <td>1080</td>\n",
       "      <td>7280</td>\n",
       "      <td>113825</td>\n",
       "      <td>173208</td>\n",
       "      <td>170493</td>\n",
       "      <td>36231</td>\n",
       "      <td>3449</td>\n",
       "      <td>10274</td>\n",
       "    </tr>\n",
       "  </tbody>\n",
       "</table>\n",
       "<p>7535 rows × 18 columns</p>\n",
       "</div>"
      ],
      "text/plain": [
       "                                                    SATVRMID  SATMTMID  UGDS  \\\n",
       "INSTNM                                                                         \n",
       "Alabama A & M University                                   0         0     0   \n",
       "University of Alabama at Birmingham                        0         0     0   \n",
       "Amridge University                                         0         0     0   \n",
       "University of Alabama in Huntsville                        0         0     0   \n",
       "Alabama State University                                   0         0     0   \n",
       "...                                                      ...       ...   ...   \n",
       "SAE Institute of Technology  San Francisco              7305      7305   415   \n",
       "Rasmussen College - Overland Park                       7306      7306   416   \n",
       "National Personal Training Institute of Cleveland       7307      7307   417   \n",
       "Bay Area Medical Academy - San Jose Satellite L...      7308      7308   418   \n",
       "Excel Learning Center-San Antonio South                 7309      7309   419   \n",
       "\n",
       "                                                    UGDS_WHITE  UGDS_BLACK  \\\n",
       "INSTNM                                                                       \n",
       "Alabama A & M University                                     0           0   \n",
       "University of Alabama at Birmingham                          0           0   \n",
       "Amridge University                                           0           0   \n",
       "University of Alabama in Huntsville                          0           0   \n",
       "Alabama State University                                     0           0   \n",
       "...                                                        ...         ...   \n",
       "SAE Institute of Technology  San Francisco              379750       73107   \n",
       "Rasmussen College - Overland Park                       379859       73135   \n",
       "National Personal Training Institute of Cleveland       379968       73163   \n",
       "Bay Area Medical Academy - San Jose Satellite L...      380077       73191   \n",
       "Excel Learning Center-San Antonio South                 380186       73219   \n",
       "\n",
       "                                                    UGDS_HISP  UGDS_ASIAN  \\\n",
       "INSTNM                                                                      \n",
       "Alabama A & M University                                    0           0   \n",
       "University of Alabama at Birmingham                         0           0   \n",
       "Amridge University                                          0           0   \n",
       "University of Alabama in Huntsville                         0           0   \n",
       "Alabama State University                                    0           0   \n",
       "...                                                       ...         ...   \n",
       "SAE Institute of Technology  San Francisco             341103         983   \n",
       "Rasmussen College - Overland Park                      341239         984   \n",
       "National Personal Training Institute of Cleveland      341375         985   \n",
       "Bay Area Medical Academy - San Jose Satellite L...     341511         986   \n",
       "Excel Learning Center-San Antonio South                341647         987   \n",
       "\n",
       "                                                    UGDS_AIAN  UGDS_NHPI  \\\n",
       "INSTNM                                                                     \n",
       "Alabama A & M University                                    0          0   \n",
       "University of Alabama at Birmingham                         0          0   \n",
       "Amridge University                                          0          0   \n",
       "University of Alabama in Huntsville                         0          0   \n",
       "Alabama State University                                    0          0   \n",
       "...                                                       ...        ...   \n",
       "SAE Institute of Technology  San Francisco              11382       3316   \n",
       "Rasmussen College - Overland Park                       11384       3317   \n",
       "National Personal Training Institute of Cleveland       11386       3318   \n",
       "Bay Area Medical Academy - San Jose Satellite L...      11388       3319   \n",
       "Excel Learning Center-San Antonio South                 11390       3320   \n",
       "\n",
       "                                                    UGDS_2MOR  UGDS_NRA  \\\n",
       "INSTNM                                                                    \n",
       "Alabama A & M University                                    0         0   \n",
       "University of Alabama at Birmingham                         0         0   \n",
       "Amridge University                                          0         0   \n",
       "University of Alabama in Huntsville                         0         0   \n",
       "Alabama State University                                    0         0   \n",
       "...                                                       ...       ...   \n",
       "SAE Institute of Technology  San Francisco               5056      1076   \n",
       "Rasmussen College - Overland Park                        5057      1077   \n",
       "National Personal Training Institute of Cleveland        5058      1078   \n",
       "Bay Area Medical Academy - San Jose Satellite L...       5059      1079   \n",
       "Excel Learning Center-San Antonio South                  5060      1080   \n",
       "\n",
       "                                                    UGDS_UNKN  PPTUG_EF  \\\n",
       "INSTNM                                                                    \n",
       "Alabama A & M University                                    0         0   \n",
       "University of Alabama at Birmingham                         0         0   \n",
       "Amridge University                                          0         0   \n",
       "University of Alabama in Huntsville                         0         0   \n",
       "Alabama State University                                    0         0   \n",
       "...                                                       ...       ...   \n",
       "SAE Institute of Technology  San Francisco               7276    113649   \n",
       "Rasmussen College - Overland Park                        7277    113693   \n",
       "National Personal Training Institute of Cleveland        7278    113737   \n",
       "Bay Area Medical Academy - San Jose Satellite L...       7279    113781   \n",
       "Excel Learning Center-San Antonio South                  7280    113825   \n",
       "\n",
       "                                                    PCTPELL  PCTFLOAN  \\\n",
       "INSTNM                                                                  \n",
       "Alabama A & M University                                  0         0   \n",
       "University of Alabama at Birmingham                       0         0   \n",
       "Amridge University                                        0         0   \n",
       "University of Alabama in Huntsville                       0         0   \n",
       "Alabama State University                                  0         0   \n",
       "...                                                     ...       ...   \n",
       "SAE Institute of Technology  San Francisco           172944    170273   \n",
       "Rasmussen College - Overland Park                    173010    170328   \n",
       "National Personal Training Institute of Cleveland    173076    170383   \n",
       "Bay Area Medical Academy - San Jose Satellite L...   173142    170438   \n",
       "Excel Learning Center-San Antonio South              173208    170493   \n",
       "\n",
       "                                                    UG25ABV  MD_EARN_WNE_P10  \\\n",
       "INSTNM                                                                         \n",
       "Alabama A & M University                                  0                0   \n",
       "University of Alabama at Birmingham                       0                0   \n",
       "Amridge University                                        0                0   \n",
       "University of Alabama in Huntsville                       0                0   \n",
       "Alabama State University                                  0                0   \n",
       "...                                                     ...              ...   \n",
       "SAE Institute of Technology  San Francisco            36183             3445   \n",
       "Rasmussen College - Overland Park                     36195             3446   \n",
       "National Personal Training Institute of Cleveland     36207             3447   \n",
       "Bay Area Medical Academy - San Jose Satellite L...    36219             3448   \n",
       "Excel Learning Center-San Antonio South               36231             3449   \n",
       "\n",
       "                                                    GRAD_DEBT_MDN_SUPP  \n",
       "INSTNM                                                                  \n",
       "Alabama A & M University                                             0  \n",
       "University of Alabama at Birmingham                                  0  \n",
       "Amridge University                                                   0  \n",
       "University of Alabama in Huntsville                                  0  \n",
       "Alabama State University                                             0  \n",
       "...                                                                ...  \n",
       "SAE Institute of Technology  San Francisco                       10266  \n",
       "Rasmussen College - Overland Park                                10268  \n",
       "National Personal Training Institute of Cleveland                10270  \n",
       "Bay Area Medical Academy - San Jose Satellite L...               10272  \n",
       "Excel Learning Center-San Antonio South                          10274  \n",
       "\n",
       "[7535 rows x 18 columns]"
      ]
     },
     "execution_count": 88,
     "metadata": {},
     "output_type": "execute_result"
    }
   ],
   "source": [
    "# 6.7.7 .cumsum().cumsum()으로 두 번 적용하면, 각 컬럼별로 1은 단 한 번만 나타난다. \n",
    "college_n.eq(college_n.max()).cumsum().cumsum()"
   ]
  },
  {
   "cell_type": "code",
   "execution_count": 89,
   "metadata": {
    "scrolled": true
   },
   "outputs": [
    {
     "data": {
      "text/plain": [
       "INSTNM\n",
       "Alabama A & M University               False\n",
       "University of Alabama at Birmingham    False\n",
       "Amridge University                     False\n",
       "University of Alabama in Huntsville    False\n",
       "Alabama State University               False\n",
       "dtype: bool"
      ]
     },
     "execution_count": 89,
     "metadata": {},
     "output_type": "execute_result"
    }
   ],
   "source": [
    "# 6.7.8 이중 누적합을 통과한 값에 대해서 하나라도 1이 있는 행을 선별하여 최대값을 포함한\n",
    "#      최초의 행을 추출한다. \n",
    "has_row_max2 = college_n.eq(college_n.max()).cumsum().cumsum()\\\n",
    "        .eq(1).any(axis = 'columns')\n",
    "has_row_max2.head()"
   ]
  },
  {
   "cell_type": "code",
   "execution_count": 90,
   "metadata": {},
   "outputs": [
    {
     "data": {
      "text/plain": [
       "16"
      ]
     },
     "execution_count": 90,
     "metadata": {},
     "output_type": "execute_result"
    }
   ],
   "source": [
    "# 6.7.9 has_row_max2 에서 True의 개수는 컬럼수인 18개 보다 작다. \n",
    "has_row_max2.sum()  # True의 개수를 구한다. "
   ]
  },
  {
   "cell_type": "code",
   "execution_count": 91,
   "metadata": {},
   "outputs": [
    {
     "data": {
      "text/plain": [
       "Index(['Thunderbird School of Global Management',\n",
       "       'Southwest University of Visual Arts-Tucson', 'ABC Beauty College Inc',\n",
       "       'Velvatex College of Beauty Culture',\n",
       "       'California Institute of Technology',\n",
       "       'Le Cordon Bleu College of Culinary Arts-San Francisco',\n",
       "       'MTI Business College Inc', 'Dongguk University-Los Angeles',\n",
       "       'Mr Leon's School of Hair Design-Moscow',\n",
       "       'Haskell Indian Nations University', 'LIU Brentwood',\n",
       "       'Medical College of Wisconsin', 'Palau Community College',\n",
       "       'California University of Management and Sciences',\n",
       "       'Cosmopolitan Beauty and Tech School', 'University of Phoenix-Arizona'],\n",
       "      dtype='object', name='INSTNM')"
      ]
     },
     "execution_count": 91,
     "metadata": {},
     "output_type": "execute_result"
    }
   ],
   "source": [
    "# 6.7.10  True인 행 인덱스만 남기기 위해서 자기 자신을 boolean index로 넘겨서 filter하고 \n",
    "#        그 Series의 index를 갖는다. \n",
    "idxmax_cols = has_row_max2[has_row_max2].index\n",
    "idxmax_cols"
   ]
  },
  {
   "cell_type": "code",
   "execution_count": 92,
   "metadata": {},
   "outputs": [
    {
     "data": {
      "text/plain": [
       "True"
      ]
     },
     "execution_count": 92,
     "metadata": {},
     "output_type": "execute_result"
    }
   ],
   "source": [
    "# 6.7.11 idxmax를 통해 구한 행 인덱스와 동일한 결과가 나온 것을 확인한다. \n",
    "set (college_n.idxmax().unique())== set (idxmax_cols)"
   ]
  },
  {
   "cell_type": "markdown",
   "metadata": {},
   "source": [
    "## >> There's more 6.7"
   ]
  },
  {
   "cell_type": "code",
   "execution_count": 93,
   "metadata": {},
   "outputs": [
    {
     "name": "stdout",
     "output_type": "stream",
     "text": [
      "4.54 ms ± 823 µs per loop (mean ± std. dev. of 7 runs, 100 loops each)\n"
     ]
    }
   ],
   "source": [
    "# .idxmax()와 이중 누적합을 통해 수작업으로 구성한 최대값 찾기 기법은 \n",
    "#  성능에서 5배 이상 차이가 난다. \n",
    "#   그럼에도 불구 하고 종종 .cumsum() 등은 내가 원하는 데이터 값을 찾기 위해, 유용하게 활용된다. \n",
    "\n",
    "%timeit college_n.idxmax().values"
   ]
  },
  {
   "cell_type": "code",
   "execution_count": 94,
   "metadata": {},
   "outputs": [
    {
     "name": "stdout",
     "output_type": "stream",
     "text": [
      "46.4 ms ± 9.15 ms per loop (mean ± std. dev. of 7 runs, 10 loops each)\n"
     ]
    }
   ],
   "source": [
    "%timeit college_n.eq(college_n.max())\\\n",
    "                .cumsum()\\\n",
    "                .cumsum()\\\n",
    "                .eq(1)\\\n",
    "                .any(axis = 'columns')\\\n",
    "                [lambda x: x].index"
   ]
  },
  {
   "cell_type": "markdown",
   "metadata": {},
   "source": [
    "# 6.8 Finding the most common maximum"
   ]
  },
  {
   "cell_type": "code",
   "execution_count": 95,
   "metadata": {},
   "outputs": [],
   "source": [
    "### [Tech] 컬럼별로 동일한 척도를 갖는 경우, 컬럼 방향으로 비교, idxmax()가 의미가 있다.\n",
    "###         axis 옵션을 조정한다. \n",
    "### [Goal] 백인의 비율이 가장 많은 학교는 몇 % 인지 구해본다.  UGDS_ 로 시작하는 컬럼들이 \n",
    "###       인종의 비율이라는 동일한 척도로 구성되어 있어, 열 방향으로의 비교가 의미를 갖는다. "
   ]
  },
  {
   "cell_type": "markdown",
   "metadata": {},
   "source": [
    "## >> How it works..."
   ]
  },
  {
   "cell_type": "code",
   "execution_count": 96,
   "metadata": {},
   "outputs": [
    {
     "data": {
      "text/html": [
       "<div>\n",
       "<style scoped>\n",
       "    .dataframe tbody tr th:only-of-type {\n",
       "        vertical-align: middle;\n",
       "    }\n",
       "\n",
       "    .dataframe tbody tr th {\n",
       "        vertical-align: top;\n",
       "    }\n",
       "\n",
       "    .dataframe thead th {\n",
       "        text-align: right;\n",
       "    }\n",
       "</style>\n",
       "<table border=\"1\" class=\"dataframe\">\n",
       "  <thead>\n",
       "    <tr style=\"text-align: right;\">\n",
       "      <th></th>\n",
       "      <th>UGDS_WHITE</th>\n",
       "      <th>UGDS_BLACK</th>\n",
       "      <th>UGDS_HISP</th>\n",
       "      <th>UGDS_ASIAN</th>\n",
       "      <th>UGDS_AIAN</th>\n",
       "      <th>UGDS_NHPI</th>\n",
       "      <th>UGDS_2MOR</th>\n",
       "      <th>UGDS_NRA</th>\n",
       "      <th>UGDS_UNKN</th>\n",
       "    </tr>\n",
       "    <tr>\n",
       "      <th>INSTNM</th>\n",
       "      <th></th>\n",
       "      <th></th>\n",
       "      <th></th>\n",
       "      <th></th>\n",
       "      <th></th>\n",
       "      <th></th>\n",
       "      <th></th>\n",
       "      <th></th>\n",
       "      <th></th>\n",
       "    </tr>\n",
       "  </thead>\n",
       "  <tbody>\n",
       "    <tr>\n",
       "      <td>Alabama A &amp; M University</td>\n",
       "      <td>0.0333</td>\n",
       "      <td>0.9353</td>\n",
       "      <td>0.0055</td>\n",
       "      <td>0.0019</td>\n",
       "      <td>0.0024</td>\n",
       "      <td>0.0019</td>\n",
       "      <td>0.0000</td>\n",
       "      <td>0.0059</td>\n",
       "      <td>0.0138</td>\n",
       "    </tr>\n",
       "    <tr>\n",
       "      <td>University of Alabama at Birmingham</td>\n",
       "      <td>0.5922</td>\n",
       "      <td>0.2600</td>\n",
       "      <td>0.0283</td>\n",
       "      <td>0.0518</td>\n",
       "      <td>0.0022</td>\n",
       "      <td>0.0007</td>\n",
       "      <td>0.0368</td>\n",
       "      <td>0.0179</td>\n",
       "      <td>0.0100</td>\n",
       "    </tr>\n",
       "    <tr>\n",
       "      <td>Amridge University</td>\n",
       "      <td>0.2990</td>\n",
       "      <td>0.4192</td>\n",
       "      <td>0.0069</td>\n",
       "      <td>0.0034</td>\n",
       "      <td>0.0000</td>\n",
       "      <td>0.0000</td>\n",
       "      <td>0.0000</td>\n",
       "      <td>0.0000</td>\n",
       "      <td>0.2715</td>\n",
       "    </tr>\n",
       "    <tr>\n",
       "      <td>University of Alabama in Huntsville</td>\n",
       "      <td>0.6988</td>\n",
       "      <td>0.1255</td>\n",
       "      <td>0.0382</td>\n",
       "      <td>0.0376</td>\n",
       "      <td>0.0143</td>\n",
       "      <td>0.0002</td>\n",
       "      <td>0.0172</td>\n",
       "      <td>0.0332</td>\n",
       "      <td>0.0350</td>\n",
       "    </tr>\n",
       "    <tr>\n",
       "      <td>Alabama State University</td>\n",
       "      <td>0.0158</td>\n",
       "      <td>0.9208</td>\n",
       "      <td>0.0121</td>\n",
       "      <td>0.0019</td>\n",
       "      <td>0.0010</td>\n",
       "      <td>0.0006</td>\n",
       "      <td>0.0098</td>\n",
       "      <td>0.0243</td>\n",
       "      <td>0.0137</td>\n",
       "    </tr>\n",
       "  </tbody>\n",
       "</table>\n",
       "</div>"
      ],
      "text/plain": [
       "                                     UGDS_WHITE  UGDS_BLACK  UGDS_HISP  \\\n",
       "INSTNM                                                                   \n",
       "Alabama A & M University                 0.0333      0.9353     0.0055   \n",
       "University of Alabama at Birmingham      0.5922      0.2600     0.0283   \n",
       "Amridge University                       0.2990      0.4192     0.0069   \n",
       "University of Alabama in Huntsville      0.6988      0.1255     0.0382   \n",
       "Alabama State University                 0.0158      0.9208     0.0121   \n",
       "\n",
       "                                     UGDS_ASIAN  UGDS_AIAN  UGDS_NHPI  \\\n",
       "INSTNM                                                                  \n",
       "Alabama A & M University                 0.0019     0.0024     0.0019   \n",
       "University of Alabama at Birmingham      0.0518     0.0022     0.0007   \n",
       "Amridge University                       0.0034     0.0000     0.0000   \n",
       "University of Alabama in Huntsville      0.0376     0.0143     0.0002   \n",
       "Alabama State University                 0.0019     0.0010     0.0006   \n",
       "\n",
       "                                     UGDS_2MOR  UGDS_NRA  UGDS_UNKN  \n",
       "INSTNM                                                               \n",
       "Alabama A & M University                0.0000    0.0059     0.0138  \n",
       "University of Alabama at Birmingham     0.0368    0.0179     0.0100  \n",
       "Amridge University                      0.0000    0.0000     0.2715  \n",
       "University of Alabama in Huntsville     0.0172    0.0332     0.0350  \n",
       "Alabama State University                0.0098    0.0243     0.0137  "
      ]
     },
     "execution_count": 96,
     "metadata": {},
     "output_type": "execute_result"
    }
   ],
   "source": [
    "# 6.8.1 college.csv로 부터 INSTNM을 인덱스로 하는 college를 load 하고, 인종 비율을 나타내는 \n",
    "#      UGDS_ 로 시작하는 컬럼으로만 구성 된 college_ugds를 생성한다. \n",
    "college = pd.read_csv('data/college.csv', index_col = 'INSTNM')\n",
    "college_ugds = college.filter(like = 'UGDS_')\n",
    "college_ugds.head()"
   ]
  },
  {
   "cell_type": "code",
   "execution_count": 97,
   "metadata": {},
   "outputs": [
    {
     "data": {
      "text/plain": [
       "INSTNM\n",
       "Alabama A & M University                                  UGDS_BLACK\n",
       "University of Alabama at Birmingham                       UGDS_WHITE\n",
       "Amridge University                                        UGDS_BLACK\n",
       "University of Alabama in Huntsville                       UGDS_WHITE\n",
       "Alabama State University                                  UGDS_BLACK\n",
       "                                                             ...    \n",
       "SAE Institute of Technology  San Francisco                       NaN\n",
       "Rasmussen College - Overland Park                                NaN\n",
       "National Personal Training Institute of Cleveland                NaN\n",
       "Bay Area Medical Academy - San Jose Satellite Location           NaN\n",
       "Excel Learning Center-San Antonio South                          NaN\n",
       "Length: 7535, dtype: object"
      ]
     },
     "execution_count": 97,
     "metadata": {},
     "output_type": "execute_result"
    }
   ],
   "source": [
    "# 6.8.2 각 행 별로 최대값을 갖는 열을 idxmax 메소드를 이용해서 구한다. \n",
    "#      이 때,  axis= 'columns'로 적용 축의 방향을 바꾼다. \n",
    "#       highest_percentage_race 라는 series를 구성한다. \n",
    "highest_percentage_race= college_ugds.idxmax(axis = 'columns')\n",
    "highest_percentage_race"
   ]
  },
  {
   "cell_type": "code",
   "execution_count": 98,
   "metadata": {},
   "outputs": [
    {
     "data": {
      "text/plain": [
       "UGDS_WHITE    0.670352\n",
       "UGDS_BLACK    0.151586\n",
       "UGDS_HISP     0.129473\n",
       "UGDS_UNKN     0.023422\n",
       "UGDS_ASIAN    0.012074\n",
       "UGDS_AIAN     0.006110\n",
       "UGDS_NRA      0.004073\n",
       "UGDS_NHPI     0.001746\n",
       "UGDS_2MOR     0.001164\n",
       "dtype: float64"
      ]
     },
     "execution_count": 98,
     "metadata": {},
     "output_type": "execute_result"
    }
   ],
   "source": [
    "# 6.8.3 highest_percentage_race의 value_counts(normalize = True) 로 \n",
    "#  최대 구성 인종의 분포를 구한다.  \n",
    "highest_percentage_race.value_counts(normalize = True)"
   ]
  },
  {
   "cell_type": "code",
   "execution_count": 104,
   "metadata": {},
   "outputs": [
    {
     "data": {
      "text/plain": [
       "UGDS_WHITE    4608\n",
       "UGDS_BLACK    1042\n",
       "UGDS_HISP      890\n",
       "UGDS_UNKN      161\n",
       "UGDS_ASIAN      83\n",
       "UGDS_AIAN       42\n",
       "UGDS_NRA        28\n",
       "UGDS_NHPI       12\n",
       "UGDS_2MOR        8\n",
       "dtype: int64"
      ]
     },
     "execution_count": 104,
     "metadata": {},
     "output_type": "execute_result"
    }
   ],
   "source": [
    "# 6.8.3 highest_percentage_race의 value_counts(normalize = True) 로 \n",
    "#  최대 구성 인종의 분포를 구한다.  \n",
    "highest_percentage_race.value_counts()"
   ]
  },
  {
   "cell_type": "markdown",
   "metadata": {},
   "source": [
    "## >> There's more 6.8"
   ]
  },
  {
   "cell_type": "code",
   "execution_count": 99,
   "metadata": {},
   "outputs": [
    {
     "data": {
      "text/html": [
       "<div>\n",
       "<style scoped>\n",
       "    .dataframe tbody tr th:only-of-type {\n",
       "        vertical-align: middle;\n",
       "    }\n",
       "\n",
       "    .dataframe tbody tr th {\n",
       "        vertical-align: top;\n",
       "    }\n",
       "\n",
       "    .dataframe thead th {\n",
       "        text-align: right;\n",
       "    }\n",
       "</style>\n",
       "<table border=\"1\" class=\"dataframe\">\n",
       "  <thead>\n",
       "    <tr style=\"text-align: right;\">\n",
       "      <th></th>\n",
       "      <th>UGDS_WHITE</th>\n",
       "      <th>UGDS_BLACK</th>\n",
       "      <th>UGDS_HISP</th>\n",
       "      <th>UGDS_ASIAN</th>\n",
       "      <th>UGDS_AIAN</th>\n",
       "      <th>UGDS_NHPI</th>\n",
       "      <th>UGDS_2MOR</th>\n",
       "      <th>UGDS_NRA</th>\n",
       "      <th>UGDS_UNKN</th>\n",
       "    </tr>\n",
       "    <tr>\n",
       "      <th>INSTNM</th>\n",
       "      <th></th>\n",
       "      <th></th>\n",
       "      <th></th>\n",
       "      <th></th>\n",
       "      <th></th>\n",
       "      <th></th>\n",
       "      <th></th>\n",
       "      <th></th>\n",
       "      <th></th>\n",
       "    </tr>\n",
       "  </thead>\n",
       "  <tbody>\n",
       "    <tr>\n",
       "      <td>Alabama A &amp; M University</td>\n",
       "      <td>0.0333</td>\n",
       "      <td>0.9353</td>\n",
       "      <td>0.0055</td>\n",
       "      <td>0.0019</td>\n",
       "      <td>0.0024</td>\n",
       "      <td>0.0019</td>\n",
       "      <td>0.0000</td>\n",
       "      <td>0.0059</td>\n",
       "      <td>0.0138</td>\n",
       "    </tr>\n",
       "    <tr>\n",
       "      <td>Amridge University</td>\n",
       "      <td>0.2990</td>\n",
       "      <td>0.4192</td>\n",
       "      <td>0.0069</td>\n",
       "      <td>0.0034</td>\n",
       "      <td>0.0000</td>\n",
       "      <td>0.0000</td>\n",
       "      <td>0.0000</td>\n",
       "      <td>0.0000</td>\n",
       "      <td>0.2715</td>\n",
       "    </tr>\n",
       "    <tr>\n",
       "      <td>Alabama State University</td>\n",
       "      <td>0.0158</td>\n",
       "      <td>0.9208</td>\n",
       "      <td>0.0121</td>\n",
       "      <td>0.0019</td>\n",
       "      <td>0.0010</td>\n",
       "      <td>0.0006</td>\n",
       "      <td>0.0098</td>\n",
       "      <td>0.0243</td>\n",
       "      <td>0.0137</td>\n",
       "    </tr>\n",
       "    <tr>\n",
       "      <td>Concordia College Alabama</td>\n",
       "      <td>0.0280</td>\n",
       "      <td>0.8758</td>\n",
       "      <td>0.0373</td>\n",
       "      <td>0.0093</td>\n",
       "      <td>0.0000</td>\n",
       "      <td>0.0000</td>\n",
       "      <td>0.0031</td>\n",
       "      <td>0.0466</td>\n",
       "      <td>0.0000</td>\n",
       "    </tr>\n",
       "    <tr>\n",
       "      <td>South University-Montgomery</td>\n",
       "      <td>0.3046</td>\n",
       "      <td>0.6054</td>\n",
       "      <td>0.0153</td>\n",
       "      <td>0.0153</td>\n",
       "      <td>0.0153</td>\n",
       "      <td>0.0096</td>\n",
       "      <td>0.0000</td>\n",
       "      <td>0.0019</td>\n",
       "      <td>0.0326</td>\n",
       "    </tr>\n",
       "    <tr>\n",
       "      <td>...</td>\n",
       "      <td>...</td>\n",
       "      <td>...</td>\n",
       "      <td>...</td>\n",
       "      <td>...</td>\n",
       "      <td>...</td>\n",
       "      <td>...</td>\n",
       "      <td>...</td>\n",
       "      <td>...</td>\n",
       "      <td>...</td>\n",
       "    </tr>\n",
       "    <tr>\n",
       "      <td>New Horizons Medical Institute-Winder</td>\n",
       "      <td>0.4175</td>\n",
       "      <td>0.5000</td>\n",
       "      <td>0.0388</td>\n",
       "      <td>0.0194</td>\n",
       "      <td>0.0000</td>\n",
       "      <td>0.0000</td>\n",
       "      <td>0.0049</td>\n",
       "      <td>0.0000</td>\n",
       "      <td>0.0194</td>\n",
       "    </tr>\n",
       "    <tr>\n",
       "      <td>SAE Institute of Technology-Chicago</td>\n",
       "      <td>0.2797</td>\n",
       "      <td>0.4576</td>\n",
       "      <td>0.1864</td>\n",
       "      <td>0.0085</td>\n",
       "      <td>0.0254</td>\n",
       "      <td>0.0000</td>\n",
       "      <td>0.0000</td>\n",
       "      <td>0.0085</td>\n",
       "      <td>0.0339</td>\n",
       "    </tr>\n",
       "    <tr>\n",
       "      <td>Fayette Beauty Academy-Ritz Beauty Academy</td>\n",
       "      <td>0.0000</td>\n",
       "      <td>1.0000</td>\n",
       "      <td>0.0000</td>\n",
       "      <td>0.0000</td>\n",
       "      <td>0.0000</td>\n",
       "      <td>0.0000</td>\n",
       "      <td>0.0000</td>\n",
       "      <td>0.0000</td>\n",
       "      <td>0.0000</td>\n",
       "    </tr>\n",
       "    <tr>\n",
       "      <td>National American University-Houston</td>\n",
       "      <td>0.1858</td>\n",
       "      <td>0.6443</td>\n",
       "      <td>0.0672</td>\n",
       "      <td>0.0079</td>\n",
       "      <td>0.0079</td>\n",
       "      <td>0.0000</td>\n",
       "      <td>0.0751</td>\n",
       "      <td>0.0000</td>\n",
       "      <td>0.0119</td>\n",
       "    </tr>\n",
       "    <tr>\n",
       "      <td>Hollywood Institute of Beauty Careers-West Palm Beach</td>\n",
       "      <td>0.2182</td>\n",
       "      <td>0.4182</td>\n",
       "      <td>0.2364</td>\n",
       "      <td>0.0182</td>\n",
       "      <td>0.0000</td>\n",
       "      <td>0.0000</td>\n",
       "      <td>0.0000</td>\n",
       "      <td>0.0182</td>\n",
       "      <td>0.0909</td>\n",
       "    </tr>\n",
       "  </tbody>\n",
       "</table>\n",
       "<p>1042 rows × 9 columns</p>\n",
       "</div>"
      ],
      "text/plain": [
       "                                                    UGDS_WHITE  UGDS_BLACK  \\\n",
       "INSTNM                                                                       \n",
       "Alabama A & M University                                0.0333      0.9353   \n",
       "Amridge University                                      0.2990      0.4192   \n",
       "Alabama State University                                0.0158      0.9208   \n",
       "Concordia College Alabama                               0.0280      0.8758   \n",
       "South University-Montgomery                             0.3046      0.6054   \n",
       "...                                                        ...         ...   \n",
       "New Horizons Medical Institute-Winder                   0.4175      0.5000   \n",
       "SAE Institute of Technology-Chicago                     0.2797      0.4576   \n",
       "Fayette Beauty Academy-Ritz Beauty Academy              0.0000      1.0000   \n",
       "National American University-Houston                    0.1858      0.6443   \n",
       "Hollywood Institute of Beauty Careers-West Palm...      0.2182      0.4182   \n",
       "\n",
       "                                                    UGDS_HISP  UGDS_ASIAN  \\\n",
       "INSTNM                                                                      \n",
       "Alabama A & M University                               0.0055      0.0019   \n",
       "Amridge University                                     0.0069      0.0034   \n",
       "Alabama State University                               0.0121      0.0019   \n",
       "Concordia College Alabama                              0.0373      0.0093   \n",
       "South University-Montgomery                            0.0153      0.0153   \n",
       "...                                                       ...         ...   \n",
       "New Horizons Medical Institute-Winder                  0.0388      0.0194   \n",
       "SAE Institute of Technology-Chicago                    0.1864      0.0085   \n",
       "Fayette Beauty Academy-Ritz Beauty Academy             0.0000      0.0000   \n",
       "National American University-Houston                   0.0672      0.0079   \n",
       "Hollywood Institute of Beauty Careers-West Palm...     0.2364      0.0182   \n",
       "\n",
       "                                                    UGDS_AIAN  UGDS_NHPI  \\\n",
       "INSTNM                                                                     \n",
       "Alabama A & M University                               0.0024     0.0019   \n",
       "Amridge University                                     0.0000     0.0000   \n",
       "Alabama State University                               0.0010     0.0006   \n",
       "Concordia College Alabama                              0.0000     0.0000   \n",
       "South University-Montgomery                            0.0153     0.0096   \n",
       "...                                                       ...        ...   \n",
       "New Horizons Medical Institute-Winder                  0.0000     0.0000   \n",
       "SAE Institute of Technology-Chicago                    0.0254     0.0000   \n",
       "Fayette Beauty Academy-Ritz Beauty Academy             0.0000     0.0000   \n",
       "National American University-Houston                   0.0079     0.0000   \n",
       "Hollywood Institute of Beauty Careers-West Palm...     0.0000     0.0000   \n",
       "\n",
       "                                                    UGDS_2MOR  UGDS_NRA  \\\n",
       "INSTNM                                                                    \n",
       "Alabama A & M University                               0.0000    0.0059   \n",
       "Amridge University                                     0.0000    0.0000   \n",
       "Alabama State University                               0.0098    0.0243   \n",
       "Concordia College Alabama                              0.0031    0.0466   \n",
       "South University-Montgomery                            0.0000    0.0019   \n",
       "...                                                       ...       ...   \n",
       "New Horizons Medical Institute-Winder                  0.0049    0.0000   \n",
       "SAE Institute of Technology-Chicago                    0.0000    0.0085   \n",
       "Fayette Beauty Academy-Ritz Beauty Academy             0.0000    0.0000   \n",
       "National American University-Houston                   0.0751    0.0000   \n",
       "Hollywood Institute of Beauty Careers-West Palm...     0.0000    0.0182   \n",
       "\n",
       "                                                    UGDS_UNKN  \n",
       "INSTNM                                                         \n",
       "Alabama A & M University                               0.0138  \n",
       "Amridge University                                     0.2715  \n",
       "Alabama State University                               0.0137  \n",
       "Concordia College Alabama                              0.0000  \n",
       "South University-Montgomery                            0.0326  \n",
       "...                                                       ...  \n",
       "New Horizons Medical Institute-Winder                  0.0194  \n",
       "SAE Institute of Technology-Chicago                    0.0339  \n",
       "Fayette Beauty Academy-Ritz Beauty Academy             0.0000  \n",
       "National American University-Houston                   0.0119  \n",
       "Hollywood Institute of Beauty Careers-West Palm...     0.0909  \n",
       "\n",
       "[1042 rows x 9 columns]"
      ]
     },
     "execution_count": 99,
     "metadata": {},
     "output_type": "execute_result"
    }
   ],
   "source": [
    "# 위 예제의 응용으로,  흑인이 가장 많은 학교에서 흑인 다음으로 많은 인종의 분포를 살펴보자. \n",
    "\n",
    "# 우선 흑인이 가장 많은 학교만 filter 추출 한다. \n",
    "college_black = college_ugds[highest_percentage_race== 'UGDS_BLACK']\n",
    "college_black"
   ]
  },
  {
   "cell_type": "code",
   "execution_count": 100,
   "metadata": {},
   "outputs": [
    {
     "data": {
      "text/html": [
       "<div>\n",
       "<style scoped>\n",
       "    .dataframe tbody tr th:only-of-type {\n",
       "        vertical-align: middle;\n",
       "    }\n",
       "\n",
       "    .dataframe tbody tr th {\n",
       "        vertical-align: top;\n",
       "    }\n",
       "\n",
       "    .dataframe thead th {\n",
       "        text-align: right;\n",
       "    }\n",
       "</style>\n",
       "<table border=\"1\" class=\"dataframe\">\n",
       "  <thead>\n",
       "    <tr style=\"text-align: right;\">\n",
       "      <th></th>\n",
       "      <th>UGDS_WHITE</th>\n",
       "      <th>UGDS_HISP</th>\n",
       "      <th>UGDS_ASIAN</th>\n",
       "      <th>UGDS_AIAN</th>\n",
       "      <th>UGDS_NHPI</th>\n",
       "      <th>UGDS_2MOR</th>\n",
       "      <th>UGDS_NRA</th>\n",
       "      <th>UGDS_UNKN</th>\n",
       "    </tr>\n",
       "    <tr>\n",
       "      <th>INSTNM</th>\n",
       "      <th></th>\n",
       "      <th></th>\n",
       "      <th></th>\n",
       "      <th></th>\n",
       "      <th></th>\n",
       "      <th></th>\n",
       "      <th></th>\n",
       "      <th></th>\n",
       "    </tr>\n",
       "  </thead>\n",
       "  <tbody>\n",
       "    <tr>\n",
       "      <td>Alabama A &amp; M University</td>\n",
       "      <td>0.0333</td>\n",
       "      <td>0.0055</td>\n",
       "      <td>0.0019</td>\n",
       "      <td>0.0024</td>\n",
       "      <td>0.0019</td>\n",
       "      <td>0.0000</td>\n",
       "      <td>0.0059</td>\n",
       "      <td>0.0138</td>\n",
       "    </tr>\n",
       "    <tr>\n",
       "      <td>Amridge University</td>\n",
       "      <td>0.2990</td>\n",
       "      <td>0.0069</td>\n",
       "      <td>0.0034</td>\n",
       "      <td>0.0000</td>\n",
       "      <td>0.0000</td>\n",
       "      <td>0.0000</td>\n",
       "      <td>0.0000</td>\n",
       "      <td>0.2715</td>\n",
       "    </tr>\n",
       "    <tr>\n",
       "      <td>Alabama State University</td>\n",
       "      <td>0.0158</td>\n",
       "      <td>0.0121</td>\n",
       "      <td>0.0019</td>\n",
       "      <td>0.0010</td>\n",
       "      <td>0.0006</td>\n",
       "      <td>0.0098</td>\n",
       "      <td>0.0243</td>\n",
       "      <td>0.0137</td>\n",
       "    </tr>\n",
       "    <tr>\n",
       "      <td>Concordia College Alabama</td>\n",
       "      <td>0.0280</td>\n",
       "      <td>0.0373</td>\n",
       "      <td>0.0093</td>\n",
       "      <td>0.0000</td>\n",
       "      <td>0.0000</td>\n",
       "      <td>0.0031</td>\n",
       "      <td>0.0466</td>\n",
       "      <td>0.0000</td>\n",
       "    </tr>\n",
       "    <tr>\n",
       "      <td>South University-Montgomery</td>\n",
       "      <td>0.3046</td>\n",
       "      <td>0.0153</td>\n",
       "      <td>0.0153</td>\n",
       "      <td>0.0153</td>\n",
       "      <td>0.0096</td>\n",
       "      <td>0.0000</td>\n",
       "      <td>0.0019</td>\n",
       "      <td>0.0326</td>\n",
       "    </tr>\n",
       "    <tr>\n",
       "      <td>...</td>\n",
       "      <td>...</td>\n",
       "      <td>...</td>\n",
       "      <td>...</td>\n",
       "      <td>...</td>\n",
       "      <td>...</td>\n",
       "      <td>...</td>\n",
       "      <td>...</td>\n",
       "      <td>...</td>\n",
       "    </tr>\n",
       "    <tr>\n",
       "      <td>New Horizons Medical Institute-Winder</td>\n",
       "      <td>0.4175</td>\n",
       "      <td>0.0388</td>\n",
       "      <td>0.0194</td>\n",
       "      <td>0.0000</td>\n",
       "      <td>0.0000</td>\n",
       "      <td>0.0049</td>\n",
       "      <td>0.0000</td>\n",
       "      <td>0.0194</td>\n",
       "    </tr>\n",
       "    <tr>\n",
       "      <td>SAE Institute of Technology-Chicago</td>\n",
       "      <td>0.2797</td>\n",
       "      <td>0.1864</td>\n",
       "      <td>0.0085</td>\n",
       "      <td>0.0254</td>\n",
       "      <td>0.0000</td>\n",
       "      <td>0.0000</td>\n",
       "      <td>0.0085</td>\n",
       "      <td>0.0339</td>\n",
       "    </tr>\n",
       "    <tr>\n",
       "      <td>Fayette Beauty Academy-Ritz Beauty Academy</td>\n",
       "      <td>0.0000</td>\n",
       "      <td>0.0000</td>\n",
       "      <td>0.0000</td>\n",
       "      <td>0.0000</td>\n",
       "      <td>0.0000</td>\n",
       "      <td>0.0000</td>\n",
       "      <td>0.0000</td>\n",
       "      <td>0.0000</td>\n",
       "    </tr>\n",
       "    <tr>\n",
       "      <td>National American University-Houston</td>\n",
       "      <td>0.1858</td>\n",
       "      <td>0.0672</td>\n",
       "      <td>0.0079</td>\n",
       "      <td>0.0079</td>\n",
       "      <td>0.0000</td>\n",
       "      <td>0.0751</td>\n",
       "      <td>0.0000</td>\n",
       "      <td>0.0119</td>\n",
       "    </tr>\n",
       "    <tr>\n",
       "      <td>Hollywood Institute of Beauty Careers-West Palm Beach</td>\n",
       "      <td>0.2182</td>\n",
       "      <td>0.2364</td>\n",
       "      <td>0.0182</td>\n",
       "      <td>0.0000</td>\n",
       "      <td>0.0000</td>\n",
       "      <td>0.0000</td>\n",
       "      <td>0.0182</td>\n",
       "      <td>0.0909</td>\n",
       "    </tr>\n",
       "  </tbody>\n",
       "</table>\n",
       "<p>1042 rows × 8 columns</p>\n",
       "</div>"
      ],
      "text/plain": [
       "                                                    UGDS_WHITE  UGDS_HISP  \\\n",
       "INSTNM                                                                      \n",
       "Alabama A & M University                                0.0333     0.0055   \n",
       "Amridge University                                      0.2990     0.0069   \n",
       "Alabama State University                                0.0158     0.0121   \n",
       "Concordia College Alabama                               0.0280     0.0373   \n",
       "South University-Montgomery                             0.3046     0.0153   \n",
       "...                                                        ...        ...   \n",
       "New Horizons Medical Institute-Winder                   0.4175     0.0388   \n",
       "SAE Institute of Technology-Chicago                     0.2797     0.1864   \n",
       "Fayette Beauty Academy-Ritz Beauty Academy              0.0000     0.0000   \n",
       "National American University-Houston                    0.1858     0.0672   \n",
       "Hollywood Institute of Beauty Careers-West Palm...      0.2182     0.2364   \n",
       "\n",
       "                                                    UGDS_ASIAN  UGDS_AIAN  \\\n",
       "INSTNM                                                                      \n",
       "Alabama A & M University                                0.0019     0.0024   \n",
       "Amridge University                                      0.0034     0.0000   \n",
       "Alabama State University                                0.0019     0.0010   \n",
       "Concordia College Alabama                               0.0093     0.0000   \n",
       "South University-Montgomery                             0.0153     0.0153   \n",
       "...                                                        ...        ...   \n",
       "New Horizons Medical Institute-Winder                   0.0194     0.0000   \n",
       "SAE Institute of Technology-Chicago                     0.0085     0.0254   \n",
       "Fayette Beauty Academy-Ritz Beauty Academy              0.0000     0.0000   \n",
       "National American University-Houston                    0.0079     0.0079   \n",
       "Hollywood Institute of Beauty Careers-West Palm...      0.0182     0.0000   \n",
       "\n",
       "                                                    UGDS_NHPI  UGDS_2MOR  \\\n",
       "INSTNM                                                                     \n",
       "Alabama A & M University                               0.0019     0.0000   \n",
       "Amridge University                                     0.0000     0.0000   \n",
       "Alabama State University                               0.0006     0.0098   \n",
       "Concordia College Alabama                              0.0000     0.0031   \n",
       "South University-Montgomery                            0.0096     0.0000   \n",
       "...                                                       ...        ...   \n",
       "New Horizons Medical Institute-Winder                  0.0000     0.0049   \n",
       "SAE Institute of Technology-Chicago                    0.0000     0.0000   \n",
       "Fayette Beauty Academy-Ritz Beauty Academy             0.0000     0.0000   \n",
       "National American University-Houston                   0.0000     0.0751   \n",
       "Hollywood Institute of Beauty Careers-West Palm...     0.0000     0.0000   \n",
       "\n",
       "                                                    UGDS_NRA  UGDS_UNKN  \n",
       "INSTNM                                                                   \n",
       "Alabama A & M University                              0.0059     0.0138  \n",
       "Amridge University                                    0.0000     0.2715  \n",
       "Alabama State University                              0.0243     0.0137  \n",
       "Concordia College Alabama                             0.0466     0.0000  \n",
       "South University-Montgomery                           0.0019     0.0326  \n",
       "...                                                      ...        ...  \n",
       "New Horizons Medical Institute-Winder                 0.0000     0.0194  \n",
       "SAE Institute of Technology-Chicago                   0.0085     0.0339  \n",
       "Fayette Beauty Academy-Ritz Beauty Academy            0.0000     0.0000  \n",
       "National American University-Houston                  0.0000     0.0119  \n",
       "Hollywood Institute of Beauty Careers-West Palm...    0.0182     0.0909  \n",
       "\n",
       "[1042 rows x 8 columns]"
      ]
     },
     "execution_count": 100,
     "metadata": {},
     "output_type": "execute_result"
    }
   ],
   "source": [
    "# 해당 학교 df에서 UGDS_BLACK 컬럼을 삭제한다. (1등 컬럼의 제거)\n",
    "college_black=college_black.drop ('UGDS_BLACK', axis = 'columns')\n",
    "college_black"
   ]
  },
  {
   "cell_type": "code",
   "execution_count": 101,
   "metadata": {
    "scrolled": false
   },
   "outputs": [
    {
     "data": {
      "text/plain": [
       "INSTNM\n",
       "Alabama A & M University                                 UGDS_WHITE\n",
       "Amridge University                                       UGDS_WHITE\n",
       "Alabama State University                                   UGDS_NRA\n",
       "Concordia College Alabama                                  UGDS_NRA\n",
       "South University-Montgomery                              UGDS_WHITE\n",
       "                                                            ...    \n",
       "New Horizons Medical Institute-Winder                    UGDS_WHITE\n",
       "SAE Institute of Technology-Chicago                      UGDS_WHITE\n",
       "Fayette Beauty Academy-Ritz Beauty Academy               UGDS_WHITE\n",
       "National American University-Houston                     UGDS_WHITE\n",
       "Hollywood Institute of Beauty Careers-West Palm Beach     UGDS_HISP\n",
       "Length: 1042, dtype: object"
      ]
     },
     "execution_count": 101,
     "metadata": {},
     "output_type": "execute_result"
    }
   ],
   "source": [
    "# 다시 행별로 어느 컬럼이 최대값을 갖는지, idxmax(axis = 'columns')를 이용해서 구한다. \n",
    "college_black.idxmax(axis = 'columns')"
   ]
  },
  {
   "cell_type": "code",
   "execution_count": 102,
   "metadata": {
    "scrolled": false
   },
   "outputs": [
    {
     "data": {
      "text/plain": [
       "UGDS_WHITE    0.661228\n",
       "UGDS_HISP     0.230326\n",
       "UGDS_UNKN     0.071977\n",
       "UGDS_NRA      0.018234\n",
       "UGDS_ASIAN    0.009597\n",
       "UGDS_2MOR     0.006718\n",
       "UGDS_AIAN     0.000960\n",
       "UGDS_NHPI     0.000960\n",
       "dtype: float64"
      ]
     },
     "execution_count": 102,
     "metadata": {},
     "output_type": "execute_result"
    }
   ],
   "source": [
    "# 여기에 .value_counts(normalize = True)를 적용하여 다음으로 많은 인종의 분포를 살펴본다. \n",
    "college_black.idxmax(axis = 'columns').value_counts(normalize = True)"
   ]
  }
 ],
 "metadata": {
  "kernelspec": {
   "display_name": "Python 3",
   "language": "python",
   "name": "python3"
  },
  "language_info": {
   "codemirror_mode": {
    "name": "ipython",
    "version": 3
   },
   "file_extension": ".py",
   "mimetype": "text/x-python",
   "name": "python",
   "nbconvert_exporter": "python",
   "pygments_lexer": "ipython3",
   "version": "3.7.4"
  }
 },
 "nbformat": 4,
 "nbformat_minor": 2
}
